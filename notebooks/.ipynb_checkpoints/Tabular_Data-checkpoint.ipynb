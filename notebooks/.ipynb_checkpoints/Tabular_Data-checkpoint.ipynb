{
 "cells": [
  {
   "cell_type": "code",
   "execution_count": 132,
   "metadata": {},
   "outputs": [],
   "source": [
    "import numpy as np\n",
    "import pandas as pd"
   ]
  },
  {
   "cell_type": "code",
   "execution_count": 133,
   "metadata": {},
   "outputs": [
    {
     "name": "stderr",
     "output_type": "stream",
     "text": [
      "C:\\Users\\efim6\\AppData\\Local\\Temp\\ipykernel_21436\\1523111444.py:1: DtypeWarning: Columns (51,52) have mixed types. Specify dtype option on import or set low_memory=False.\n",
      "  train = pd.read_csv(\"../../../train-metadata.csv\")\n"
     ]
    }
   ],
   "source": [
    "train = pd.read_csv(\"../../../train-metadata.csv\")\n",
    "test = pd.read_csv(\"../../../test-metadata.csv\")"
   ]
  },
  {
   "cell_type": "code",
   "execution_count": 134,
   "metadata": {},
   "outputs": [
    {
     "data": {
      "text/plain": [
       "(401059, 55)"
      ]
     },
     "execution_count": 134,
     "metadata": {},
     "output_type": "execute_result"
    }
   ],
   "source": [
    "train.shape"
   ]
  },
  {
   "cell_type": "code",
   "execution_count": 135,
   "metadata": {},
   "outputs": [],
   "source": [
    "y = train[\"target\"]"
   ]
  },
  {
   "cell_type": "code",
   "execution_count": 136,
   "metadata": {},
   "outputs": [
    {
     "data": {
      "text/plain": [
       "(3, 44)"
      ]
     },
     "execution_count": 136,
     "metadata": {},
     "output_type": "execute_result"
    }
   ],
   "source": [
    "test.shape"
   ]
  },
  {
   "cell_type": "markdown",
   "metadata": {},
   "source": [
    "Test has fewer columns than train - only use the intersection so that we can apply to test data <br>"
   ]
  },
  {
   "cell_type": "code",
   "execution_count": 137,
   "metadata": {},
   "outputs": [
    {
     "data": {
      "text/plain": [
       "44"
      ]
     },
     "execution_count": 137,
     "metadata": {},
     "output_type": "execute_result"
    }
   ],
   "source": [
    "shared_cols = set(train.columns).intersection(set(test.columns))\n",
    "len(shared_cols)"
   ]
  },
  {
   "cell_type": "markdown",
   "metadata": {},
   "source": [
    "Use second line in the next cell if you want to use all columns instead."
   ]
  },
  {
   "cell_type": "code",
   "execution_count": 138,
   "metadata": {},
   "outputs": [
    {
     "data": {
      "text/plain": [
       "(401059, 54)"
      ]
     },
     "execution_count": 138,
     "metadata": {},
     "output_type": "execute_result"
    }
   ],
   "source": [
    "# train_trim = train[list(shared_cols)]\n",
    "train_trim = train.drop(\"target\", axis=1)\n",
    "train_trim.shape"
   ]
  },
  {
   "cell_type": "markdown",
   "metadata": {},
   "source": [
    "String columns"
   ]
  },
  {
   "cell_type": "code",
   "execution_count": 139,
   "metadata": {},
   "outputs": [
    {
     "data": {
      "text/plain": [
       "18"
      ]
     },
     "execution_count": 139,
     "metadata": {},
     "output_type": "execute_result"
    }
   ],
   "source": [
    "len(train_trim.select_dtypes(include=\"object\").columns)"
   ]
  },
  {
   "cell_type": "markdown",
   "metadata": {},
   "source": [
    "Number columns"
   ]
  },
  {
   "cell_type": "code",
   "execution_count": 140,
   "metadata": {},
   "outputs": [
    {
     "data": {
      "text/plain": [
       "36"
      ]
     },
     "execution_count": 140,
     "metadata": {},
     "output_type": "execute_result"
    }
   ],
   "source": [
    "len(train_trim.select_dtypes(include=\"number\").columns)"
   ]
  },
  {
   "cell_type": "markdown",
   "metadata": {},
   "source": [
    "Null checking"
   ]
  },
  {
   "cell_type": "code",
   "execution_count": 141,
   "metadata": {},
   "outputs": [
    {
     "data": {
      "text/plain": [
       "isic_id                0.000000\n",
       "patient_id             0.000000\n",
       "age_approx             0.697653\n",
       "sex                    2.871647\n",
       "anatom_site_general    1.435200\n",
       "dtype: float64"
      ]
     },
     "execution_count": 141,
     "metadata": {},
     "output_type": "execute_result"
    }
   ],
   "source": [
    "nulls = train_trim.apply(lambda col: col.isnull().sum() / col.size * 100)\n",
    "nulls.head()"
   ]
  },
  {
   "cell_type": "markdown",
   "metadata": {},
   "source": [
    "Columns with nulls"
   ]
  },
  {
   "cell_type": "code",
   "execution_count": 142,
   "metadata": {},
   "outputs": [
    {
     "data": {
      "text/plain": [
       "age_approx              0.697653\n",
       "sex                     2.871647\n",
       "anatom_site_general     1.435200\n",
       "lesion_id              94.500061\n",
       "iddx_2                 99.733705\n",
       "iddx_3                 99.734453\n",
       "iddx_4                 99.862614\n",
       "iddx_5                 99.999751\n",
       "mel_mitotic_index      99.986785\n",
       "mel_thick_mm           99.984292\n",
       "dtype: float64"
      ]
     },
     "execution_count": 142,
     "metadata": {},
     "output_type": "execute_result"
    }
   ],
   "source": [
    "nulls[nulls > 0]"
   ]
  },
  {
   "cell_type": "markdown",
   "metadata": {},
   "source": [
    "Dropping rows with null age. Sex handled later, anatom_site_general not used."
   ]
  },
  {
   "cell_type": "code",
   "execution_count": 143,
   "metadata": {},
   "outputs": [],
   "source": [
    "train_trim = train_trim.dropna(subset=['age_approx'])"
   ]
  },
  {
   "cell_type": "markdown",
   "metadata": {},
   "source": [
    "Extract string columns"
   ]
  },
  {
   "cell_type": "code",
   "execution_count": 144,
   "metadata": {},
   "outputs": [
    {
     "data": {
      "text/html": [
       "<div>\n",
       "<style scoped>\n",
       "    .dataframe tbody tr th:only-of-type {\n",
       "        vertical-align: middle;\n",
       "    }\n",
       "\n",
       "    .dataframe tbody tr th {\n",
       "        vertical-align: top;\n",
       "    }\n",
       "\n",
       "    .dataframe thead th {\n",
       "        text-align: right;\n",
       "    }\n",
       "</style>\n",
       "<table border=\"1\" class=\"dataframe\">\n",
       "  <thead>\n",
       "    <tr style=\"text-align: right;\">\n",
       "      <th></th>\n",
       "      <th>isic_id</th>\n",
       "      <th>patient_id</th>\n",
       "      <th>sex</th>\n",
       "      <th>anatom_site_general</th>\n",
       "      <th>image_type</th>\n",
       "      <th>tbp_tile_type</th>\n",
       "      <th>tbp_lv_location</th>\n",
       "      <th>tbp_lv_location_simple</th>\n",
       "      <th>attribution</th>\n",
       "      <th>copyright_license</th>\n",
       "      <th>lesion_id</th>\n",
       "      <th>iddx_full</th>\n",
       "      <th>iddx_1</th>\n",
       "      <th>iddx_2</th>\n",
       "      <th>iddx_3</th>\n",
       "      <th>iddx_4</th>\n",
       "      <th>iddx_5</th>\n",
       "      <th>mel_mitotic_index</th>\n",
       "    </tr>\n",
       "  </thead>\n",
       "  <tbody>\n",
       "    <tr>\n",
       "      <th>0</th>\n",
       "      <td>ISIC_0015670</td>\n",
       "      <td>IP_1235828</td>\n",
       "      <td>male</td>\n",
       "      <td>lower extremity</td>\n",
       "      <td>TBP tile: close-up</td>\n",
       "      <td>3D: white</td>\n",
       "      <td>Right Leg - Upper</td>\n",
       "      <td>Right Leg</td>\n",
       "      <td>Memorial Sloan Kettering Cancer Center</td>\n",
       "      <td>CC-BY</td>\n",
       "      <td>NaN</td>\n",
       "      <td>Benign</td>\n",
       "      <td>Benign</td>\n",
       "      <td>NaN</td>\n",
       "      <td>NaN</td>\n",
       "      <td>NaN</td>\n",
       "      <td>NaN</td>\n",
       "      <td>NaN</td>\n",
       "    </tr>\n",
       "    <tr>\n",
       "      <th>1</th>\n",
       "      <td>ISIC_0015845</td>\n",
       "      <td>IP_8170065</td>\n",
       "      <td>male</td>\n",
       "      <td>head/neck</td>\n",
       "      <td>TBP tile: close-up</td>\n",
       "      <td>3D: white</td>\n",
       "      <td>Head &amp; Neck</td>\n",
       "      <td>Head &amp; Neck</td>\n",
       "      <td>Memorial Sloan Kettering Cancer Center</td>\n",
       "      <td>CC-BY</td>\n",
       "      <td>IL_6727506</td>\n",
       "      <td>Benign</td>\n",
       "      <td>Benign</td>\n",
       "      <td>NaN</td>\n",
       "      <td>NaN</td>\n",
       "      <td>NaN</td>\n",
       "      <td>NaN</td>\n",
       "      <td>NaN</td>\n",
       "    </tr>\n",
       "    <tr>\n",
       "      <th>2</th>\n",
       "      <td>ISIC_0015864</td>\n",
       "      <td>IP_6724798</td>\n",
       "      <td>male</td>\n",
       "      <td>posterior torso</td>\n",
       "      <td>TBP tile: close-up</td>\n",
       "      <td>3D: XP</td>\n",
       "      <td>Torso Back Top Third</td>\n",
       "      <td>Torso Back</td>\n",
       "      <td>Memorial Sloan Kettering Cancer Center</td>\n",
       "      <td>CC-BY</td>\n",
       "      <td>NaN</td>\n",
       "      <td>Benign</td>\n",
       "      <td>Benign</td>\n",
       "      <td>NaN</td>\n",
       "      <td>NaN</td>\n",
       "      <td>NaN</td>\n",
       "      <td>NaN</td>\n",
       "      <td>NaN</td>\n",
       "    </tr>\n",
       "    <tr>\n",
       "      <th>3</th>\n",
       "      <td>ISIC_0015902</td>\n",
       "      <td>IP_4111386</td>\n",
       "      <td>male</td>\n",
       "      <td>anterior torso</td>\n",
       "      <td>TBP tile: close-up</td>\n",
       "      <td>3D: XP</td>\n",
       "      <td>Torso Front Top Half</td>\n",
       "      <td>Torso Front</td>\n",
       "      <td>ACEMID MIA</td>\n",
       "      <td>CC-0</td>\n",
       "      <td>NaN</td>\n",
       "      <td>Benign</td>\n",
       "      <td>Benign</td>\n",
       "      <td>NaN</td>\n",
       "      <td>NaN</td>\n",
       "      <td>NaN</td>\n",
       "      <td>NaN</td>\n",
       "      <td>NaN</td>\n",
       "    </tr>\n",
       "    <tr>\n",
       "      <th>4</th>\n",
       "      <td>ISIC_0024200</td>\n",
       "      <td>IP_8313778</td>\n",
       "      <td>male</td>\n",
       "      <td>anterior torso</td>\n",
       "      <td>TBP tile: close-up</td>\n",
       "      <td>3D: white</td>\n",
       "      <td>Torso Front Top Half</td>\n",
       "      <td>Torso Front</td>\n",
       "      <td>Memorial Sloan Kettering Cancer Center</td>\n",
       "      <td>CC-BY</td>\n",
       "      <td>NaN</td>\n",
       "      <td>Benign</td>\n",
       "      <td>Benign</td>\n",
       "      <td>NaN</td>\n",
       "      <td>NaN</td>\n",
       "      <td>NaN</td>\n",
       "      <td>NaN</td>\n",
       "      <td>NaN</td>\n",
       "    </tr>\n",
       "  </tbody>\n",
       "</table>\n",
       "</div>"
      ],
      "text/plain": [
       "        isic_id  patient_id   sex anatom_site_general          image_type  \\\n",
       "0  ISIC_0015670  IP_1235828  male     lower extremity  TBP tile: close-up   \n",
       "1  ISIC_0015845  IP_8170065  male           head/neck  TBP tile: close-up   \n",
       "2  ISIC_0015864  IP_6724798  male     posterior torso  TBP tile: close-up   \n",
       "3  ISIC_0015902  IP_4111386  male      anterior torso  TBP tile: close-up   \n",
       "4  ISIC_0024200  IP_8313778  male      anterior torso  TBP tile: close-up   \n",
       "\n",
       "  tbp_tile_type       tbp_lv_location tbp_lv_location_simple  \\\n",
       "0     3D: white     Right Leg - Upper              Right Leg   \n",
       "1     3D: white           Head & Neck            Head & Neck   \n",
       "2        3D: XP  Torso Back Top Third             Torso Back   \n",
       "3        3D: XP  Torso Front Top Half            Torso Front   \n",
       "4     3D: white  Torso Front Top Half            Torso Front   \n",
       "\n",
       "                              attribution copyright_license   lesion_id  \\\n",
       "0  Memorial Sloan Kettering Cancer Center             CC-BY         NaN   \n",
       "1  Memorial Sloan Kettering Cancer Center             CC-BY  IL_6727506   \n",
       "2  Memorial Sloan Kettering Cancer Center             CC-BY         NaN   \n",
       "3                              ACEMID MIA              CC-0         NaN   \n",
       "4  Memorial Sloan Kettering Cancer Center             CC-BY         NaN   \n",
       "\n",
       "  iddx_full  iddx_1 iddx_2 iddx_3 iddx_4 iddx_5 mel_mitotic_index  \n",
       "0    Benign  Benign    NaN    NaN    NaN    NaN               NaN  \n",
       "1    Benign  Benign    NaN    NaN    NaN    NaN               NaN  \n",
       "2    Benign  Benign    NaN    NaN    NaN    NaN               NaN  \n",
       "3    Benign  Benign    NaN    NaN    NaN    NaN               NaN  \n",
       "4    Benign  Benign    NaN    NaN    NaN    NaN               NaN  "
      ]
     },
     "execution_count": 144,
     "metadata": {},
     "output_type": "execute_result"
    }
   ],
   "source": [
    "string_cols = train_trim.select_dtypes(include=\"object\")\n",
    "string_cols.head()"
   ]
  },
  {
   "cell_type": "markdown",
   "metadata": {},
   "source": [
    "Check for constant-value columns"
   ]
  },
  {
   "cell_type": "code",
   "execution_count": 145,
   "metadata": {},
   "outputs": [
    {
     "data": {
      "text/plain": [
       "isic_id                   [ISIC_0015670, ISIC_0015845, ISIC_0015864, ISI...\n",
       "patient_id                [IP_1235828, IP_8170065, IP_6724798, IP_411138...\n",
       "sex                                                     [male, female, nan]\n",
       "anatom_site_general       [lower extremity, head/neck, posterior torso, ...\n",
       "image_type                                             [TBP tile: close-up]\n",
       "tbp_tile_type                                           [3D: white, 3D: XP]\n",
       "tbp_lv_location           [Right Leg - Upper, Head & Neck, Torso Back To...\n",
       "tbp_lv_location_simple    [Right Leg, Head & Neck, Torso Back, Torso Fro...\n",
       "attribution               [Memorial Sloan Kettering Cancer Center, ACEMI...\n",
       "copyright_license                                   [CC-BY, CC-0, CC-BY-NC]\n",
       "lesion_id                 [nan, IL_6727506, IL_3854228, IL_9898853, IL_2...\n",
       "iddx_full                 [Benign, Benign::Benign epidermal proliferatio...\n",
       "iddx_1                                   [Benign, Malignant, Indeterminate]\n",
       "iddx_2                    [nan, Benign epidermal proliferations, Benign ...\n",
       "iddx_3                    [nan, Lichen planus like keratosis, Nevus, Squ...\n",
       "iddx_4                    [nan, Nevus, NOS, Junctional, Basal cell carci...\n",
       "iddx_5                                          [nan, Blue nevus, Cellular]\n",
       "mel_mitotic_index         [nan, 4/mm^2, 0/mm^2, 3/mm^2, <1/mm^2, 2/mm^2,...\n",
       "dtype: object"
      ]
     },
     "execution_count": 145,
     "metadata": {},
     "output_type": "execute_result"
    }
   ],
   "source": [
    "string_cols.apply(lambda row: row.unique())"
   ]
  },
  {
   "cell_type": "markdown",
   "metadata": {},
   "source": [
    "Drop ID and other useless string columns"
   ]
  },
  {
   "cell_type": "code",
   "execution_count": 146,
   "metadata": {},
   "outputs": [
    {
     "data": {
      "text/plain": [
       "{'anatom_site_general',\n",
       " 'iddx_1',\n",
       " 'iddx_2',\n",
       " 'iddx_3',\n",
       " 'iddx_4',\n",
       " 'iddx_5',\n",
       " 'iddx_full',\n",
       " 'lesion_id',\n",
       " 'mel_mitotic_index',\n",
       " 'sex',\n",
       " 'tbp_lv_location',\n",
       " 'tbp_lv_location_simple'}"
      ]
     },
     "execution_count": 146,
     "metadata": {},
     "output_type": "execute_result"
    }
   ],
   "source": [
    "to_drop = [\"tbp_tile_type\", \"copyright_license\", \"isic_id\", \"patient_id\", \"attribution\", \"image_type\"]\n",
    "set(string_cols.columns).difference(set(to_drop))"
   ]
  },
  {
   "cell_type": "markdown",
   "metadata": {},
   "source": [
    "3 location columns, increasing specificity. Using the middle one for one-hot encoding"
   ]
  },
  {
   "cell_type": "code",
   "execution_count": 147,
   "metadata": {},
   "outputs": [
    {
     "data": {
      "text/plain": [
       "anatom_site_general\n",
       "posterior torso    121143\n",
       "lower extremity    102071\n",
       "anterior torso      87256\n",
       "upper extremity     70088\n",
       "head/neck           11962\n",
       "Name: count, dtype: int64"
      ]
     },
     "execution_count": 147,
     "metadata": {},
     "output_type": "execute_result"
    }
   ],
   "source": [
    "string_cols[\"anatom_site_general\"].value_counts()"
   ]
  },
  {
   "cell_type": "code",
   "execution_count": 148,
   "metadata": {},
   "outputs": [
    {
     "data": {
      "text/plain": [
       "tbp_lv_location_simple\n",
       "Torso Back     121143\n",
       "Torso Front     87256\n",
       "Left Leg        52633\n",
       "Right Leg       49438\n",
       "Left Arm        36124\n",
       "Right Arm       33964\n",
       "Head & Neck     11962\n",
       "Unknown          5741\n",
       "Name: count, dtype: int64"
      ]
     },
     "execution_count": 148,
     "metadata": {},
     "output_type": "execute_result"
    }
   ],
   "source": [
    "string_cols[\"tbp_lv_location_simple\"].value_counts()"
   ]
  },
  {
   "cell_type": "code",
   "execution_count": 149,
   "metadata": {},
   "outputs": [
    {
     "data": {
      "text/plain": [
       "tbp_lv_location\n",
       "Torso Back Top Third       70703\n",
       "Torso Front Top Half       62991\n",
       "Torso Back Middle Third    45859\n",
       "Left Leg - Lower           27205\n",
       "Right Leg - Lower          25008\n",
       "Torso Front Bottom Half    24205\n",
       "Left Leg - Upper           23454\n",
       "Right Arm - Upper          22849\n",
       "Right Leg - Upper          22719\n",
       "Left Arm - Upper           22713\n",
       "Head & Neck                11962\n",
       "Left Arm - Lower           11820\n",
       "Right Arm - Lower          10514\n",
       "Unknown                     5741\n",
       "Torso Back Bottom Third     4572\n",
       "Left Leg                    1974\n",
       "Right Leg                   1711\n",
       "Left Arm                    1591\n",
       "Right Arm                    601\n",
       "Torso Front                   60\n",
       "Torso Back                     9\n",
       "Name: count, dtype: int64"
      ]
     },
     "execution_count": 149,
     "metadata": {},
     "output_type": "execute_result"
    }
   ],
   "source": [
    "string_cols[\"tbp_lv_location\"].value_counts()"
   ]
  },
  {
   "cell_type": "markdown",
   "metadata": {},
   "source": [
    "One-hot encoding the sex column. Using a vector of length 2 here to account for the NaaNs - when the value is \"unknown\", the vector is [0, 0]. Alternatively, we could drop all NaaN rows and use a single indicator column."
   ]
  },
  {
   "cell_type": "code",
   "execution_count": 150,
   "metadata": {},
   "outputs": [],
   "source": [
    "male_indicator = string_cols[\"sex\"].apply(lambda s: int(s == \"male\" and not s == \"unknown\"))\n",
    "male_indicator.name = \"Male\"\n",
    "female_indicator = string_cols[\"sex\"].apply(lambda s: int(s == \"female\" and not s == \"unknown\"))\n",
    "female_indicator.name = \"Female\""
   ]
  },
  {
   "cell_type": "code",
   "execution_count": 151,
   "metadata": {},
   "outputs": [
    {
     "data": {
      "text/html": [
       "<div>\n",
       "<style scoped>\n",
       "    .dataframe tbody tr th:only-of-type {\n",
       "        vertical-align: middle;\n",
       "    }\n",
       "\n",
       "    .dataframe tbody tr th {\n",
       "        vertical-align: top;\n",
       "    }\n",
       "\n",
       "    .dataframe thead th {\n",
       "        text-align: right;\n",
       "    }\n",
       "</style>\n",
       "<table border=\"1\" class=\"dataframe\">\n",
       "  <thead>\n",
       "    <tr style=\"text-align: right;\">\n",
       "      <th></th>\n",
       "      <th>Male</th>\n",
       "      <th>Female</th>\n",
       "    </tr>\n",
       "  </thead>\n",
       "  <tbody>\n",
       "    <tr>\n",
       "      <th>401054</th>\n",
       "      <td>1</td>\n",
       "      <td>0</td>\n",
       "    </tr>\n",
       "    <tr>\n",
       "      <th>401055</th>\n",
       "      <td>1</td>\n",
       "      <td>0</td>\n",
       "    </tr>\n",
       "    <tr>\n",
       "      <th>401056</th>\n",
       "      <td>0</td>\n",
       "      <td>1</td>\n",
       "    </tr>\n",
       "    <tr>\n",
       "      <th>401057</th>\n",
       "      <td>0</td>\n",
       "      <td>1</td>\n",
       "    </tr>\n",
       "    <tr>\n",
       "      <th>401058</th>\n",
       "      <td>1</td>\n",
       "      <td>0</td>\n",
       "    </tr>\n",
       "  </tbody>\n",
       "</table>\n",
       "</div>"
      ],
      "text/plain": [
       "        Male  Female\n",
       "401054     1       0\n",
       "401055     1       0\n",
       "401056     0       1\n",
       "401057     0       1\n",
       "401058     1       0"
      ]
     },
     "execution_count": 151,
     "metadata": {},
     "output_type": "execute_result"
    }
   ],
   "source": [
    "numerical_sex = pd.concat([male_indicator, female_indicator], axis=1)\n",
    "numerical_sex.tail()"
   ]
  },
  {
   "cell_type": "markdown",
   "metadata": {},
   "source": [
    "One-hot encoding the location column"
   ]
  },
  {
   "cell_type": "code",
   "execution_count": 152,
   "metadata": {},
   "outputs": [
    {
     "data": {
      "text/html": [
       "<div>\n",
       "<style scoped>\n",
       "    .dataframe tbody tr th:only-of-type {\n",
       "        vertical-align: middle;\n",
       "    }\n",
       "\n",
       "    .dataframe tbody tr th {\n",
       "        vertical-align: top;\n",
       "    }\n",
       "\n",
       "    .dataframe thead th {\n",
       "        text-align: right;\n",
       "    }\n",
       "</style>\n",
       "<table border=\"1\" class=\"dataframe\">\n",
       "  <thead>\n",
       "    <tr style=\"text-align: right;\">\n",
       "      <th>tbp_lv_location_simple</th>\n",
       "      <th>Torso Back</th>\n",
       "      <th>Torso Front</th>\n",
       "      <th>Left Leg</th>\n",
       "      <th>Right Leg</th>\n",
       "      <th>Left Arm</th>\n",
       "      <th>Right Arm</th>\n",
       "      <th>Head &amp; Neck</th>\n",
       "    </tr>\n",
       "  </thead>\n",
       "  <tbody>\n",
       "    <tr>\n",
       "      <th>0</th>\n",
       "      <td>0</td>\n",
       "      <td>0</td>\n",
       "      <td>0</td>\n",
       "      <td>1</td>\n",
       "      <td>0</td>\n",
       "      <td>0</td>\n",
       "      <td>0</td>\n",
       "    </tr>\n",
       "    <tr>\n",
       "      <th>1</th>\n",
       "      <td>0</td>\n",
       "      <td>0</td>\n",
       "      <td>0</td>\n",
       "      <td>0</td>\n",
       "      <td>0</td>\n",
       "      <td>0</td>\n",
       "      <td>1</td>\n",
       "    </tr>\n",
       "    <tr>\n",
       "      <th>2</th>\n",
       "      <td>1</td>\n",
       "      <td>0</td>\n",
       "      <td>0</td>\n",
       "      <td>0</td>\n",
       "      <td>0</td>\n",
       "      <td>0</td>\n",
       "      <td>0</td>\n",
       "    </tr>\n",
       "    <tr>\n",
       "      <th>3</th>\n",
       "      <td>0</td>\n",
       "      <td>1</td>\n",
       "      <td>0</td>\n",
       "      <td>0</td>\n",
       "      <td>0</td>\n",
       "      <td>0</td>\n",
       "      <td>0</td>\n",
       "    </tr>\n",
       "    <tr>\n",
       "      <th>4</th>\n",
       "      <td>0</td>\n",
       "      <td>1</td>\n",
       "      <td>0</td>\n",
       "      <td>0</td>\n",
       "      <td>0</td>\n",
       "      <td>0</td>\n",
       "      <td>0</td>\n",
       "    </tr>\n",
       "  </tbody>\n",
       "</table>\n",
       "</div>"
      ],
      "text/plain": [
       "tbp_lv_location_simple  Torso Back  Torso Front  Left Leg  Right Leg  \\\n",
       "0                                0            0         0          1   \n",
       "1                                0            0         0          0   \n",
       "2                                1            0         0          0   \n",
       "3                                0            1         0          0   \n",
       "4                                0            1         0          0   \n",
       "\n",
       "tbp_lv_location_simple  Left Arm  Right Arm  Head & Neck  \n",
       "0                              0          0            0  \n",
       "1                              0          0            1  \n",
       "2                              0          0            0  \n",
       "3                              0          0            0  \n",
       "4                              0          0            0  "
      ]
     },
     "execution_count": 152,
     "metadata": {},
     "output_type": "execute_result"
    }
   ],
   "source": [
    "one_hot_location = pd.Series(string_cols[\"tbp_lv_location_simple\"].value_counts().index[:-1]).apply(\n",
    "    lambda location: string_cols[\"tbp_lv_location_simple\"].apply(lambda loc: int(loc == location))).transpose()\n",
    "one_hot_location.columns = string_cols[\"tbp_lv_location_simple\"].value_counts().index[:-1]\n",
    "one_hot_location.head()\n"
   ]
  },
  {
   "cell_type": "markdown",
   "metadata": {},
   "source": [
    "Total one-hot encoded columns"
   ]
  },
  {
   "cell_type": "code",
   "execution_count": 153,
   "metadata": {},
   "outputs": [
    {
     "data": {
      "text/html": [
       "<div>\n",
       "<style scoped>\n",
       "    .dataframe tbody tr th:only-of-type {\n",
       "        vertical-align: middle;\n",
       "    }\n",
       "\n",
       "    .dataframe tbody tr th {\n",
       "        vertical-align: top;\n",
       "    }\n",
       "\n",
       "    .dataframe thead th {\n",
       "        text-align: right;\n",
       "    }\n",
       "</style>\n",
       "<table border=\"1\" class=\"dataframe\">\n",
       "  <thead>\n",
       "    <tr style=\"text-align: right;\">\n",
       "      <th></th>\n",
       "      <th>Male</th>\n",
       "      <th>Female</th>\n",
       "      <th>Torso Back</th>\n",
       "      <th>Torso Front</th>\n",
       "      <th>Left Leg</th>\n",
       "      <th>Right Leg</th>\n",
       "      <th>Left Arm</th>\n",
       "      <th>Right Arm</th>\n",
       "      <th>Head &amp; Neck</th>\n",
       "    </tr>\n",
       "  </thead>\n",
       "  <tbody>\n",
       "    <tr>\n",
       "      <th>0</th>\n",
       "      <td>1</td>\n",
       "      <td>0</td>\n",
       "      <td>0</td>\n",
       "      <td>0</td>\n",
       "      <td>0</td>\n",
       "      <td>1</td>\n",
       "      <td>0</td>\n",
       "      <td>0</td>\n",
       "      <td>0</td>\n",
       "    </tr>\n",
       "    <tr>\n",
       "      <th>1</th>\n",
       "      <td>1</td>\n",
       "      <td>0</td>\n",
       "      <td>0</td>\n",
       "      <td>0</td>\n",
       "      <td>0</td>\n",
       "      <td>0</td>\n",
       "      <td>0</td>\n",
       "      <td>0</td>\n",
       "      <td>1</td>\n",
       "    </tr>\n",
       "    <tr>\n",
       "      <th>2</th>\n",
       "      <td>1</td>\n",
       "      <td>0</td>\n",
       "      <td>1</td>\n",
       "      <td>0</td>\n",
       "      <td>0</td>\n",
       "      <td>0</td>\n",
       "      <td>0</td>\n",
       "      <td>0</td>\n",
       "      <td>0</td>\n",
       "    </tr>\n",
       "    <tr>\n",
       "      <th>3</th>\n",
       "      <td>1</td>\n",
       "      <td>0</td>\n",
       "      <td>0</td>\n",
       "      <td>1</td>\n",
       "      <td>0</td>\n",
       "      <td>0</td>\n",
       "      <td>0</td>\n",
       "      <td>0</td>\n",
       "      <td>0</td>\n",
       "    </tr>\n",
       "    <tr>\n",
       "      <th>4</th>\n",
       "      <td>1</td>\n",
       "      <td>0</td>\n",
       "      <td>0</td>\n",
       "      <td>1</td>\n",
       "      <td>0</td>\n",
       "      <td>0</td>\n",
       "      <td>0</td>\n",
       "      <td>0</td>\n",
       "      <td>0</td>\n",
       "    </tr>\n",
       "  </tbody>\n",
       "</table>\n",
       "</div>"
      ],
      "text/plain": [
       "   Male  Female  Torso Back  Torso Front  Left Leg  Right Leg  Left Arm  \\\n",
       "0     1       0           0            0         0          1         0   \n",
       "1     1       0           0            0         0          0         0   \n",
       "2     1       0           1            0         0          0         0   \n",
       "3     1       0           0            1         0          0         0   \n",
       "4     1       0           0            1         0          0         0   \n",
       "\n",
       "   Right Arm  Head & Neck  \n",
       "0          0            0  \n",
       "1          0            1  \n",
       "2          0            0  \n",
       "3          0            0  \n",
       "4          0            0  "
      ]
     },
     "execution_count": 153,
     "metadata": {},
     "output_type": "execute_result"
    }
   ],
   "source": [
    "one_hot_combined = pd.concat([numerical_sex, one_hot_location], axis=1)\n",
    "one_hot_combined.head()"
   ]
  },
  {
   "cell_type": "markdown",
   "metadata": {},
   "source": [
    "Normalizing other numerical columns to the [0, 1] range with min-max scaling"
   ]
  },
  {
   "cell_type": "code",
   "execution_count": 154,
   "metadata": {},
   "outputs": [],
   "source": [
    "numerical = train_trim.select_dtypes(include=\"number\")\n",
    "\n",
    "for column in numerical.columns: \n",
    "    numerical[column] = (numerical[column] - numerical[column].min()) / (numerical[column].max() - numerical[column].min())     "
   ]
  },
  {
   "cell_type": "markdown",
   "metadata": {},
   "source": [
    "Concat with numerical columns to get the clean data"
   ]
  },
  {
   "cell_type": "code",
   "execution_count": 155,
   "metadata": {},
   "outputs": [
    {
     "data": {
      "text/html": [
       "<div>\n",
       "<style scoped>\n",
       "    .dataframe tbody tr th:only-of-type {\n",
       "        vertical-align: middle;\n",
       "    }\n",
       "\n",
       "    .dataframe tbody tr th {\n",
       "        vertical-align: top;\n",
       "    }\n",
       "\n",
       "    .dataframe thead th {\n",
       "        text-align: right;\n",
       "    }\n",
       "</style>\n",
       "<table border=\"1\" class=\"dataframe\">\n",
       "  <thead>\n",
       "    <tr style=\"text-align: right;\">\n",
       "      <th></th>\n",
       "      <th>Male</th>\n",
       "      <th>Female</th>\n",
       "      <th>Torso Back</th>\n",
       "      <th>Torso Front</th>\n",
       "      <th>Left Leg</th>\n",
       "      <th>Right Leg</th>\n",
       "      <th>Left Arm</th>\n",
       "      <th>Right Arm</th>\n",
       "      <th>Head &amp; Neck</th>\n",
       "      <th>age_approx</th>\n",
       "      <th>...</th>\n",
       "      <th>tbp_lv_radial_color_std_max</th>\n",
       "      <th>tbp_lv_stdL</th>\n",
       "      <th>tbp_lv_stdLExt</th>\n",
       "      <th>tbp_lv_symm_2axis</th>\n",
       "      <th>tbp_lv_symm_2axis_angle</th>\n",
       "      <th>tbp_lv_x</th>\n",
       "      <th>tbp_lv_y</th>\n",
       "      <th>tbp_lv_z</th>\n",
       "      <th>mel_thick_mm</th>\n",
       "      <th>tbp_lv_dnn_lesion_confidence</th>\n",
       "    </tr>\n",
       "  </thead>\n",
       "  <tbody>\n",
       "    <tr>\n",
       "      <th>0</th>\n",
       "      <td>1</td>\n",
       "      <td>0</td>\n",
       "      <td>0</td>\n",
       "      <td>0</td>\n",
       "      <td>0</td>\n",
       "      <td>1</td>\n",
       "      <td>0</td>\n",
       "      <td>0</td>\n",
       "      <td>0</td>\n",
       "      <td>0.6875</td>\n",
       "      <td>...</td>\n",
       "      <td>0.000000</td>\n",
       "      <td>0.102225</td>\n",
       "      <td>0.080388</td>\n",
       "      <td>0.582086</td>\n",
       "      <td>0.485714</td>\n",
       "      <td>0.356776</td>\n",
       "      <td>0.566559</td>\n",
       "      <td>0.408087</td>\n",
       "      <td>NaN</td>\n",
       "      <td>0.975173</td>\n",
       "    </tr>\n",
       "    <tr>\n",
       "      <th>1</th>\n",
       "      <td>1</td>\n",
       "      <td>0</td>\n",
       "      <td>0</td>\n",
       "      <td>0</td>\n",
       "      <td>0</td>\n",
       "      <td>0</td>\n",
       "      <td>0</td>\n",
       "      <td>0</td>\n",
       "      <td>1</td>\n",
       "      <td>0.6875</td>\n",
       "      <td>...</td>\n",
       "      <td>0.000000</td>\n",
       "      <td>0.033828</td>\n",
       "      <td>0.131598</td>\n",
       "      <td>0.252621</td>\n",
       "      <td>0.314286</td>\n",
       "      <td>0.504132</td>\n",
       "      <td>0.893847</td>\n",
       "      <td>0.571023</td>\n",
       "      <td>NaN</td>\n",
       "      <td>0.031415</td>\n",
       "    </tr>\n",
       "    <tr>\n",
       "      <th>2</th>\n",
       "      <td>1</td>\n",
       "      <td>0</td>\n",
       "      <td>1</td>\n",
       "      <td>0</td>\n",
       "      <td>0</td>\n",
       "      <td>0</td>\n",
       "      <td>0</td>\n",
       "      <td>0</td>\n",
       "      <td>0</td>\n",
       "      <td>0.6875</td>\n",
       "      <td>...</td>\n",
       "      <td>0.000000</td>\n",
       "      <td>0.085311</td>\n",
       "      <td>0.052795</td>\n",
       "      <td>0.334987</td>\n",
       "      <td>0.600000</td>\n",
       "      <td>0.603966</td>\n",
       "      <td>0.858581</td>\n",
       "      <td>0.858501</td>\n",
       "      <td>NaN</td>\n",
       "      <td>0.998040</td>\n",
       "    </tr>\n",
       "    <tr>\n",
       "      <th>3</th>\n",
       "      <td>1</td>\n",
       "      <td>0</td>\n",
       "      <td>0</td>\n",
       "      <td>1</td>\n",
       "      <td>0</td>\n",
       "      <td>0</td>\n",
       "      <td>0</td>\n",
       "      <td>0</td>\n",
       "      <td>0</td>\n",
       "      <td>0.7500</td>\n",
       "      <td>...</td>\n",
       "      <td>0.057844</td>\n",
       "      <td>0.057262</td>\n",
       "      <td>0.037652</td>\n",
       "      <td>0.170317</td>\n",
       "      <td>0.742857</td>\n",
       "      <td>0.390405</td>\n",
       "      <td>0.848437</td>\n",
       "      <td>0.572962</td>\n",
       "      <td>NaN</td>\n",
       "      <td>0.999900</td>\n",
       "    </tr>\n",
       "    <tr>\n",
       "      <th>4</th>\n",
       "      <td>1</td>\n",
       "      <td>0</td>\n",
       "      <td>0</td>\n",
       "      <td>1</td>\n",
       "      <td>0</td>\n",
       "      <td>0</td>\n",
       "      <td>0</td>\n",
       "      <td>0</td>\n",
       "      <td>0</td>\n",
       "      <td>0.6250</td>\n",
       "      <td>...</td>\n",
       "      <td>0.000000</td>\n",
       "      <td>0.105071</td>\n",
       "      <td>0.074071</td>\n",
       "      <td>0.282586</td>\n",
       "      <td>0.114286</td>\n",
       "      <td>0.445845</td>\n",
       "      <td>0.864265</td>\n",
       "      <td>0.512548</td>\n",
       "      <td>NaN</td>\n",
       "      <td>0.704425</td>\n",
       "    </tr>\n",
       "  </tbody>\n",
       "</table>\n",
       "<p>5 rows × 45 columns</p>\n",
       "</div>"
      ],
      "text/plain": [
       "   Male  Female  Torso Back  Torso Front  Left Leg  Right Leg  Left Arm  \\\n",
       "0     1       0           0            0         0          1         0   \n",
       "1     1       0           0            0         0          0         0   \n",
       "2     1       0           1            0         0          0         0   \n",
       "3     1       0           0            1         0          0         0   \n",
       "4     1       0           0            1         0          0         0   \n",
       "\n",
       "   Right Arm  Head & Neck  age_approx  ...  tbp_lv_radial_color_std_max  \\\n",
       "0          0            0      0.6875  ...                     0.000000   \n",
       "1          0            1      0.6875  ...                     0.000000   \n",
       "2          0            0      0.6875  ...                     0.000000   \n",
       "3          0            0      0.7500  ...                     0.057844   \n",
       "4          0            0      0.6250  ...                     0.000000   \n",
       "\n",
       "   tbp_lv_stdL  tbp_lv_stdLExt  tbp_lv_symm_2axis  tbp_lv_symm_2axis_angle  \\\n",
       "0     0.102225        0.080388           0.582086                 0.485714   \n",
       "1     0.033828        0.131598           0.252621                 0.314286   \n",
       "2     0.085311        0.052795           0.334987                 0.600000   \n",
       "3     0.057262        0.037652           0.170317                 0.742857   \n",
       "4     0.105071        0.074071           0.282586                 0.114286   \n",
       "\n",
       "   tbp_lv_x  tbp_lv_y  tbp_lv_z  mel_thick_mm  tbp_lv_dnn_lesion_confidence  \n",
       "0  0.356776  0.566559  0.408087           NaN                      0.975173  \n",
       "1  0.504132  0.893847  0.571023           NaN                      0.031415  \n",
       "2  0.603966  0.858581  0.858501           NaN                      0.998040  \n",
       "3  0.390405  0.848437  0.572962           NaN                      0.999900  \n",
       "4  0.445845  0.864265  0.512548           NaN                      0.704425  \n",
       "\n",
       "[5 rows x 45 columns]"
      ]
     },
     "execution_count": 155,
     "metadata": {},
     "output_type": "execute_result"
    }
   ],
   "source": [
    "clean = pd.concat([one_hot_combined, numerical], axis=1)\n",
    "clean.head()"
   ]
  },
  {
   "cell_type": "code",
   "execution_count": 156,
   "metadata": {},
   "outputs": [
    {
     "data": {
      "text/plain": [
       "Index(['Male', 'Female', 'Torso Back', 'Torso Front', 'Left Leg', 'Right Leg',\n",
       "       'Left Arm', 'Right Arm', 'Head & Neck', 'age_approx',\n",
       "       'clin_size_long_diam_mm', 'tbp_lv_A', 'tbp_lv_Aext', 'tbp_lv_B',\n",
       "       'tbp_lv_Bext', 'tbp_lv_C', 'tbp_lv_Cext', 'tbp_lv_H', 'tbp_lv_Hext',\n",
       "       'tbp_lv_L', 'tbp_lv_Lext', 'tbp_lv_areaMM2', 'tbp_lv_area_perim_ratio',\n",
       "       'tbp_lv_color_std_mean', 'tbp_lv_deltaA', 'tbp_lv_deltaB',\n",
       "       'tbp_lv_deltaL', 'tbp_lv_deltaLB', 'tbp_lv_deltaLBnorm',\n",
       "       'tbp_lv_eccentricity', 'tbp_lv_minorAxisMM', 'tbp_lv_nevi_confidence',\n",
       "       'tbp_lv_norm_border', 'tbp_lv_norm_color', 'tbp_lv_perimeterMM',\n",
       "       'tbp_lv_radial_color_std_max', 'tbp_lv_stdL', 'tbp_lv_stdLExt',\n",
       "       'tbp_lv_symm_2axis', 'tbp_lv_symm_2axis_angle', 'tbp_lv_x', 'tbp_lv_y',\n",
       "       'tbp_lv_z', 'mel_thick_mm', 'tbp_lv_dnn_lesion_confidence'],\n",
       "      dtype='object')"
      ]
     },
     "execution_count": 156,
     "metadata": {},
     "output_type": "execute_result"
    }
   ],
   "source": [
    "clean.columns"
   ]
  },
  {
   "cell_type": "markdown",
   "metadata": {},
   "source": [
    "Save the clean data"
   ]
  },
  {
   "cell_type": "code",
   "execution_count": 157,
   "metadata": {},
   "outputs": [],
   "source": [
    "# clean.to_csv(\"../../../clean_train-metadata.csv\", index=False)"
   ]
  },
  {
   "cell_type": "code",
   "execution_count": 158,
   "metadata": {},
   "outputs": [],
   "source": [
    "y = y[clean.index]"
   ]
  },
  {
   "cell_type": "code",
   "execution_count": 159,
   "metadata": {},
   "outputs": [],
   "source": [
    "import xgboost as xgb\n",
    "from sklearn.model_selection import train_test_split\n",
    "\n",
    "# 60, 20, 20 - train, test, validation\n",
    "X_train, X_test, y_train, y_test = train_test_split(clean, y, test_size=0.2,random_state=42)"
   ]
  },
  {
   "cell_type": "code",
   "execution_count": 160,
   "metadata": {},
   "outputs": [],
   "source": [
    "num_parallel_tree = 4\n",
    "num_boost_round = 16\n",
    "# total number of built trees is num_parallel_tree * num_classes * num_boost_round\n",
    "\n",
    "dtrain = xgb.DMatrix(data=X_train, label=y_train)\n",
    "booster = xgb.train({\n",
    "    'num_parallel_tree': 4, 'subsample': 0.5, 'num_class': 3},\n",
    "                    num_boost_round=num_boost_round, dtrain=dtrain)"
   ]
  },
  {
   "cell_type": "code",
   "execution_count": 161,
   "metadata": {},
   "outputs": [],
   "source": [
    "dtest = xgb.DMatrix(X_test)\n",
    "y_pred = booster.predict(dtest)\n",
    "y_test = y_test.to_numpy()"
   ]
  },
  {
   "cell_type": "code",
   "execution_count": 162,
   "metadata": {},
   "outputs": [
    {
     "data": {
      "text/plain": [
       "np.float64(0.9991965148833063)"
      ]
     },
     "execution_count": 162,
     "metadata": {},
     "output_type": "execute_result"
    }
   ],
   "source": [
    "np.mean(y_pred == y_test)"
   ]
  },
  {
   "cell_type": "code",
   "execution_count": 163,
   "metadata": {},
   "outputs": [
    {
     "data": {
      "image/png": "[encoded data removed]",
      "text/plain": [
       "<Figure size 640x480 with 2 Axes>"
      ]
     },
     "metadata": {},
     "output_type": "display_data"
    }
   ],
   "source": [
    "#plot confusion matrix\n",
    "from sklearn.metrics import confusion_matrix\n",
    "import seaborn as sns\n",
    "import matplotlib.pyplot as plt\n",
    "\n",
    "matrix = confusion_matrix(y_test, y_pred)\n",
    "labels = np.unique(y_pred + y_test)\n",
    "sns.heatmap(matrix, annot=True, fmt=\"d\", xticklabels=labels, yticklabels=labels, cmap=\"Blues\")\n",
    "plt.xlabel(\"Predicted labels\")\n",
    "plt.ylabel(\"True labels\")\n",
    "plt.title(\"Confusion Matrix\")\n",
    "plt.show()"
   ]
  },
  {
   "cell_type": "code",
   "execution_count": 164,
   "metadata": {},
   "outputs": [
    {
     "data": {
      "text/plain": [
       "0         0\n",
       "1         0\n",
       "2         0\n",
       "3         0\n",
       "4         0\n",
       "         ..\n",
       "401054    0\n",
       "401055    0\n",
       "401056    0\n",
       "401057    0\n",
       "401058    0\n",
       "Name: target, Length: 398261, dtype: int64"
      ]
     },
     "execution_count": 164,
     "metadata": {},
     "output_type": "execute_result"
    }
   ],
   "source": [
    "y"
   ]
  },
  {
   "cell_type": "code",
   "execution_count": 165,
   "metadata": {},
   "outputs": [
    {
     "data": {
      "text/html": [
       "<div>\n",
       "<style scoped>\n",
       "    .dataframe tbody tr th:only-of-type {\n",
       "        vertical-align: middle;\n",
       "    }\n",
       "\n",
       "    .dataframe tbody tr th {\n",
       "        vertical-align: top;\n",
       "    }\n",
       "\n",
       "    .dataframe thead th {\n",
       "        text-align: right;\n",
       "    }\n",
       "</style>\n",
       "<table border=\"1\" class=\"dataframe\">\n",
       "  <thead>\n",
       "    <tr style=\"text-align: right;\">\n",
       "      <th></th>\n",
       "      <th>Male</th>\n",
       "      <th>Female</th>\n",
       "      <th>Torso Back</th>\n",
       "      <th>Torso Front</th>\n",
       "      <th>Left Leg</th>\n",
       "      <th>Right Leg</th>\n",
       "      <th>Left Arm</th>\n",
       "      <th>Right Arm</th>\n",
       "      <th>Head &amp; Neck</th>\n",
       "      <th>age_approx</th>\n",
       "      <th>...</th>\n",
       "      <th>tbp_lv_stdL</th>\n",
       "      <th>tbp_lv_stdLExt</th>\n",
       "      <th>tbp_lv_symm_2axis</th>\n",
       "      <th>tbp_lv_symm_2axis_angle</th>\n",
       "      <th>tbp_lv_x</th>\n",
       "      <th>tbp_lv_y</th>\n",
       "      <th>tbp_lv_z</th>\n",
       "      <th>mel_thick_mm</th>\n",
       "      <th>tbp_lv_dnn_lesion_confidence</th>\n",
       "      <th>target</th>\n",
       "    </tr>\n",
       "  </thead>\n",
       "  <tbody>\n",
       "    <tr>\n",
       "      <th>0</th>\n",
       "      <td>1</td>\n",
       "      <td>0</td>\n",
       "      <td>0</td>\n",
       "      <td>0</td>\n",
       "      <td>0</td>\n",
       "      <td>1</td>\n",
       "      <td>0</td>\n",
       "      <td>0</td>\n",
       "      <td>0</td>\n",
       "      <td>0.6875</td>\n",
       "      <td>...</td>\n",
       "      <td>0.102225</td>\n",
       "      <td>0.080388</td>\n",
       "      <td>0.582086</td>\n",
       "      <td>0.485714</td>\n",
       "      <td>0.356776</td>\n",
       "      <td>0.566559</td>\n",
       "      <td>0.408087</td>\n",
       "      <td>NaN</td>\n",
       "      <td>0.975173</td>\n",
       "      <td>0</td>\n",
       "    </tr>\n",
       "    <tr>\n",
       "      <th>1</th>\n",
       "      <td>1</td>\n",
       "      <td>0</td>\n",
       "      <td>0</td>\n",
       "      <td>0</td>\n",
       "      <td>0</td>\n",
       "      <td>0</td>\n",
       "      <td>0</td>\n",
       "      <td>0</td>\n",
       "      <td>1</td>\n",
       "      <td>0.6875</td>\n",
       "      <td>...</td>\n",
       "      <td>0.033828</td>\n",
       "      <td>0.131598</td>\n",
       "      <td>0.252621</td>\n",
       "      <td>0.314286</td>\n",
       "      <td>0.504132</td>\n",
       "      <td>0.893847</td>\n",
       "      <td>0.571023</td>\n",
       "      <td>NaN</td>\n",
       "      <td>0.031415</td>\n",
       "      <td>0</td>\n",
       "    </tr>\n",
       "    <tr>\n",
       "      <th>2</th>\n",
       "      <td>1</td>\n",
       "      <td>0</td>\n",
       "      <td>1</td>\n",
       "      <td>0</td>\n",
       "      <td>0</td>\n",
       "      <td>0</td>\n",
       "      <td>0</td>\n",
       "      <td>0</td>\n",
       "      <td>0</td>\n",
       "      <td>0.6875</td>\n",
       "      <td>...</td>\n",
       "      <td>0.085311</td>\n",
       "      <td>0.052795</td>\n",
       "      <td>0.334987</td>\n",
       "      <td>0.600000</td>\n",
       "      <td>0.603966</td>\n",
       "      <td>0.858581</td>\n",
       "      <td>0.858501</td>\n",
       "      <td>NaN</td>\n",
       "      <td>0.998040</td>\n",
       "      <td>0</td>\n",
       "    </tr>\n",
       "    <tr>\n",
       "      <th>3</th>\n",
       "      <td>1</td>\n",
       "      <td>0</td>\n",
       "      <td>0</td>\n",
       "      <td>1</td>\n",
       "      <td>0</td>\n",
       "      <td>0</td>\n",
       "      <td>0</td>\n",
       "      <td>0</td>\n",
       "      <td>0</td>\n",
       "      <td>0.7500</td>\n",
       "      <td>...</td>\n",
       "      <td>0.057262</td>\n",
       "      <td>0.037652</td>\n",
       "      <td>0.170317</td>\n",
       "      <td>0.742857</td>\n",
       "      <td>0.390405</td>\n",
       "      <td>0.848437</td>\n",
       "      <td>0.572962</td>\n",
       "      <td>NaN</td>\n",
       "      <td>0.999900</td>\n",
       "      <td>0</td>\n",
       "    </tr>\n",
       "    <tr>\n",
       "      <th>4</th>\n",
       "      <td>1</td>\n",
       "      <td>0</td>\n",
       "      <td>0</td>\n",
       "      <td>1</td>\n",
       "      <td>0</td>\n",
       "      <td>0</td>\n",
       "      <td>0</td>\n",
       "      <td>0</td>\n",
       "      <td>0</td>\n",
       "      <td>0.6250</td>\n",
       "      <td>...</td>\n",
       "      <td>0.105071</td>\n",
       "      <td>0.074071</td>\n",
       "      <td>0.282586</td>\n",
       "      <td>0.114286</td>\n",
       "      <td>0.445845</td>\n",
       "      <td>0.864265</td>\n",
       "      <td>0.512548</td>\n",
       "      <td>NaN</td>\n",
       "      <td>0.704425</td>\n",
       "      <td>0</td>\n",
       "    </tr>\n",
       "  </tbody>\n",
       "</table>\n",
       "<p>5 rows × 46 columns</p>\n",
       "</div>"
      ],
      "text/plain": [
       "   Male  Female  Torso Back  Torso Front  Left Leg  Right Leg  Left Arm  \\\n",
       "0     1       0           0            0         0          1         0   \n",
       "1     1       0           0            0         0          0         0   \n",
       "2     1       0           1            0         0          0         0   \n",
       "3     1       0           0            1         0          0         0   \n",
       "4     1       0           0            1         0          0         0   \n",
       "\n",
       "   Right Arm  Head & Neck  age_approx  ...  tbp_lv_stdL  tbp_lv_stdLExt  \\\n",
       "0          0            0      0.6875  ...     0.102225        0.080388   \n",
       "1          0            1      0.6875  ...     0.033828        0.131598   \n",
       "2          0            0      0.6875  ...     0.085311        0.052795   \n",
       "3          0            0      0.7500  ...     0.057262        0.037652   \n",
       "4          0            0      0.6250  ...     0.105071        0.074071   \n",
       "\n",
       "   tbp_lv_symm_2axis  tbp_lv_symm_2axis_angle  tbp_lv_x  tbp_lv_y  tbp_lv_z  \\\n",
       "0           0.582086                 0.485714  0.356776  0.566559  0.408087   \n",
       "1           0.252621                 0.314286  0.504132  0.893847  0.571023   \n",
       "2           0.334987                 0.600000  0.603966  0.858581  0.858501   \n",
       "3           0.170317                 0.742857  0.390405  0.848437  0.572962   \n",
       "4           0.282586                 0.114286  0.445845  0.864265  0.512548   \n",
       "\n",
       "   mel_thick_mm  tbp_lv_dnn_lesion_confidence  target  \n",
       "0           NaN                      0.975173       0  \n",
       "1           NaN                      0.031415       0  \n",
       "2           NaN                      0.998040       0  \n",
       "3           NaN                      0.999900       0  \n",
       "4           NaN                      0.704425       0  \n",
       "\n",
       "[5 rows x 46 columns]"
      ]
     },
     "execution_count": 165,
     "metadata": {},
     "output_type": "execute_result"
    }
   ],
   "source": [
    "df = pd.concat([clean, y], axis=1)\n",
    "df.head()"
   ]
  },
  {
   "cell_type": "code",
   "execution_count": 166,
   "metadata": {},
   "outputs": [
    {
     "name": "stdout",
     "output_type": "stream",
     "text": [
      "Class Distribution Before Sampling (%):\n"
     ]
    },
    {
     "data": {
      "text/plain": [
       "target\n",
       "0    99.902074\n",
       "1     0.097926\n",
       "Name: proportion, dtype: float64"
      ]
     },
     "metadata": {},
     "output_type": "display_data"
    },
    {
     "name": "stdout",
     "output_type": "stream",
     "text": [
      "\n",
      "Class Distribution After Sampling (%):\n"
     ]
    },
    {
     "data": {
      "text/plain": [
       "target\n",
       "0    67.110811\n",
       "1    32.889189\n",
       "Name: proportion, dtype: float64"
      ]
     },
     "metadata": {},
     "output_type": "display_data"
    },
    {
     "name": "stdout",
     "output_type": "stream",
     "text": [
      "Class Weights: {0: np.float64(0.7450364413169138), 1: np.float64(1.5202564102564102)}\n"
     ]
    }
   ],
   "source": [
    "from sklearn.utils.class_weight import compute_class_weight\n",
    "#Handle Class Imbalance\n",
    "print(\"Class Distribution Before Sampling (%):\")\n",
    "display(df.target.value_counts(normalize=True)*100)\n",
    "seed = 1\n",
    "neg_sample = .01\n",
    "pos_sample = 5.0\n",
    "# Sampling\n",
    "positive_df = df.query(\"target==0\").sample(frac=neg_sample, random_state=seed)\n",
    "negative_df = df.query(\"target==1\").sample(frac=pos_sample, replace=True, random_state=seed)\n",
    "df = pd.concat([positive_df, negative_df], axis=0).sample(frac=1.0)\n",
    "\n",
    "print(\"\\nClass Distribution After Sampling (%):\")\n",
    "display(df.target.value_counts(normalize=True)*100)\n",
    "\n",
    "# Assume df is your DataFrame and 'target' is the column with class labels\n",
    "class_weights = compute_class_weight('balanced', classes=np.unique(df['target']), y=df['target'])\n",
    "class_weights = dict(enumerate(class_weights))\n",
    "print(\"Class Weights:\", class_weights)"
   ]
  },
  {
   "cell_type": "code",
   "execution_count": 167,
   "metadata": {},
   "outputs": [],
   "source": [
    "x = df.drop(\"target\", axis=1)\n",
    "y = df[\"target\"]"
   ]
  },
  {
   "cell_type": "code",
   "execution_count": 168,
   "metadata": {},
   "outputs": [],
   "source": [
    "X_train, X_test, y_train, y_test = train_test_split(x, y, test_size=0.2,random_state=42)"
   ]
  },
  {
   "cell_type": "code",
   "execution_count": 169,
   "metadata": {},
   "outputs": [],
   "source": [
    "num_parallel_tree = 4\n",
    "num_boost_round = 16\n",
    "# total number of built trees is num_parallel_tree * num_classes * num_boost_round\n",
    "\n",
    "dtrain = xgb.DMatrix(data=X_train, label=y_train)\n",
    "booster = xgb.train({\n",
    "    'num_parallel_tree': 4, 'subsample': 0.5, 'num_class': 3},\n",
    "                    num_boost_round=num_boost_round, dtrain=dtrain)"
   ]
  },
  {
   "cell_type": "code",
   "execution_count": 170,
   "metadata": {},
   "outputs": [],
   "source": [
    "dtest = xgb.DMatrix(X_test)\n",
    "y_pred = booster.predict(dtest)\n",
    "y_test = y_test.to_numpy()"
   ]
  },
  {
   "cell_type": "code",
   "execution_count": 171,
   "metadata": {},
   "outputs": [
    {
     "data": {
      "text/plain": [
       "np.float64(0.9763912310286678)"
      ]
     },
     "execution_count": 171,
     "metadata": {},
     "output_type": "execute_result"
    }
   ],
   "source": [
    "np.mean(y_pred == y_test)"
   ]
  },
  {
   "cell_type": "code",
   "execution_count": 172,
   "metadata": {},
   "outputs": [
    {
     "data": {
      "image/png": "[encoded data removed]",
      "text/plain": [
       "<Figure size 640x480 with 2 Axes>"
      ]
     },
     "metadata": {},
     "output_type": "display_data"
    }
   ],
   "source": [
    "matrix = confusion_matrix(y_test, y_pred)\n",
    "labels = np.unique(y_pred + y_test)\n",
    "sns.heatmap(matrix, annot=True, fmt=\"d\", xticklabels=labels, yticklabels=labels, cmap=\"Blues\")\n",
    "plt.xlabel(\"Predicted labels\")\n",
    "plt.ylabel(\"True labels\")\n",
    "plt.title(\"Confusion Matrix\")\n",
    "plt.show()"
   ]
  }
 ],
 "metadata": {
  "kernelspec": {
   "display_name": "Python 3",
   "language": "python",
   "name": "python3"
  },
  "language_info": {
   "codemirror_mode": {
    "name": "ipython",
    "version": 3
   },
   "file_extension": ".py",
   "mimetype": "text/x-python",
   "name": "python",
   "nbconvert_exporter": "python",
   "pygments_lexer": "ipython3",
   "version": "3.12.5"
  }
 },
 "nbformat": 4,
 "nbformat_minor": 2
}
