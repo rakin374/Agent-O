{
 "cells": [
  {
   "cell_type": "markdown",
   "id": "b0c1e01b",
   "metadata": {},
   "source": [
    "# Exploring the ISIC Dataset\n",
    "\n",
    "\n",
    "Here is someone's guide to the competition: [Link](https://www.kaggle.com/competitions/isic-2024-challenge/discussion/543310)\n",
    "The authors main takeaways: \n",
    " - Use state of the art foundation models \n",
    " - Clean, augment, and batchify the data \n",
    "\n",
    "\n",
    "## Metabasics of the Data \n",
    "- Data split into 2 sets: train, test \n",
    "- Both sets contain an image paired with metadata. The metadata contains basics such as age, lots of valuable information that describes the image in greater detail. There is information about shape, color, perimeter, location on body, etc \n",
    "- The images come from a device that captures total-body-photography\n",
    "- The images are all of uniform size (15x15)mm\n",
    "> Vectra WB360, a 3D TBP product from Canfield Scientific, captures the complete visible cutaneous surface area in one macro-quality resolution tomographic image. An AI-based software then identifies individual lesions on a given 3D capture. This allows for the image capture and identification of all lesions on a patient, which are exported as individual 15x15 mm field-of-view cropped photos. The dataset contains every lesion from a subset of thousands of patients seen between the years 2015 and 2024 across nine institutions and three continents.\n",
    "\n",
    "The images come in a hdf5 file format. The hdf5 file format allows for easy storage of large amounts of data with easy retrieval. To access it we need to use a few python libraries such as hdf5. However within this file structure, the images are stored as jpegs. "
   ]
  },
  {
   "cell_type": "code",
   "execution_count": 43,
   "id": "27a82960",
   "metadata": {},
   "outputs": [],
   "source": [
    "#Imports \n",
    "import os\n",
    "import h5py\n",
    "import numpy as np\n",
    "from PIL import Image"
   ]
  },
  {
   "cell_type": "code",
   "execution_count": 25,
   "id": "5e0ada5d",
   "metadata": {},
   "outputs": [
    {
     "data": {
      "text/plain": [
       "{'sample_sub': '/Users/rakin/Desktop/Agent-O/data/isic-2024-challenge/sample_submission.csv',\n",
       " 'test_images': '/Users/rakin/Desktop/Agent-O/data/isic-2024-challenge/test-image.hdf5',\n",
       " 'test_metadata': '/Users/rakin/Desktop/Agent-O/data/isic-2024-challenge/test-metadata.csv',\n",
       " 'train_images': '/Users/rakin/Desktop/Agent-O/data/isic-2024-challenge/train-image.hdf5',\n",
       " 'train_metadata': '/Users/rakin/Desktop/Agent-O/data/isic-2024-challenge/train_metadata.csv'}"
      ]
     },
     "execution_count": 25,
     "metadata": {},
     "output_type": "execute_result"
    }
   ],
   "source": [
    "file_dict = {\n",
    "    \"sample_sub\": \"sample_submission.csv\",\n",
    "    \"test_images\": \"test-image.hdf5\",\n",
    "    \"test_metadata\": \"test-metadata.csv\",\n",
    "    \"train_images\": \"train-image.hdf5\",\n",
    "    \"train_metadata\": \"train_metadata.csv\"\n",
    "}\n",
    "for key in file_dict.keys():\n",
    "    path = os.path.join(os.getcwd(), '..', 'data/isic-2024-challenge', file_dict[key])\n",
    "    path = os.path.normpath(path)\n",
    "    file_dict[key] = path\n",
    "file_dict"
   ]
  },
  {
   "cell_type": "code",
   "execution_count": 44,
   "id": "94420d2f",
   "metadata": {
    "scrolled": true
   },
   "outputs": [
    {
     "name": "stdout",
     "output_type": "stream",
     "text": [
      "Count of data:  401059\n"
     ]
    },
    {
     "data": {
      "text/plain": [
       "['ISIC_0015670',\n",
       " 'ISIC_0015845',\n",
       " 'ISIC_0015864',\n",
       " 'ISIC_0015902',\n",
       " 'ISIC_0024200']"
      ]
     },
     "execution_count": 44,
     "metadata": {},
     "output_type": "execute_result"
    }
   ],
   "source": [
    "# Code Attribution: https://www.geeksforgeeks.org/hdf5-files-in-python/\n",
    "\n",
    "\n",
    "path = file_dict[\"train_images\"]\n",
    "f = h5py.File(path, 'r')\n",
    "print(\"Count of data: \", len(f.keys()))\n",
    "list(f.keys())[:5]\n",
    "\n"
   ]
  },
  {
   "cell_type": "markdown",
   "id": "0b7e41e3",
   "metadata": {},
   "source": [
    "In the cell above we grab keys from the h5 file and print the first 5 datsets. We see our counts of keys is about 400k. Each of these corresponds to a single image of a lesion. The key also corresponds to the unique key of the metadataset. \n"
   ]
  },
  {
   "cell_type": "code",
   "execution_count": 45,
   "id": "0ac690f8",
   "metadata": {},
   "outputs": [],
   "source": [
    "keys = list(f.keys())\n",
    "imageo = f[keys[0]]\n"
   ]
  },
  {
   "cell_type": "code",
   "execution_count": 46,
   "id": "c8d6939b",
   "metadata": {},
   "outputs": [
    {
     "name": "stdout",
     "output_type": "stream",
     "text": [
      "|S3325\n",
      "()\n",
      "1\n",
      "0\n"
     ]
    }
   ],
   "source": [
    "print(imageo.dtype)\n",
    "print(imageo.shape)\n",
    "print(imageo.size)\n",
    "print(imageo.ndim)"
   ]
  },
  {
   "cell_type": "code",
   "execution_count": 52,
   "id": "b8ef3b0a",
   "metadata": {},
   "outputs": [
    {
     "data": {
      "text/plain": [
       "b'\\xff\\xd8\\xff\\xe0\\x00\\x10JFIF\\x00\\x01\\x01\\x00\\x00\\x01\\x00\\x01\\x00\\x00\\xff\\xdb\\x00C\\x00\\x08\\x06\\x06\\x07\\x06\\x05\\x08\\x07\\x07\\x07\\t\\t\\x08\\n\\x0c\\x14\\r\\x0c\\x0b\\x0b\\x0c\\x19\\x12\\x13\\x0f\\x14\\x1d\\x1a\\x1f\\x1e\\x1d\\x1a\\x1c\\x1c $.\\' \",#\\x1c\\x1c(7),01444\\x1f\\'9=82<.342\\xff\\xdb\\x00C\\x01\\t\\t\\t\\x0c\\x0b\\x0c\\x18\\r\\r\\x182!\\x1c!22222222222222222222222222222222222222222222222222\\xff\\xc0\\x00\\x11\\x08\\x00\\x8b\\x00\\x8b\\x03\\x01\"\\x00\\x02\\x11\\x01\\x03\\x11\\x01\\xff\\xc4\\x00\\x1f\\x00\\x00\\x01\\x05\\x01\\x01\\x01\\x01\\x01\\x01\\x00\\x00\\x00\\x00\\x00\\x00\\x00\\x00\\x01\\x02\\x03\\x04\\x05\\x06\\x07\\x08\\t\\n\\x0b\\xff\\xc4\\x00\\xb5\\x10\\x00\\x02\\x01\\x03\\x03\\x02\\x04\\x03\\x05\\x05\\x04\\x04\\x00\\x00\\x01}\\x01\\x02\\x03\\x00\\x04\\x11\\x05\\x12!1A\\x06\\x13Qa\\x07\"q\\x142\\x81\\x91\\xa1\\x08#B\\xb1\\xc1\\x15R\\xd1\\xf0$3br\\x82\\t\\n\\x16\\x17\\x18\\x19\\x1a%&\\'()*456789:CDEFGHIJSTUVWXYZcdefghijstuvwxyz\\x83\\x84\\x85\\x86\\x87\\x88\\x89\\x8a\\x92\\x93\\x94\\x95\\x96\\x97\\x98\\x99\\x9a\\xa2\\xa3\\xa4\\xa5\\xa6\\xa7\\xa8\\xa9\\xaa\\xb2\\xb3\\xb4\\xb5\\xb6\\xb7\\xb8\\xb9\\xba\\xc2\\xc3\\xc4\\xc5\\xc6\\xc7\\xc8\\xc9\\xca\\xd2\\xd3\\xd4\\xd5\\xd6\\xd7\\xd8\\xd9\\xda\\xe1\\xe2\\xe3\\xe4\\xe5\\xe6\\xe7\\xe8\\xe9\\xea\\xf1\\xf2\\xf3\\xf4\\xf5\\xf6\\xf7\\xf8\\xf9\\xfa\\xff\\xc4\\x00\\x1f\\x01\\x00\\x03\\x01\\x01\\x01\\x01\\x01\\x01\\x01\\x01\\x01\\x00\\x00\\x00\\x00\\x00\\x00\\x01\\x02\\x03\\x04\\x05\\x06\\x07\\x08\\t\\n\\x0b\\xff\\xc4\\x00\\xb5\\x11\\x00\\x02\\x01\\x02\\x04\\x04\\x03\\x04\\x07\\x05\\x04\\x04\\x00\\x01\\x02w\\x00\\x01\\x02\\x03\\x11\\x04\\x05!1\\x06\\x12AQ\\x07aq\\x13\"2\\x81\\x08\\x14B\\x91\\xa1\\xb1\\xc1\\t#3R\\xf0\\x15br\\xd1\\n\\x16$4\\xe1%\\xf1\\x17\\x18\\x19\\x1a&\\'()*56789:CDEFGHIJSTUVWXYZcdefghijstuvwxyz\\x82\\x83\\x84\\x85\\x86\\x87\\x88\\x89\\x8a\\x92\\x93\\x94\\x95\\x96\\x97\\x98\\x99\\x9a\\xa2\\xa3\\xa4\\xa5\\xa6\\xa7\\xa8\\xa9\\xaa\\xb2\\xb3\\xb4\\xb5\\xb6\\xb7\\xb8\\xb9\\xba\\xc2\\xc3\\xc4\\xc5\\xc6\\xc7\\xc8\\xc9\\xca\\xd2\\xd3\\xd4\\xd5\\xd6\\xd7\\xd8\\xd9\\xda\\xe2\\xe3\\xe4\\xe5\\xe6\\xe7\\xe8\\xe9\\xea\\xf2\\xf3\\xf4\\xf5\\xf6\\xf7\\xf8\\xf9\\xfa\\xff\\xda\\x00\\x0c\\x03\\x01\\x00\\x02\\x11\\x03\\x11\\x00?\\x00\\xdev\\x8c)\\xc5VFR\\xd9\\xcf\\x04\\xd2\\xbc2y\\xa4\\x80Lc\\xbf\\xb5G\\xb5\\x96A\\xc7\\x07\\xa6+\\x8e\\xe7\\xa6\\x91d\\xda\\x04\\x1b\\xf7\\xeel\\xfd\\xd1\\xe9Lx\\xb6\\xc6d\\'\\x8fOJ{a\\x0e\\x01\\'\\x03\\x96\\xa8\\x99\\xbc\\xd7\\xda[(;\\x9a\\xab\\x88\\x8a\"\\xbb\\xf7\\x11\\xf9T\\xf1\\x12\\x8c\\xccr\\x18\\xd3\\\\(!P|\\xc3\\x9c\\x8ap#g<\\x9e\\xe6\\x90\\xc8\\xd8\\x02[\\x07\\'9\\xa8\\x9c\\xcb\\x92\\x17\\xa1\\xeb\\xc5ZU\\x19\\x07\\x8c\\xe6\\x9f\\x18I&\"E\\xf91\\xd4v5V\\x15\\xecREe?1\\xc0\\xc1\\xc0\\xabE]\\x94\\x120)\\xf2B\\x89\\x8c\\x10\\xc2\\x84\\x91\\x99\\xce\\x07\\x1e\\x86\\xa6\\xc1{\\x91\\x10\\x15\\xc2\\xf5\\xdd\\xc0\\x14K\\x12\\x84\\xc3\\x921\\xd7\\x150\\t\\xbbs\\x0ez\\xfe5^\\xe40\\xdcW\\x92z\\n,\\t\\x91\\x99\\x95F\\xd5v\\xc7\\xadM\\x1cI&$\\x0cs\\x9e\\x86\\xa8\\x15f`\\x1c\\x05Py\\xad8\\xddU6\\xa8\\x18\\xeb\\xf8T\\xdfR\\x996\\xdd\\xa4\\xf7\\xc7\\x19\\xa5PX\\x85^I\\xa7\\xc7\\x181\\xe7?\\x855\\xe60\\xaf\\xee\\x87\\xcc{\\x8a\\xb32)7Ds\\x9c\\x9fOJ\\x88\\xcd\\x9e\\xe7\\xf2\\xa3l\\x93\\xc87\\xb8\\xc7\\\\f\\xa4\\xf3\\x16?\\x91y\\x0b\\xc04\\x15\\xeaF%k\\xa1\\xb0\\xae\\xc8\\x94\\xe4\\xe2\\x82bN#\\x07=\\xb2sJ\\\\\\xf9~R\\x0e=\\xba\\xd4\\x07\\n3\\x92q\\xc6h\\xb0\\xc99 \\xef \\xe3\\xd2\\x84\\xf2\\xdd\\t*F\\x0fAMH\\xd4\\xfc\\xeeN\\x08\\xe0T\\x91\\xe0Dx\\xc7\\xe3J\\xc01Ts\\xc7\\x00\\xe0\\x83Mh\\x9b\\x1eb\\x90Tw\\x06\\xa7-\\xb5r\\xab\\xc1\\xf5\\xe9Q[*IrKnD\\xc6X\\x03\\xc55a\\x8b\\x1b\\x1c\\x82NGqR\\xab\\xed9\\xe0\\x8aI\\x1a#3y@\\xaa\\x0e\\x99\\xa5\\x05rI\\xe9Wb\\x19\"\\x8d\\xcb\\x86`\\x03\\x1f\\xca\\xa3\\x90,%\\x8es\\x83\\x81\\xc5?p\\x08s\\x9e\\x99\\xa2\\x08\\x8c\\xe9\\xb9\\xc7\\x18\\xfc\\xe91!\\x91\\x82\\xe0\\x9e\\x8a}i\\x92\\x9d\\x88\\xd1\\xab\\xe0\\x9e\\xfe\\x82\\xa4\\x9b\\x11\\'\\x07\\x93\\xda\\xa9\\x83\\xc1#\\xe6\\'\\x9ej/b\\x90\\xa2\\x10\\xc1@!\\xc0>\\xb5m@(2:\\x0eqPD\\x00#\\x03\\x19\\xabQ\\xa6\\xe0\\x1d\\xd4\\xec\\x1f\\xad$\\x86\\xd9\\x0f\\xda\\x1c\\xc8@\\x1f.:\\xfa\\xd2\\xc5\\x1b\\x9eI\\xf9I\\xa7\\x17O7n\\x06\\x0flSf\\x9b\\xe6\\x08\\x8aU\\x07\\x00\\x9ab\\x16UH\\xf21\\xc9<\\xd0\\xab\\xf2\\x8e)\"\\x0c\\xees\\xcf51(\\x0e2i\\xa6\\x055b\\x8c\\xec;\\xe4R\\r\\xaa\\xa5\\x00\\xf78\\xa7)\\x00\\xe1\\xf3\\xed\\x8aX\\xe1\\xc3\\x96oN\\x86\\x8b\\x94\\x86\\xa0\\xc9\\n\\x01\\x15ns\\x18\\x85c\\x84e\\xb3\\x92M1\\xa6X\\xa3 \\xaa\\xb7\\xbe9\\xaa\\xbf<\\xb2\\x06L\\x809\\xa2\\xe4\\xeeN\\xd2,\\x91\\xfc\\xdc:\\x8c\\x01M\\x8e\\xdd\\x1c\\x0c\\xc8\\xcb\\'u\\xc54\\x06\\x90\\x85+\\xb4\\xe7\\x86\\xab,Z$(\\x1fq\\xc6~\\x94\\x0cln\\xb1;\\x16\\xda\\xde\\x87\\x14\\xe9<\\xa6\\\\\\xae0z\\xd5m\\xed\\xbfhB~\\x95:\\xaeT\\x07\\xc8_AE\\xc9hz\\xc2\\xac\\xb9\\xcec\\x03\\xad$\\x97\\xeb\\x1a\\x94\\x89~\\\\c>\\x95\\x1c\\xf7{c1\\xafL~8\\xac\\xdf1f%y^y\\xf7\\xa1\\xb1\\xa5r\\xd0>a9\\xfc*A\\x12\\xa8\\x0ex\\x19\\xa8\\xec\\xa1>awb@\\xe0\\x0fZ\\xd2\\x10 \\x06W\\xc9Q\\xf7A=\\xeaw\\x1e\\xc5h\\xe1\\x07\\xf7\\x8d\\xc2g z\\xd2\\xdcJ\\xcf\\x1e\\x10p\\xbd1I5\\xc2\\xc8y\\xe3\\xd0S\"\\x88\\x96\\r.U{\\x0fZ{\\x01\\x1cd&\\t\\x04\\xb1=\\xeac\\x1bn\\x0f \\xca\\xfa{\\xd2.\\x1aa\\x81\\xf2\\xe7\\xd6\\xac?\\xcf&\\xd5\\xed\\xebH\\x028\\x95\\xbel\\x15S\\xd8T\\x98\\xb7^8\\xe3\\xd4\\xd4\\r1\\x12\\xaad\\x1e\\xdcSZA\\xbc\\xe7\\xd6\\xa8\\x96D\\x13\\xe6\\x1b\\x8f^jiG\\xee\\xbeF\\xceW\\x93QH\\xc2<d\\xe4\\x1ezS\\x13q;\\x9b8=(C\\x10bF\\x1b\\xb3\\xbb\\x1d\\r\\\\X6\\xc2\\x0b\\x0e:\\xd3r\\xab\\xca\\x808\\xef\\xebQ5\\xe0\\x90\\x00\\xc7\\r\\xd3\\x8aA\\xb9 \\xbaT\\xc7\\xc9\\x8ct\\x15\\x04\\x89\\xbaB\\xecv\\x82x\\xf6\\xa7m\\xc1\\xdc[ \\xf4\\xa5\\xca\\x9f\\xbcq\\x8e\\x94\\x86\\x84\\x8f<\\xb2\\x12PpNz\\xd2\\\\^\\x9cl\\x0b\\x9e8>\\x94\\x8c\\xfb\\x98\\xed\\xc8\\x03\\xadW1\\x9b\\x89<\\xb5p\\xbd\\xf2{\\xd3n\\xc0\\xf5#\\xf3\\x87\\x1c\\x06c\\xcf\\xe1S\\xdb\\xc2\\xa5X\\xb8\\x07\\'\\x80j\\x8bD\\xe9rry\\xe9Z\\x08\\xe2\\xddF\\xee_\\xb0\\xa8\\xbe\\xa5[B\\xdcP\\x84!\\xce\\x17\\x02\\xa3\\xba\\xbai\\x81H\\x98\\x1cT-4\\xaf\\xc3\\x91\\xb7\\xd2\\x9d\\x1c\\\\.\\xd1\\x8e3Urm\\xdcX\\xa3\\x01\\x03\\xb0\\xcb\\x0f\\xd2\\xa5\\x00\\xdc0\\x18-\\x8aU\\x1b\\xfa\\xba\\xf5\\xcf^\\xbfZ\\x90M\\x1c\\n6c\\x1f\\xc4\\x054&\\xc8\\xe4\\x89a\\x07o_\\xa5D\\xb3\\x0f\\x99p\\t\\xf5\\xcd,\\xf2B\\xff\\x00\\xf2\\xd3h#\\x80)\\x91&X\\x00Fz\\xd0\\xc6\\x99$d\\x83\\xb5@\\xdcjSl\\t\\xcb1\\xdcy<S\\xd4\\x05Q\\xb4\\x02{\\xb6i\\xe3,3\\xbb\\xadR%\\xb3*\"&\\x9b\\x0c\\xecGqW\\xe4)\\x1a\\xed@q\\x8e\\x95YV+Q\\xbd\\x97\\x0cG\\xe7J\\x93\\xab\\x9c\\x93\\x8a\\x847\\xe4;x\\xc1\\x07\\x1d8\\xcf\\xadW\\x08\\xa5\\x8b\\x11\\x93\\xde\\xac\\xc8\\x91\\xc8x\\xed\\xedH6\\x05\\xdd\\xd0\\x81\\xde\\x86\\x81\\x10\\xaby|\\x81\\x9c\\xf5\\xa3\\x0e\\xcf\\xb4\\x8c\\x11\\xfc\\xa9\\xc7s\\xb0)\\xf3{T\\xa5\\x9dS\\x1co=x\\xa1\\x0c\\xad$\\x85P\\xae:\\x1ej\\xa4\\xa7\\x12\\x83\\x9c\\n\\xbb.6.1\\xbfvH\\x14\\xe2\\x8aP\\xbb\\x90\\x99\\xe8)0(J\\xd1\\xc4\\x86@\\xdc\\xf6\\x15\\x1c\\x12<\\xc48,[\\xf9U{\\xb42I\\xb8g\\x03\\xb8\\xabV^|\\x8a\\x11T(\\'\\xad+\\x1aib\\xf4(K\\x0ezs\\xcdZl$e]\\x81\\xc8\\xe0R$A\\x15\\x99\\x88\\xe9\\xfa\\xd4fO\\xbc\\x19rA\\xc2\\xd5\\x11{\\xb1\\xa0\\x88FQA\\xcf\\x18\\xa7-\\xc0Q\\xf3.\\x0e:R\\x02\\xa0\\xfc\\xe7\\xe6<\\x01@m\\x8d\\x9e\\x1b=hW\\x06I\\x14Is!i\\x01\\n\\xbd~\\x94H y6\\xc4\\x84(\\x03\\x9e\\xe6\\xa7E\\x0e\\xa0G\\xc1#\\x91P\\xb7\\xee\\xd8\\xa3)\\x074\\xecH\\xe6\\x86(\\xd3\\xbf\\xe7L\\xdb\\xe9\\x9cR<\\x8aX#7\\xca\\xa2\\xa7\\xfbA m\\xc6;|\\xa2\\x98X\\xce\\xbbs,\\x98\\x03\\x81U\\xd1\\x99d9\\'\\x1e\\x95b!\\xbc\\x13\\xc6je\\x8dQIa\\xf3\\x1a\\x82\\xb6$G_,e~a\\xde\\xa3U\\xdb!v8\\x1d\\x94\\x8c\\xd2\\xa7\\t\\xbb8\\xf4\\x1e\\xb4\\xf4\\x8aK\\x827\\xfa\\xd3\\x10G+\\x12p\\xa3\\'\\xa9\\xc68\\xa7\\xe7\\x1f\"a\\xbdMH\\xf2,Q4k\\x10.{\\x93P\\x89\\x19\\x14\\x92p~\\x94\\xc9d\\x8fl\\xb1\\x80\\xd2|\\xaf\\xd4\\n\\xa0\\xcf\\xe7HX\\x82\\x00?\\x9f\\xb5Yg2\\x8c\\xbf\\xcc\\x07\\x7fZ\\x89c\\x0eH9\\x00\\xd2h\\xa4RD&F\\xc2q\\xd0qZV\\xf1\\xa4|\\xe0\\x11L\\x82\\xcf\\xf7\\xdb\\xb7\\xb61VeP\\xad\\xb5\\x063I-A\\xc8\\x8eF,B\\x8f\\xc3\\x9ai\\xda\\x80\\x1c\\x12\\xe7\\xde\\xa7HB).r\\xf8\\xe2\\x9b\\xe5\\x1d\\xa5\\xdb\\x8a\\xa1\\\\\\xaf\"\\x86m\\xd8\\xc1\\xfa\\xd2\\xc29\\xf9\\x87\\x03\\xa9\\xa7\\x96vB\\xa3\\x01}\\xea\\x19\\x0e\\xd5\\x00\\x1d\\xa7\\xb9\\xa3a\\x96D\\xfec\\x15\\r\\x81\\xd0m\\x14O#4j\\xa4\\xe4\\xaf~\\xf5V\\'\\xc4\\x9b\\x14\\x0c\\xb0\\xc6jb\\x84\\xe57t\\xeah\\xe6\\x0bY\\x91\\x08\\x95\\xe4\\x04\\xb6H\\xebW\\xfe\\xc7\\xe8\\xc0\\x0f\\xadGm\\x0cj\\t\\'8\\xe4g\\xb9\\xa7\\x99\\xceN\"4 o\\xb1C\\xcc\\r\\xc2\\xe0\\x00)\\xc5\\x80P\\xcc9\\xc7\\x02\\x9a\\xd1\"\\x1cu5$\\x11\\xb26\\xf9\\x18\\x10:\\x03\\xebR1m\\xe2f\\x7f2l\\xaa\\xf5\\x00\\xd3\\xde\\xe8\\x1d\\xea\\xa38\\x1d=\\xa9%\\x94\\xc8\\xdd\\xff\\x00\\n\\xa4\\xc9!\\x90\\x158\\x07\\xadV\\xc2\\xdc\\xb3\\x0b! \\xe4\\x92\\xc3\\x9c\\xf6\\xa5\\x90\\t\\x1bb\\x1c\\x009>\\xb5\\x18\\x00B\\x11\\x06\\x0fr{\\xd4\\xf9\\xdd\\n\\xc2\\x06\\x18q\\x91J\\xf7\\x0b\\x0cWU\\x91W<\\x01\\xd4\\xd3\\xd1\\x04\\x92\\xe1[\\x8e\\xd5\\x13E\"\\xc8\\x14\\x0c\\x9a\\xb4\\xa7\\xc9A\\x8e[\\xb9\\xaaB\\x1d\\x8f$g\\xb8\\xa6\\xa9,\\xfb\\x8f^\\xd4\\x89\\xba\\xe0\\xe4\\xf03\\xc9\\xa2y\\xa3\\x88\\x05\\x07 t\\xa6\\x85bLd\\x169<\\xd4\\x19r\\xe5On\\xd4\\xd5v\\x94\\xfc\\xa4\\xed\\xa9\\xf6\\xe7\\x9e\\x14\\xd0\\xc2\\xc2*\\xa1;\\x1b\\xe5\\xff\\x00k\\xd2\\xaa\\\\\\xaa\\xef\\x11\\xa4\\x9b\\x89\\xef\\x8a\\x9eg\\x8d\\x10\\xf2Kw\\xaa\\xa57\\xa0n\\x8d\\xf5\\xa9h\\xa8\\xf7#\\x01\\xcc\\xe07!x\\xfa\\xd5\\xc8\\xd5\\x9b%\\x86U\\x7f\\x86\\x92\\x0bs\\xe5\\x97p@\\x1f\\xc5H\\xc5\\x80;X\\xf1\\xedSa\\xb1^`d\\xe7\\xaf\\xa5\\x1b\\xe7<\\xa8\\xe0\\xd2\\xda\\x98\\xd5\\xce\\xf0\\x19\\xf1\\xd0\\xf6\\xab\\x1b\\x97\\xb54&D\\x89\\x92X\\xe01\\xe9\\x93\\x8ac1_\\x94\\x80\\x07zY\\xf9s\\xd0\\xb2\\x9cdt5\\x16\\xd3!\\xc7\\xa7&\\x9e\\xc2\\xdcq\\xc8l\\x0f\\x98T\\xa0\\x84R6\\x8c\\xf5\\xfaSF\\x11\\x01\\xe2\\xa4\\x8e\\'l4\\x9c\\'Q@\\x11G\\x19\\x91\\x8bw\\xcfOJ\\x91\\x960q\\x18\\xc9\\xc7\\xcd\\xc7\\x7fZ\\x92i8\\xdb\\x10\\xc0\\x1d\\xea\\r\\xe5\\x0e\\x17\\x01\\x8f_z@I\\x18T\\x1dIlc\\xde\\x9a\\xcaf\\x93\\x00\\x103\\x93\\xcfZO9\\xa5\\xc1eQ\\x8e2)]\\xc8P\\xaa1\\xeai\\xdc,I!\\xccGgD\\xc7\\xcbUUD\\x926\\xe4\\x03#\\x83\\x9ax\\x95\\xb3\\xb1\\x00\\xe4ri\\xad\\x18\\x8c\\xe7vs\\xda\\x9ac\\xb1\"\\xa8^\\x98\\xfa\\nd\\xb2\\x9d\\xc3\\xbflS\\x0c\\xbbA^q\\x9a|{I\\x0e\\xe7\\x83\\xce(\\x01 \\x8eG8\\x03$\\xf6\\xf4\\xab\\x1eZ\\xc3\\x8d\\xea\\x18\\xfaf\\xa4U\\x96H\\xc3C\\x84S\\xd4\\xfbT{V1\\x80\\xdb\\x98\\xf5cE\\xc49\\xe3i\\x93t\\x87\\x11\\xf6\\x19\\xaa\\xe6H\\xd21\\x16\\x1b9\\xc8\\xc7\\xa5L\\xec\\xce\\x00V\\xc2\\xf6\\x15\\x12\\xdb\\xbb\\\\\\xe5\\x80\\'\\x14\\x80#\\x881\\xc8\\xc8\\xcfRj\\xd8\\xb8X\\xc6\\xc2\\x8av\\xf1\\x9a\\xaf,\\xca\\xae\\x11N{\\x1ar\\x85*\\r\\x16\\x07\\xa9\\x03\\xed\\xe4s\\x9c\\xd4\\xb9HT\\x15<\\x91\\xc8\\xedP\\xb73\\x1c\\xd2\\x12L\\xdc\\xf6\\xff\\x00\\x1aw\\xd4,K\\x0c\\x06Y\\x0b8\\xc0\\x03 z\\xd3\\xa4\\x95\\x98\\xed\\x07\\xe5\\x15\\x1c\\xae\\xc1F\\x0fz{t_u\\xe6\\x90\\x00\\xe4\\n\\x88\\xc6\\xc5\\xc9\\x07\\xe5\\x1d\\x8d\\x0eH\\x8c\\x10y\\xa7\\xa1#\\x00\\x1e\\xa2\\x81\\x89\\x1a\\x16\\'s\\x00\\x94\\xf2\\x86Q\\x84=?\\x95K:\\xaa\\xc6\\x8a\\x06\\x01\\xebL\\x90\\xec\\x83\\xe5\\xe3\\x81E\\x85{\\x90\\xcf*[\\xa8P\\xbc\\xf4&\\x98e\\xf3\\x008\\xa8\\'\\xf9\\x9dA\\xe4sO\\xb69\\xcey\\xa6P\\xf4M\\xcc\\\\\\x8f\\x90t\\xfa\\xd5\\xa8#R\\xc1\\xe4\\xfb\\xa3\\x9cUl\\x90F+N\\xd3\\x9c\\xe4\\x03\\x8e\\x06E\\x02l\\x8e\\xea\\xf1T\\x04\\x88c#\\xa0\\xaa\\xc1\\x84K\\xb9\\xb9c\\xce=)fQ\\xe6J\\xd8\\xe4\\x13\\x8a\\x80\\xf2\\xbc\\xd2lQW$23\\x90\\xe7\\x90\\x07\\x02\\x8c\\xbc\\xb2\\r\\xae@\\x03\\x19=\\xe8N\\x13\\x1d\\xaa\\'\\x1f\\xbb>\\xd4\\\\\\xab\\x0f\\xd8\\xd1\\xcaT\\x81\\xc7\\xa7z\\x94^0\\x18!\\t\\x1d\\xcdT\\x1f\\xf1\\xecO9\\x07\\xd6\\x9a\\x0f\\x14\\xae\\x16?\\xff\\xd9'"
      ]
     },
     "execution_count": 52,
     "metadata": {},
     "output_type": "execute_result"
    }
   ],
   "source": [
    "imageo[()]"
   ]
  },
  {
   "cell_type": "code",
   "execution_count": 53,
   "id": "a604d758",
   "metadata": {},
   "outputs": [
    {
     "ename": "TypeError",
     "evalue": "Cannot handle this data type: (1, 1), |S3325",
     "output_type": "error",
     "traceback": [
      "\u001b[0;31m---------------------------------------------------------------------------\u001b[0m",
      "\u001b[0;31mKeyError\u001b[0m                                  Traceback (most recent call last)",
      "File \u001b[0;32m/opt/anaconda3/lib/python3.11/site-packages/PIL/Image.py:3098\u001b[0m, in \u001b[0;36mfromarray\u001b[0;34m(obj, mode)\u001b[0m\n\u001b[1;32m   3097\u001b[0m \u001b[38;5;28;01mtry\u001b[39;00m:\n\u001b[0;32m-> 3098\u001b[0m     mode, rawmode \u001b[38;5;241m=\u001b[39m _fromarray_typemap[typekey]\n\u001b[1;32m   3099\u001b[0m \u001b[38;5;28;01mexcept\u001b[39;00m \u001b[38;5;167;01mKeyError\u001b[39;00m \u001b[38;5;28;01mas\u001b[39;00m e:\n",
      "\u001b[0;31mKeyError\u001b[0m: ((1, 1), '|S3325')",
      "\nThe above exception was the direct cause of the following exception:\n",
      "\u001b[0;31mTypeError\u001b[0m                                 Traceback (most recent call last)",
      "Cell \u001b[0;32mIn[53], line 1\u001b[0m\n\u001b[0;32m----> 1\u001b[0m retrieved_image \u001b[38;5;241m=\u001b[39m Image\u001b[38;5;241m.\u001b[39mfromarray(imageo[()])\n\u001b[1;32m      2\u001b[0m retrieved_image\u001b[38;5;241m.\u001b[39mshow()\n",
      "File \u001b[0;32m/opt/anaconda3/lib/python3.11/site-packages/PIL/Image.py:3102\u001b[0m, in \u001b[0;36mfromarray\u001b[0;34m(obj, mode)\u001b[0m\n\u001b[1;32m   3100\u001b[0m         typekey_shape, typestr \u001b[38;5;241m=\u001b[39m typekey\n\u001b[1;32m   3101\u001b[0m         msg \u001b[38;5;241m=\u001b[39m \u001b[38;5;124mf\u001b[39m\u001b[38;5;124m\"\u001b[39m\u001b[38;5;124mCannot handle this data type: \u001b[39m\u001b[38;5;132;01m{\u001b[39;00mtypekey_shape\u001b[38;5;132;01m}\u001b[39;00m\u001b[38;5;124m, \u001b[39m\u001b[38;5;132;01m{\u001b[39;00mtypestr\u001b[38;5;132;01m}\u001b[39;00m\u001b[38;5;124m\"\u001b[39m\n\u001b[0;32m-> 3102\u001b[0m         \u001b[38;5;28;01mraise\u001b[39;00m \u001b[38;5;167;01mTypeError\u001b[39;00m(msg) \u001b[38;5;28;01mfrom\u001b[39;00m \u001b[38;5;21;01me\u001b[39;00m\n\u001b[1;32m   3103\u001b[0m \u001b[38;5;28;01melse\u001b[39;00m:\n\u001b[1;32m   3104\u001b[0m     rawmode \u001b[38;5;241m=\u001b[39m mode\n",
      "\u001b[0;31mTypeError\u001b[0m: Cannot handle this data type: (1, 1), |S3325"
     ]
    }
   ],
   "source": [
    "\n",
    "data = list(f[keys[0]])\n",
    "# preferred methods to get dataset values:\n",
    "ds_obj = f[keys[0]]     # returns as a h5py dataset object\n",
    "ds_arr = f[keys[0]][()]  # returns as a numpy array\n",
    "retrieved_image = Image.fromarray(imageo[()])\n",
    "retrieved_image.show()"
   ]
  },
  {
   "cell_type": "code",
   "execution_count": null,
   "id": "f1c86c48",
   "metadata": {},
   "outputs": [],
   "source": []
  }
 ],
 "metadata": {
  "kernelspec": {
   "display_name": "Python 3 (ipykernel)",
   "language": "python",
   "name": "python3"
  },
  "language_info": {
   "codemirror_mode": {
    "name": "ipython",
    "version": 3
   },
   "file_extension": ".py",
   "mimetype": "text/x-python",
   "name": "python",
   "nbconvert_exporter": "python",
   "pygments_lexer": "ipython3",
   "version": "3.11.7"
  }
 },
 "nbformat": 4,
 "nbformat_minor": 5
}
