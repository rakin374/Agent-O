{
 "cells": [
  {
   "cell_type": "code",
   "execution_count": null,
   "id": "1616b092-bad1-485f-9814-a5d186932fca",
   "metadata": {},
   "outputs": [],
   "source": [
    "#RUNAWAY FAST AS YOU CAN!"
   ]
  },
  {
   "cell_type": "markdown",
   "id": "d6b46537-65a6-4b0c-8e5b-bc8d14761aa0",
   "metadata": {},
   "source": [
    "# Augmenting ISIC\n",
    " In this notebook we will implement augmentation on the ISIC dataset"
   ]
  },
  {
   "cell_type": "code",
   "execution_count": null,
   "id": "ea21b417-b48e-4808-92e2-3fc14b552ef3",
   "metadata": {},
   "outputs": [],
   "source": []
  }
 ],
 "metadata": {
  "kernelspec": {
   "display_name": "Python 3 (ipykernel)",
   "language": "python",
   "name": "python3"
  },
  "language_info": {
   "codemirror_mode": {
    "name": "ipython",
    "version": 3
   },
   "file_extension": ".py",
   "mimetype": "text/x-python",
   "name": "python",
   "nbconvert_exporter": "python",
   "pygments_lexer": "ipython3",
   "version": "3.11.9"
  }
 },
 "nbformat": 4,
 "nbformat_minor": 5
}
