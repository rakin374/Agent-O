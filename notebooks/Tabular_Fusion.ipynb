{
 "cells": [
  {
   "cell_type": "code",
   "execution_count": 297,
   "metadata": {},
   "outputs": [],
   "source": [
    "import numpy as np\n",
    "import pandas as pd"
   ]
  },
  {
   "cell_type": "code",
   "execution_count": 298,
   "metadata": {},
   "outputs": [],
   "source": [
    "#!ls ../data/isic-2024-challenge/"
   ]
  },
  {
   "cell_type": "code",
   "execution_count": 299,
   "metadata": {},
   "outputs": [],
   "source": [
    "train = pd.read_csv(\"train_metadata.csv\")\n",
    "test = pd.read_csv(\"test_metadata.csv\")"
   ]
  },
  {
   "cell_type": "code",
   "execution_count": 300,
   "metadata": {
    "scrolled": true
   },
   "outputs": [
    {
     "data": {
      "text/plain": [
       "(320847, 41)"
      ]
     },
     "execution_count": 300,
     "metadata": {},
     "output_type": "execute_result"
    }
   ],
   "source": [
    "train.shape"
   ]
  },
  {
   "cell_type": "code",
   "execution_count": 301,
   "metadata": {},
   "outputs": [],
   "source": [
    "y = train[\"target\"]"
   ]
  },
  {
   "cell_type": "code",
   "execution_count": 302,
   "metadata": {},
   "outputs": [
    {
     "data": {
      "text/plain": [
       "(80212, 41)"
      ]
     },
     "execution_count": 302,
     "metadata": {},
     "output_type": "execute_result"
    }
   ],
   "source": [
    "test.shape"
   ]
  },
  {
   "cell_type": "markdown",
   "metadata": {},
   "source": [
    "Test has fewer columns than train - only use the intersection so that we can apply to test data <br>"
   ]
  },
  {
   "cell_type": "code",
   "execution_count": 303,
   "metadata": {},
   "outputs": [
    {
     "data": {
      "text/plain": [
       "41"
      ]
     },
     "execution_count": 303,
     "metadata": {},
     "output_type": "execute_result"
    }
   ],
   "source": [
    "shared_cols = set(train.columns).intersection(set(test.columns))\n",
    "len(shared_cols)"
   ]
  },
  {
   "cell_type": "markdown",
   "metadata": {},
   "source": [
    "Use second line in the next cell if you want to use all columns instead."
   ]
  },
  {
   "cell_type": "code",
   "execution_count": 304,
   "metadata": {},
   "outputs": [
    {
     "data": {
      "text/plain": [
       "(320847, 40)"
      ]
     },
     "execution_count": 304,
     "metadata": {},
     "output_type": "execute_result"
    }
   ],
   "source": [
    "# train_trim = train[list(shared_cols)]\n",
    "train_trim = train.drop(\"target\", axis=1)\n",
    "train_trim.shape"
   ]
  },
  {
   "cell_type": "markdown",
   "metadata": {},
   "source": [
    "String columns"
   ]
  },
  {
   "cell_type": "code",
   "execution_count": 305,
   "metadata": {},
   "outputs": [
    {
     "data": {
      "text/plain": [
       "5"
      ]
     },
     "execution_count": 305,
     "metadata": {},
     "output_type": "execute_result"
    }
   ],
   "source": [
    "len(train_trim.select_dtypes(include=\"object\").columns)"
   ]
  },
  {
   "cell_type": "markdown",
   "metadata": {},
   "source": [
    "Number columns"
   ]
  },
  {
   "cell_type": "code",
   "execution_count": 306,
   "metadata": {},
   "outputs": [
    {
     "data": {
      "text/plain": [
       "35"
      ]
     },
     "execution_count": 306,
     "metadata": {},
     "output_type": "execute_result"
    }
   ],
   "source": [
    "len(train_trim.select_dtypes(include=\"number\").columns)"
   ]
  },
  {
   "cell_type": "markdown",
   "metadata": {},
   "source": [
    "Null checking"
   ]
  },
  {
   "cell_type": "code",
   "execution_count": 307,
   "metadata": {},
   "outputs": [
    {
     "data": {
      "text/plain": [
       "id                        0.000000\n",
       "age_approx                0.694100\n",
       "sex                       2.875514\n",
       "anatom_site_general       1.435264\n",
       "clin_size_long_diam_mm    0.000000\n",
       "dtype: float64"
      ]
     },
     "execution_count": 307,
     "metadata": {},
     "output_type": "execute_result"
    }
   ],
   "source": [
    "nulls = train_trim.apply(lambda col: col.isnull().sum() / col.size * 100)\n",
    "nulls.head()"
   ]
  },
  {
   "cell_type": "markdown",
   "metadata": {},
   "source": [
    "Columns with nulls"
   ]
  },
  {
   "cell_type": "code",
   "execution_count": 308,
   "metadata": {},
   "outputs": [
    {
     "data": {
      "text/plain": [
       "age_approx             0.694100\n",
       "sex                    2.875514\n",
       "anatom_site_general    1.435264\n",
       "dtype: float64"
      ]
     },
     "execution_count": 308,
     "metadata": {},
     "output_type": "execute_result"
    }
   ],
   "source": [
    "nulls[nulls > 0]"
   ]
  },
  {
   "cell_type": "markdown",
   "metadata": {},
   "source": [
    "Dropping rows with null age. Sex handled later, anatom_site_general not used."
   ]
  },
  {
   "cell_type": "code",
   "execution_count": 309,
   "metadata": {},
   "outputs": [],
   "source": [
    "train_trim = train_trim.dropna(subset=['age_approx'])"
   ]
  },
  {
   "cell_type": "markdown",
   "metadata": {},
   "source": [
    "Extract string columns"
   ]
  },
  {
   "cell_type": "code",
   "execution_count": 310,
   "metadata": {},
   "outputs": [
    {
     "data": {
      "text/html": [
       "<div>\n",
       "<style scoped>\n",
       "    .dataframe tbody tr th:only-of-type {\n",
       "        vertical-align: middle;\n",
       "    }\n",
       "\n",
       "    .dataframe tbody tr th {\n",
       "        vertical-align: top;\n",
       "    }\n",
       "\n",
       "    .dataframe thead th {\n",
       "        text-align: right;\n",
       "    }\n",
       "</style>\n",
       "<table border=\"1\" class=\"dataframe\">\n",
       "  <thead>\n",
       "    <tr style=\"text-align: right;\">\n",
       "      <th></th>\n",
       "      <th>sex</th>\n",
       "      <th>anatom_site_general</th>\n",
       "      <th>tbp_tile_type</th>\n",
       "      <th>tbp_lv_location</th>\n",
       "      <th>tbp_lv_location_simple</th>\n",
       "    </tr>\n",
       "  </thead>\n",
       "  <tbody>\n",
       "    <tr>\n",
       "      <th>0</th>\n",
       "      <td>male</td>\n",
       "      <td>upper extremity</td>\n",
       "      <td>3D: white</td>\n",
       "      <td>Left Arm - Lower</td>\n",
       "      <td>Left Arm</td>\n",
       "    </tr>\n",
       "    <tr>\n",
       "      <th>1</th>\n",
       "      <td>female</td>\n",
       "      <td>posterior torso</td>\n",
       "      <td>3D: XP</td>\n",
       "      <td>Torso Back Middle Third</td>\n",
       "      <td>Torso Back</td>\n",
       "    </tr>\n",
       "    <tr>\n",
       "      <th>2</th>\n",
       "      <td>female</td>\n",
       "      <td>lower extremity</td>\n",
       "      <td>3D: XP</td>\n",
       "      <td>Left Leg - Upper</td>\n",
       "      <td>Left Leg</td>\n",
       "    </tr>\n",
       "    <tr>\n",
       "      <th>3</th>\n",
       "      <td>female</td>\n",
       "      <td>upper extremity</td>\n",
       "      <td>3D: white</td>\n",
       "      <td>Left Arm - Lower</td>\n",
       "      <td>Left Arm</td>\n",
       "    </tr>\n",
       "    <tr>\n",
       "      <th>4</th>\n",
       "      <td>male</td>\n",
       "      <td>posterior torso</td>\n",
       "      <td>3D: XP</td>\n",
       "      <td>Torso Back Top Third</td>\n",
       "      <td>Torso Back</td>\n",
       "    </tr>\n",
       "  </tbody>\n",
       "</table>\n",
       "</div>"
      ],
      "text/plain": [
       "      sex anatom_site_general tbp_tile_type          tbp_lv_location  \\\n",
       "0    male     upper extremity     3D: white         Left Arm - Lower   \n",
       "1  female     posterior torso        3D: XP  Torso Back Middle Third   \n",
       "2  female     lower extremity        3D: XP         Left Leg - Upper   \n",
       "3  female     upper extremity     3D: white         Left Arm - Lower   \n",
       "4    male     posterior torso        3D: XP     Torso Back Top Third   \n",
       "\n",
       "  tbp_lv_location_simple  \n",
       "0               Left Arm  \n",
       "1             Torso Back  \n",
       "2               Left Leg  \n",
       "3               Left Arm  \n",
       "4             Torso Back  "
      ]
     },
     "execution_count": 310,
     "metadata": {},
     "output_type": "execute_result"
    }
   ],
   "source": [
    "string_cols = train_trim.select_dtypes(include=\"object\")\n",
    "string_cols.head()"
   ]
  },
  {
   "cell_type": "markdown",
   "metadata": {},
   "source": [
    "Check for constant-value columns"
   ]
  },
  {
   "cell_type": "code",
   "execution_count": 311,
   "metadata": {},
   "outputs": [
    {
     "data": {
      "text/plain": [
       "sex                                                     [male, female, nan]\n",
       "anatom_site_general       [upper extremity, posterior torso, lower extre...\n",
       "tbp_tile_type                                           [3D: white, 3D: XP]\n",
       "tbp_lv_location           [Left Arm - Lower, Torso Back Middle Third, Le...\n",
       "tbp_lv_location_simple    [Left Arm, Torso Back, Left Leg, Torso Front, ...\n",
       "dtype: object"
      ]
     },
     "execution_count": 311,
     "metadata": {},
     "output_type": "execute_result"
    }
   ],
   "source": [
    "string_cols.apply(lambda row: row.unique())"
   ]
  },
  {
   "cell_type": "markdown",
   "metadata": {},
   "source": [
    "Drop ID and other useless string columns"
   ]
  },
  {
   "cell_type": "code",
   "execution_count": 312,
   "metadata": {},
   "outputs": [
    {
     "data": {
      "text/plain": [
       "{'anatom_site_general', 'sex', 'tbp_lv_location', 'tbp_lv_location_simple'}"
      ]
     },
     "execution_count": 312,
     "metadata": {},
     "output_type": "execute_result"
    }
   ],
   "source": [
    "to_drop = [\"tbp_tile_type\", \"copyright_license\", \"isic_id\", \"patient_id\", \"attribution\", \"image_type\"]\n",
    "set(string_cols.columns).difference(set(to_drop))"
   ]
  },
  {
   "cell_type": "markdown",
   "metadata": {},
   "source": [
    "3 location columns, increasing specificity. Using the middle one for one-hot encoding"
   ]
  },
  {
   "cell_type": "code",
   "execution_count": 313,
   "metadata": {},
   "outputs": [
    {
     "data": {
      "text/plain": [
       "anatom_site_general\n",
       "posterior torso    96839\n",
       "lower extremity    81711\n",
       "anterior torso     69630\n",
       "upper extremity    56224\n",
       "head/neck           9624\n",
       "Name: count, dtype: int64"
      ]
     },
     "execution_count": 313,
     "metadata": {},
     "output_type": "execute_result"
    }
   ],
   "source": [
    "string_cols[\"anatom_site_general\"].value_counts()"
   ]
  },
  {
   "cell_type": "code",
   "execution_count": 314,
   "metadata": {},
   "outputs": [
    {
     "data": {
      "text/plain": [
       "tbp_lv_location_simple\n",
       "Torso Back     96839\n",
       "Torso Front    69630\n",
       "Left Leg       42204\n",
       "Right Leg      39507\n",
       "Left Arm       28952\n",
       "Right Arm      27272\n",
       "Head & Neck     9624\n",
       "Unknown         4592\n",
       "Name: count, dtype: int64"
      ]
     },
     "execution_count": 314,
     "metadata": {},
     "output_type": "execute_result"
    }
   ],
   "source": [
    "string_cols[\"tbp_lv_location_simple\"].value_counts()"
   ]
  },
  {
   "cell_type": "code",
   "execution_count": 315,
   "metadata": {},
   "outputs": [
    {
     "data": {
      "text/plain": [
       "tbp_lv_location\n",
       "Torso Back Top Third       56565\n",
       "Torso Front Top Half       50365\n",
       "Torso Back Middle Third    36617\n",
       "Left Leg - Lower           21854\n",
       "Right Leg - Lower          19955\n",
       "Torso Front Bottom Half    19223\n",
       "Left Leg - Upper           18768\n",
       "Right Arm - Upper          18359\n",
       "Left Arm - Upper           18241\n",
       "Right Leg - Upper          18195\n",
       "Head & Neck                 9624\n",
       "Left Arm - Lower            9457\n",
       "Right Arm - Lower           8445\n",
       "Unknown                     4592\n",
       "Torso Back Bottom Third     3650\n",
       "Left Leg                    1582\n",
       "Right Leg                   1357\n",
       "Left Arm                    1254\n",
       "Right Arm                    468\n",
       "Torso Front                   42\n",
       "Torso Back                     7\n",
       "Name: count, dtype: int64"
      ]
     },
     "execution_count": 315,
     "metadata": {},
     "output_type": "execute_result"
    }
   ],
   "source": [
    "string_cols[\"tbp_lv_location\"].value_counts()"
   ]
  },
  {
   "cell_type": "markdown",
   "metadata": {},
   "source": [
    "One-hot encoding the sex column. Using a vector of length 2 here to account for the NaaNs - when the value is \"unknown\", the vector is [0, 0]. Alternatively, we could drop all NaaN rows and use a single indicator column."
   ]
  },
  {
   "cell_type": "code",
   "execution_count": 316,
   "metadata": {},
   "outputs": [],
   "source": [
    "male_indicator = string_cols[\"sex\"].apply(lambda s: float(s == \"male\" and not s == \"unknown\"))\n",
    "male_indicator.name = \"Male\"\n",
    "female_indicator = string_cols[\"sex\"].apply(lambda s: float(s == \"female\" and not s == \"unknown\"))\n",
    "female_indicator.name = \"Female\""
   ]
  },
  {
   "cell_type": "code",
   "execution_count": 317,
   "metadata": {},
   "outputs": [
    {
     "data": {
      "text/html": [
       "<div>\n",
       "<style scoped>\n",
       "    .dataframe tbody tr th:only-of-type {\n",
       "        vertical-align: middle;\n",
       "    }\n",
       "\n",
       "    .dataframe tbody tr th {\n",
       "        vertical-align: top;\n",
       "    }\n",
       "\n",
       "    .dataframe thead th {\n",
       "        text-align: right;\n",
       "    }\n",
       "</style>\n",
       "<table border=\"1\" class=\"dataframe\">\n",
       "  <thead>\n",
       "    <tr style=\"text-align: right;\">\n",
       "      <th></th>\n",
       "      <th>Male</th>\n",
       "      <th>Female</th>\n",
       "    </tr>\n",
       "  </thead>\n",
       "  <tbody>\n",
       "    <tr>\n",
       "      <th>320842</th>\n",
       "      <td>0.0</td>\n",
       "      <td>0.0</td>\n",
       "    </tr>\n",
       "    <tr>\n",
       "      <th>320843</th>\n",
       "      <td>1.0</td>\n",
       "      <td>0.0</td>\n",
       "    </tr>\n",
       "    <tr>\n",
       "      <th>320844</th>\n",
       "      <td>1.0</td>\n",
       "      <td>0.0</td>\n",
       "    </tr>\n",
       "    <tr>\n",
       "      <th>320845</th>\n",
       "      <td>1.0</td>\n",
       "      <td>0.0</td>\n",
       "    </tr>\n",
       "    <tr>\n",
       "      <th>320846</th>\n",
       "      <td>1.0</td>\n",
       "      <td>0.0</td>\n",
       "    </tr>\n",
       "  </tbody>\n",
       "</table>\n",
       "</div>"
      ],
      "text/plain": [
       "        Male  Female\n",
       "320842   0.0     0.0\n",
       "320843   1.0     0.0\n",
       "320844   1.0     0.0\n",
       "320845   1.0     0.0\n",
       "320846   1.0     0.0"
      ]
     },
     "execution_count": 317,
     "metadata": {},
     "output_type": "execute_result"
    }
   ],
   "source": [
    "numerical_sex = pd.concat([male_indicator, female_indicator], axis=1)\n",
    "numerical_sex.tail()"
   ]
  },
  {
   "cell_type": "markdown",
   "metadata": {},
   "source": [
    "One-hot encoding the location column"
   ]
  },
  {
   "cell_type": "code",
   "execution_count": 318,
   "metadata": {},
   "outputs": [
    {
     "data": {
      "text/html": [
       "<div>\n",
       "<style scoped>\n",
       "    .dataframe tbody tr th:only-of-type {\n",
       "        vertical-align: middle;\n",
       "    }\n",
       "\n",
       "    .dataframe tbody tr th {\n",
       "        vertical-align: top;\n",
       "    }\n",
       "\n",
       "    .dataframe thead th {\n",
       "        text-align: right;\n",
       "    }\n",
       "</style>\n",
       "<table border=\"1\" class=\"dataframe\">\n",
       "  <thead>\n",
       "    <tr style=\"text-align: right;\">\n",
       "      <th>tbp_lv_location_simple</th>\n",
       "      <th>Torso Back</th>\n",
       "      <th>Torso Front</th>\n",
       "      <th>Left Leg</th>\n",
       "      <th>Right Leg</th>\n",
       "      <th>Left Arm</th>\n",
       "      <th>Right Arm</th>\n",
       "      <th>Head &amp; Neck</th>\n",
       "    </tr>\n",
       "  </thead>\n",
       "  <tbody>\n",
       "    <tr>\n",
       "      <th>0</th>\n",
       "      <td>0.0</td>\n",
       "      <td>0.0</td>\n",
       "      <td>0.0</td>\n",
       "      <td>0.0</td>\n",
       "      <td>1.0</td>\n",
       "      <td>0.0</td>\n",
       "      <td>0.0</td>\n",
       "    </tr>\n",
       "    <tr>\n",
       "      <th>1</th>\n",
       "      <td>1.0</td>\n",
       "      <td>0.0</td>\n",
       "      <td>0.0</td>\n",
       "      <td>0.0</td>\n",
       "      <td>0.0</td>\n",
       "      <td>0.0</td>\n",
       "      <td>0.0</td>\n",
       "    </tr>\n",
       "    <tr>\n",
       "      <th>2</th>\n",
       "      <td>0.0</td>\n",
       "      <td>0.0</td>\n",
       "      <td>1.0</td>\n",
       "      <td>0.0</td>\n",
       "      <td>0.0</td>\n",
       "      <td>0.0</td>\n",
       "      <td>0.0</td>\n",
       "    </tr>\n",
       "    <tr>\n",
       "      <th>3</th>\n",
       "      <td>0.0</td>\n",
       "      <td>0.0</td>\n",
       "      <td>0.0</td>\n",
       "      <td>0.0</td>\n",
       "      <td>1.0</td>\n",
       "      <td>0.0</td>\n",
       "      <td>0.0</td>\n",
       "    </tr>\n",
       "    <tr>\n",
       "      <th>4</th>\n",
       "      <td>1.0</td>\n",
       "      <td>0.0</td>\n",
       "      <td>0.0</td>\n",
       "      <td>0.0</td>\n",
       "      <td>0.0</td>\n",
       "      <td>0.0</td>\n",
       "      <td>0.0</td>\n",
       "    </tr>\n",
       "  </tbody>\n",
       "</table>\n",
       "</div>"
      ],
      "text/plain": [
       "tbp_lv_location_simple  Torso Back  Torso Front  Left Leg  Right Leg  \\\n",
       "0                              0.0          0.0       0.0        0.0   \n",
       "1                              1.0          0.0       0.0        0.0   \n",
       "2                              0.0          0.0       1.0        0.0   \n",
       "3                              0.0          0.0       0.0        0.0   \n",
       "4                              1.0          0.0       0.0        0.0   \n",
       "\n",
       "tbp_lv_location_simple  Left Arm  Right Arm  Head & Neck  \n",
       "0                            1.0        0.0          0.0  \n",
       "1                            0.0        0.0          0.0  \n",
       "2                            0.0        0.0          0.0  \n",
       "3                            1.0        0.0          0.0  \n",
       "4                            0.0        0.0          0.0  "
      ]
     },
     "execution_count": 318,
     "metadata": {},
     "output_type": "execute_result"
    }
   ],
   "source": [
    "one_hot_location = pd.Series(string_cols[\"tbp_lv_location_simple\"].value_counts().index[:-1]).apply(\n",
    "    lambda location: string_cols[\"tbp_lv_location_simple\"].apply(lambda loc: float(loc == location))).transpose()\n",
    "one_hot_location.columns = string_cols[\"tbp_lv_location_simple\"].value_counts().index[:-1]\n",
    "one_hot_location.head()\n"
   ]
  },
  {
   "cell_type": "markdown",
   "metadata": {},
   "source": [
    "Total one-hot encoded columns"
   ]
  },
  {
   "cell_type": "code",
   "execution_count": 319,
   "metadata": {},
   "outputs": [
    {
     "data": {
      "text/html": [
       "<div>\n",
       "<style scoped>\n",
       "    .dataframe tbody tr th:only-of-type {\n",
       "        vertical-align: middle;\n",
       "    }\n",
       "\n",
       "    .dataframe tbody tr th {\n",
       "        vertical-align: top;\n",
       "    }\n",
       "\n",
       "    .dataframe thead th {\n",
       "        text-align: right;\n",
       "    }\n",
       "</style>\n",
       "<table border=\"1\" class=\"dataframe\">\n",
       "  <thead>\n",
       "    <tr style=\"text-align: right;\">\n",
       "      <th></th>\n",
       "      <th>Male</th>\n",
       "      <th>Female</th>\n",
       "      <th>Torso Back</th>\n",
       "      <th>Torso Front</th>\n",
       "      <th>Left Leg</th>\n",
       "      <th>Right Leg</th>\n",
       "      <th>Left Arm</th>\n",
       "      <th>Right Arm</th>\n",
       "      <th>Head &amp; Neck</th>\n",
       "    </tr>\n",
       "  </thead>\n",
       "  <tbody>\n",
       "    <tr>\n",
       "      <th>0</th>\n",
       "      <td>1.0</td>\n",
       "      <td>0.0</td>\n",
       "      <td>0.0</td>\n",
       "      <td>0.0</td>\n",
       "      <td>0.0</td>\n",
       "      <td>0.0</td>\n",
       "      <td>1.0</td>\n",
       "      <td>0.0</td>\n",
       "      <td>0.0</td>\n",
       "    </tr>\n",
       "    <tr>\n",
       "      <th>1</th>\n",
       "      <td>0.0</td>\n",
       "      <td>1.0</td>\n",
       "      <td>1.0</td>\n",
       "      <td>0.0</td>\n",
       "      <td>0.0</td>\n",
       "      <td>0.0</td>\n",
       "      <td>0.0</td>\n",
       "      <td>0.0</td>\n",
       "      <td>0.0</td>\n",
       "    </tr>\n",
       "    <tr>\n",
       "      <th>2</th>\n",
       "      <td>0.0</td>\n",
       "      <td>1.0</td>\n",
       "      <td>0.0</td>\n",
       "      <td>0.0</td>\n",
       "      <td>1.0</td>\n",
       "      <td>0.0</td>\n",
       "      <td>0.0</td>\n",
       "      <td>0.0</td>\n",
       "      <td>0.0</td>\n",
       "    </tr>\n",
       "    <tr>\n",
       "      <th>3</th>\n",
       "      <td>0.0</td>\n",
       "      <td>1.0</td>\n",
       "      <td>0.0</td>\n",
       "      <td>0.0</td>\n",
       "      <td>0.0</td>\n",
       "      <td>0.0</td>\n",
       "      <td>1.0</td>\n",
       "      <td>0.0</td>\n",
       "      <td>0.0</td>\n",
       "    </tr>\n",
       "    <tr>\n",
       "      <th>4</th>\n",
       "      <td>1.0</td>\n",
       "      <td>0.0</td>\n",
       "      <td>1.0</td>\n",
       "      <td>0.0</td>\n",
       "      <td>0.0</td>\n",
       "      <td>0.0</td>\n",
       "      <td>0.0</td>\n",
       "      <td>0.0</td>\n",
       "      <td>0.0</td>\n",
       "    </tr>\n",
       "  </tbody>\n",
       "</table>\n",
       "</div>"
      ],
      "text/plain": [
       "   Male  Female  Torso Back  Torso Front  Left Leg  Right Leg  Left Arm  \\\n",
       "0   1.0     0.0         0.0          0.0       0.0        0.0       1.0   \n",
       "1   0.0     1.0         1.0          0.0       0.0        0.0       0.0   \n",
       "2   0.0     1.0         0.0          0.0       1.0        0.0       0.0   \n",
       "3   0.0     1.0         0.0          0.0       0.0        0.0       1.0   \n",
       "4   1.0     0.0         1.0          0.0       0.0        0.0       0.0   \n",
       "\n",
       "   Right Arm  Head & Neck  \n",
       "0        0.0          0.0  \n",
       "1        0.0          0.0  \n",
       "2        0.0          0.0  \n",
       "3        0.0          0.0  \n",
       "4        0.0          0.0  "
      ]
     },
     "execution_count": 319,
     "metadata": {},
     "output_type": "execute_result"
    }
   ],
   "source": [
    "one_hot_combined = pd.concat([numerical_sex, one_hot_location], axis=1)\n",
    "one_hot_combined.head()"
   ]
  },
  {
   "cell_type": "markdown",
   "metadata": {},
   "source": [
    "Normalizing other numerical columns to the [0, 1] range with min-max scaling"
   ]
  },
  {
   "cell_type": "code",
   "execution_count": 320,
   "metadata": {},
   "outputs": [],
   "source": [
    "numerical = train_trim.select_dtypes(include=\"number\")\n",
    "\n",
    "for column in numerical.columns: \n",
    "    numerical[column] = (numerical[column] - numerical[column].min()) / (numerical[column].max() - numerical[column].min())     "
   ]
  },
  {
   "cell_type": "markdown",
   "metadata": {},
   "source": [
    "Concat with numerical columns to get the clean data"
   ]
  },
  {
   "cell_type": "code",
   "execution_count": 321,
   "metadata": {},
   "outputs": [
    {
     "data": {
      "text/html": [
       "<div>\n",
       "<style scoped>\n",
       "    .dataframe tbody tr th:only-of-type {\n",
       "        vertical-align: middle;\n",
       "    }\n",
       "\n",
       "    .dataframe tbody tr th {\n",
       "        vertical-align: top;\n",
       "    }\n",
       "\n",
       "    .dataframe thead th {\n",
       "        text-align: right;\n",
       "    }\n",
       "</style>\n",
       "<table border=\"1\" class=\"dataframe\">\n",
       "  <thead>\n",
       "    <tr style=\"text-align: right;\">\n",
       "      <th></th>\n",
       "      <th>Male</th>\n",
       "      <th>Female</th>\n",
       "      <th>Torso Back</th>\n",
       "      <th>Torso Front</th>\n",
       "      <th>Left Leg</th>\n",
       "      <th>Right Leg</th>\n",
       "      <th>Left Arm</th>\n",
       "      <th>Right Arm</th>\n",
       "      <th>Head &amp; Neck</th>\n",
       "      <th>id</th>\n",
       "      <th>...</th>\n",
       "      <th>tbp_lv_norm_color</th>\n",
       "      <th>tbp_lv_perimeterMM</th>\n",
       "      <th>tbp_lv_radial_color_std_max</th>\n",
       "      <th>tbp_lv_stdL</th>\n",
       "      <th>tbp_lv_stdLExt</th>\n",
       "      <th>tbp_lv_symm_2axis</th>\n",
       "      <th>tbp_lv_symm_2axis_angle</th>\n",
       "      <th>tbp_lv_x</th>\n",
       "      <th>tbp_lv_y</th>\n",
       "      <th>tbp_lv_z</th>\n",
       "    </tr>\n",
       "  </thead>\n",
       "  <tbody>\n",
       "    <tr>\n",
       "      <th>0</th>\n",
       "      <td>1.0</td>\n",
       "      <td>0.0</td>\n",
       "      <td>0.0</td>\n",
       "      <td>0.0</td>\n",
       "      <td>0.0</td>\n",
       "      <td>0.0</td>\n",
       "      <td>1.0</td>\n",
       "      <td>0.0</td>\n",
       "      <td>0.0</td>\n",
       "      <td>0.000000</td>\n",
       "      <td>...</td>\n",
       "      <td>0.320724</td>\n",
       "      <td>0.045869</td>\n",
       "      <td>0.102839</td>\n",
       "      <td>0.129462</td>\n",
       "      <td>0.061593</td>\n",
       "      <td>0.192391</td>\n",
       "      <td>0.257143</td>\n",
       "      <td>0.149702</td>\n",
       "      <td>0.776402</td>\n",
       "      <td>0.514450</td>\n",
       "    </tr>\n",
       "    <tr>\n",
       "      <th>1</th>\n",
       "      <td>0.0</td>\n",
       "      <td>1.0</td>\n",
       "      <td>1.0</td>\n",
       "      <td>0.0</td>\n",
       "      <td>0.0</td>\n",
       "      <td>0.0</td>\n",
       "      <td>0.0</td>\n",
       "      <td>0.0</td>\n",
       "      <td>0.0</td>\n",
       "      <td>0.000003</td>\n",
       "      <td>...</td>\n",
       "      <td>0.274954</td>\n",
       "      <td>0.046672</td>\n",
       "      <td>0.088264</td>\n",
       "      <td>0.154240</td>\n",
       "      <td>0.052280</td>\n",
       "      <td>0.259906</td>\n",
       "      <td>0.371429</td>\n",
       "      <td>0.456182</td>\n",
       "      <td>0.714228</td>\n",
       "      <td>0.656138</td>\n",
       "    </tr>\n",
       "    <tr>\n",
       "      <th>2</th>\n",
       "      <td>0.0</td>\n",
       "      <td>1.0</td>\n",
       "      <td>0.0</td>\n",
       "      <td>0.0</td>\n",
       "      <td>1.0</td>\n",
       "      <td>0.0</td>\n",
       "      <td>0.0</td>\n",
       "      <td>0.0</td>\n",
       "      <td>0.0</td>\n",
       "      <td>0.000006</td>\n",
       "      <td>...</td>\n",
       "      <td>0.433906</td>\n",
       "      <td>0.118826</td>\n",
       "      <td>0.107364</td>\n",
       "      <td>0.289794</td>\n",
       "      <td>0.048338</td>\n",
       "      <td>0.114581</td>\n",
       "      <td>0.000000</td>\n",
       "      <td>0.323607</td>\n",
       "      <td>0.620132</td>\n",
       "      <td>0.524953</td>\n",
       "    </tr>\n",
       "    <tr>\n",
       "      <th>3</th>\n",
       "      <td>0.0</td>\n",
       "      <td>1.0</td>\n",
       "      <td>0.0</td>\n",
       "      <td>0.0</td>\n",
       "      <td>0.0</td>\n",
       "      <td>0.0</td>\n",
       "      <td>1.0</td>\n",
       "      <td>0.0</td>\n",
       "      <td>0.0</td>\n",
       "      <td>0.000009</td>\n",
       "      <td>...</td>\n",
       "      <td>0.165085</td>\n",
       "      <td>0.052959</td>\n",
       "      <td>0.043202</td>\n",
       "      <td>0.142073</td>\n",
       "      <td>0.070101</td>\n",
       "      <td>0.218593</td>\n",
       "      <td>0.514286</td>\n",
       "      <td>0.149161</td>\n",
       "      <td>0.745858</td>\n",
       "      <td>0.452957</td>\n",
       "    </tr>\n",
       "    <tr>\n",
       "      <th>4</th>\n",
       "      <td>1.0</td>\n",
       "      <td>0.0</td>\n",
       "      <td>1.0</td>\n",
       "      <td>0.0</td>\n",
       "      <td>0.0</td>\n",
       "      <td>0.0</td>\n",
       "      <td>0.0</td>\n",
       "      <td>0.0</td>\n",
       "      <td>0.0</td>\n",
       "      <td>0.000012</td>\n",
       "      <td>...</td>\n",
       "      <td>0.417430</td>\n",
       "      <td>0.083788</td>\n",
       "      <td>0.132387</td>\n",
       "      <td>0.074718</td>\n",
       "      <td>0.054687</td>\n",
       "      <td>0.442235</td>\n",
       "      <td>0.000000</td>\n",
       "      <td>0.416389</td>\n",
       "      <td>0.771198</td>\n",
       "      <td>0.311479</td>\n",
       "    </tr>\n",
       "  </tbody>\n",
       "</table>\n",
       "<p>5 rows × 44 columns</p>\n",
       "</div>"
      ],
      "text/plain": [
       "   Male  Female  Torso Back  Torso Front  Left Leg  Right Leg  Left Arm  \\\n",
       "0   1.0     0.0         0.0          0.0       0.0        0.0       1.0   \n",
       "1   0.0     1.0         1.0          0.0       0.0        0.0       0.0   \n",
       "2   0.0     1.0         0.0          0.0       1.0        0.0       0.0   \n",
       "3   0.0     1.0         0.0          0.0       0.0        0.0       1.0   \n",
       "4   1.0     0.0         1.0          0.0       0.0        0.0       0.0   \n",
       "\n",
       "   Right Arm  Head & Neck        id  ...  tbp_lv_norm_color  \\\n",
       "0        0.0          0.0  0.000000  ...           0.320724   \n",
       "1        0.0          0.0  0.000003  ...           0.274954   \n",
       "2        0.0          0.0  0.000006  ...           0.433906   \n",
       "3        0.0          0.0  0.000009  ...           0.165085   \n",
       "4        0.0          0.0  0.000012  ...           0.417430   \n",
       "\n",
       "   tbp_lv_perimeterMM  tbp_lv_radial_color_std_max  tbp_lv_stdL  \\\n",
       "0            0.045869                     0.102839     0.129462   \n",
       "1            0.046672                     0.088264     0.154240   \n",
       "2            0.118826                     0.107364     0.289794   \n",
       "3            0.052959                     0.043202     0.142073   \n",
       "4            0.083788                     0.132387     0.074718   \n",
       "\n",
       "   tbp_lv_stdLExt  tbp_lv_symm_2axis  tbp_lv_symm_2axis_angle  tbp_lv_x  \\\n",
       "0        0.061593           0.192391                 0.257143  0.149702   \n",
       "1        0.052280           0.259906                 0.371429  0.456182   \n",
       "2        0.048338           0.114581                 0.000000  0.323607   \n",
       "3        0.070101           0.218593                 0.514286  0.149161   \n",
       "4        0.054687           0.442235                 0.000000  0.416389   \n",
       "\n",
       "   tbp_lv_y  tbp_lv_z  \n",
       "0  0.776402  0.514450  \n",
       "1  0.714228  0.656138  \n",
       "2  0.620132  0.524953  \n",
       "3  0.745858  0.452957  \n",
       "4  0.771198  0.311479  \n",
       "\n",
       "[5 rows x 44 columns]"
      ]
     },
     "execution_count": 321,
     "metadata": {},
     "output_type": "execute_result"
    }
   ],
   "source": [
    "clean = pd.concat([one_hot_combined, numerical], axis=1)\n",
    "clean.head()"
   ]
  },
  {
   "cell_type": "code",
   "execution_count": 322,
   "metadata": {},
   "outputs": [],
   "source": [
    "probs = pd.read_csv(\"vit_train_probabilities_no_leakage.csv\")"
   ]
  },
  {
   "cell_type": "code",
   "execution_count": 323,
   "metadata": {},
   "outputs": [
    {
     "data": {
      "text/plain": [
       "(318620, 44)"
      ]
     },
     "execution_count": 323,
     "metadata": {},
     "output_type": "execute_result"
    }
   ],
   "source": [
    "clean.shape"
   ]
  },
  {
   "cell_type": "code",
   "execution_count": 324,
   "metadata": {},
   "outputs": [
    {
     "data": {
      "text/plain": [
       "Index([     0,      1,      2,      3,      4,      5,      6,      7,      8,\n",
       "            9,\n",
       "       ...\n",
       "       320837, 320838, 320839, 320840, 320841, 320842, 320843, 320844, 320845,\n",
       "       320846],\n",
       "      dtype='int64', length=318620)"
      ]
     },
     "execution_count": 324,
     "metadata": {},
     "output_type": "execute_result"
    }
   ],
   "source": [
    "clean.index"
   ]
  },
  {
   "cell_type": "code",
   "execution_count": 325,
   "metadata": {},
   "outputs": [],
   "source": [
    "clean_index_as_float = clean.index.astype(float)\n",
    "filtered_probs = probs[probs[\"id\"].isin(clean_index_as_float)]"
   ]
  },
  {
   "cell_type": "code",
   "execution_count": 326,
   "metadata": {},
   "outputs": [],
   "source": [
    "clean = pd.concat([clean, probs], axis = 1).drop(columns=[\"id\"])"
   ]
  },
  {
   "cell_type": "markdown",
   "metadata": {},
   "source": [
    "Save the clean data"
   ]
  },
  {
   "cell_type": "code",
   "execution_count": 327,
   "metadata": {},
   "outputs": [],
   "source": [
    "# clean.to_csv(\"../../../clean_train-metadata.csv\", index=False)"
   ]
  },
  {
   "cell_type": "code",
   "execution_count": 328,
   "metadata": {},
   "outputs": [],
   "source": [
    "y = y[clean.index]"
   ]
  },
  {
   "cell_type": "markdown",
   "metadata": {},
   "source": [
    "### Distribution Adjustment"
   ]
  },
  {
   "cell_type": "code",
   "execution_count": 329,
   "metadata": {},
   "outputs": [
    {
     "name": "stdout",
     "output_type": "stream",
     "text": [
      "Class Distribution Before Sampling (%):\n"
     ]
    },
    {
     "data": {
      "text/plain": [
       "target\n",
       "0    99.902134\n",
       "1     0.097866\n",
       "Name: proportion, dtype: float64"
      ]
     },
     "metadata": {},
     "output_type": "display_data"
    },
    {
     "name": "stdout",
     "output_type": "stream",
     "text": [
      "\n",
      "Class Distribution After Sampling (%):\n"
     ]
    },
    {
     "data": {
      "text/plain": [
       "target\n",
       "0    80.0\n",
       "1    20.0\n",
       "Name: proportion, dtype: float64"
      ]
     },
     "metadata": {},
     "output_type": "display_data"
    },
    {
     "name": "stdout",
     "output_type": "stream",
     "text": [
      "Class Weights: {0: np.float64(0.625), 1: np.float64(2.5)}\n"
     ]
    }
   ],
   "source": [
    "from sklearn.utils.class_weight import compute_class_weight\n",
    "\n",
    "df = pd.concat([clean, y], axis=1)\n",
    "\n",
    "#Handle Class Imbalance\n",
    "print(\"Class Distribution Before Sampling (%):\")\n",
    "display(df.target.value_counts(normalize=True)*100)\n",
    "seed = 1\n",
    "\n",
    "T = 0.20\n",
    "N = 1 - T\n",
    "# Desired distribution\n",
    "# N, T = 0.90, 0.20  # for a 70:30 split\n",
    "\n",
    "# Current counts\n",
    "neg_count = df.query(\"target == 0\").shape[0]\n",
    "pos_count = df.query(\"target == 1\").shape[0]\n",
    "\n",
    "# Calculate sampling fractions\n",
    "pos_sample = 1.0\n",
    "neg_sample = (N * pos_count) / (T * neg_count)\n",
    "\n",
    "# Sampling\n",
    "positive_df = df.query(\"target==0\").sample(frac=neg_sample, random_state=seed)\n",
    "negative_df = df.query(\"target==1\").sample(frac=pos_sample, replace=False, random_state=seed)\n",
    "df = pd.concat([positive_df, negative_df], axis=0).sample(frac=1.0)\n",
    "\n",
    "print(\"\\nClass Distribution After Sampling (%):\")\n",
    "display(df.target.value_counts(normalize=True)*100)\n",
    "\n",
    "# Assume df is your DataFrame and 'target' is the column with class labels\n",
    "class_weights = compute_class_weight('balanced', classes=np.unique(df['target']), y=df['target'])\n",
    "class_weights = dict(enumerate(class_weights))\n",
    "print(\"Class Weights:\", class_weights)"
   ]
  },
  {
   "cell_type": "code",
   "execution_count": 330,
   "metadata": {},
   "outputs": [
    {
     "data": {
      "text/plain": [
       "target\n",
       "0    1256\n",
       "1     314\n",
       "Name: count, dtype: int64"
      ]
     },
     "execution_count": 330,
     "metadata": {},
     "output_type": "execute_result"
    }
   ],
   "source": [
    "x = df.drop(\"target\", axis=1)\n",
    "y = df[\"target\"]\n",
    "y.value_counts()"
   ]
  },
  {
   "cell_type": "code",
   "execution_count": 331,
   "metadata": {},
   "outputs": [],
   "source": [
    "import xgboost as xgb\n",
    "from sklearn.model_selection import train_test_split\n",
    "X_train, X_test, y_train, y_test = train_test_split(x, y, test_size=0.2,random_state=42)"
   ]
  },
  {
   "cell_type": "code",
   "execution_count": 332,
   "metadata": {},
   "outputs": [],
   "source": [
    "dtrain = xgb.DMatrix(data=X_train, label=y_train)\n",
    "fusion_booster = xgb.XGBClassifier()\n",
    "fusion_booster.fit(X_train, y_train)\n",
    "y_pred = fusion_booster.predict(X_test)\n",
    "y_test = y_test.to_numpy()"
   ]
  },
  {
   "cell_type": "code",
   "execution_count": 333,
   "metadata": {},
   "outputs": [
    {
     "data": {
      "image/png": "[encoded data removed]",
      "text/plain": [
       "<Figure size 640x480 with 1 Axes>"
      ]
     },
     "metadata": {},
     "output_type": "display_data"
    }
   ],
   "source": [
    "from sklearn.metrics import roc_curve\n",
    "import seaborn as sns\n",
    "import matplotlib.pyplot as plt\n",
    "y_probs = fusion_booster.predict_proba(X_test)[:, 1]\n",
    "fpr, tpr, thresholds = roc_curve(y_test, y_probs)\n",
    "plt.plot(fpr, tpr)\n",
    "plt.xlabel('False Positive Rate')\n",
    "plt.ylabel('True Positive Rate')\n",
    "plt.title(\"Fusion model ROC Curve\")\n",
    "plt.plot(np.linspace(0, 1.0, 10000),\n",
    "         np.linspace(0, 1.0, 10000), linestyle=\"dashed\")\n",
    "sns.despine()"
   ]
  },
  {
   "cell_type": "markdown",
   "metadata": {},
   "source": [
    "### Accuracy"
   ]
  },
  {
   "cell_type": "code",
   "execution_count": 334,
   "metadata": {},
   "outputs": [
    {
     "data": {
      "text/plain": [
       "np.float64(0.9235668789808917)"
      ]
     },
     "execution_count": 334,
     "metadata": {},
     "output_type": "execute_result"
    }
   ],
   "source": [
    "np.mean(y_pred == y_test)"
   ]
  },
  {
   "cell_type": "markdown",
   "metadata": {},
   "source": [
    "### AUC"
   ]
  },
  {
   "cell_type": "code",
   "execution_count": 335,
   "metadata": {},
   "outputs": [
    {
     "data": {
      "text/plain": [
       "np.float64(0.8597790948275862)"
      ]
     },
     "execution_count": 335,
     "metadata": {},
     "output_type": "execute_result"
    }
   ],
   "source": [
    "from sklearn.metrics import roc_auc_score\n",
    "auc = roc_auc_score(y_test, y_pred)\n",
    "auc"
   ]
  },
  {
   "cell_type": "code",
   "execution_count": 336,
   "metadata": {
    "scrolled": true
   },
   "outputs": [
    {
     "data": {
      "image/png": "[encoded data removed]",
      "text/plain": [
       "<Figure size 640x480 with 2 Axes>"
      ]
     },
     "metadata": {},
     "output_type": "display_data"
    }
   ],
   "source": [
    "from sklearn.metrics import confusion_matrix\n",
    "matrix = confusion_matrix(y_test, y_pred)\n",
    "labels = np.unique(y_pred + y_test)\n",
    "sns.heatmap(matrix, annot=True, fmt=\"d\", xticklabels=labels[:-1], yticklabels=labels[:-1], cmap=\"Blues\")\n",
    "plt.xlabel(\"Predicted labels\")\n",
    "plt.ylabel(\"True labels\")\n",
    "plt.title(\"Fusion Confusion Matrix\")\n",
    "plt.show()"
   ]
  },
  {
   "cell_type": "markdown",
   "metadata": {},
   "source": [
    "Tabular Model "
   ]
  },
  {
   "cell_type": "code",
   "execution_count": 337,
   "metadata": {},
   "outputs": [],
   "source": [
    "x_tabular = x.iloc[:, :-2]\n",
    "X_train, X_test, y_train, y_test = train_test_split(x_tabular, y, test_size=0.2,random_state=42)"
   ]
  },
  {
   "cell_type": "code",
   "execution_count": 338,
   "metadata": {},
   "outputs": [],
   "source": [
    "dtrain = xgb.DMatrix(data=X_train, label=y_train)\n",
    "tabular_booster = xgb.XGBClassifier()\n",
    "tabular_booster.fit(X_train, y_train)\n",
    "y_pred = tabular_booster.predict(X_test)\n",
    "y_test = y_test.to_numpy()"
   ]
  },
  {
   "cell_type": "code",
   "execution_count": 339,
   "metadata": {},
   "outputs": [
    {
     "data": {
      "image/png": "[encoded data removed]",
      "text/plain": [
       "<Figure size 640x480 with 1 Axes>"
      ]
     },
     "metadata": {},
     "output_type": "display_data"
    }
   ],
   "source": [
    "y_probs = tabular_booster.predict_proba(X_test)[:, 1]\n",
    "fpr, tpr, thresholds = roc_curve(y_test, y_probs)\n",
    "plt.plot(fpr, tpr)\n",
    "plt.xlabel('False Positive Rate')\n",
    "plt.ylabel('True Positive Rate')\n",
    "plt.title(\"Tabular model ROC Curve\")\n",
    "plt.plot(np.linspace(0, 1.0, 10000),\n",
    "         np.linspace(0, 1.0, 10000), linestyle=\"dashed\")\n",
    "sns.despine()"
   ]
  },
  {
   "cell_type": "code",
   "execution_count": 340,
   "metadata": {},
   "outputs": [
    {
     "data": {
      "text/plain": [
       "np.float64(0.9076433121019108)"
      ]
     },
     "execution_count": 340,
     "metadata": {},
     "output_type": "execute_result"
    }
   ],
   "source": [
    "np.mean(y_pred == y_test)"
   ]
  },
  {
   "cell_type": "code",
   "execution_count": 341,
   "metadata": {},
   "outputs": [
    {
     "data": {
      "text/plain": [
       "np.float64(0.8166756465517242)"
      ]
     },
     "execution_count": 341,
     "metadata": {},
     "output_type": "execute_result"
    }
   ],
   "source": [
    "from sklearn.metrics import roc_auc_score\n",
    "auc = roc_auc_score(y_test, y_pred)\n",
    "auc"
   ]
  },
  {
   "cell_type": "code",
   "execution_count": 342,
   "metadata": {},
   "outputs": [
    {
     "data": {
      "image/png": "[encoded data removed]",
      "text/plain": [
       "<Figure size 640x480 with 2 Axes>"
      ]
     },
     "metadata": {},
     "output_type": "display_data"
    }
   ],
   "source": [
    "from sklearn.metrics import confusion_matrix\n",
    "matrix = confusion_matrix(y_test, y_pred)\n",
    "labels = np.unique(y_pred + y_test)\n",
    "sns.heatmap(matrix, annot=True, fmt=\"d\", xticklabels=labels[:-1], yticklabels=labels[:-1], cmap=\"Blues\")\n",
    "plt.xlabel(\"Predicted labels\")\n",
    "plt.ylabel(\"True labels\")\n",
    "plt.title(\"Tabular Confusion Matrix\")\n",
    "plt.show()"
   ]
  },
  {
   "cell_type": "markdown",
   "metadata": {},
   "source": [
    "### Competition submission"
   ]
  },
  {
   "cell_type": "code",
   "execution_count": 343,
   "metadata": {},
   "outputs": [],
   "source": [
    "def clean(train):\n",
    "    train_trim = train.drop(\"target\", axis=1)\n",
    "    string_cols = train_trim.select_dtypes(include=\"object\")\n",
    "    male_indicator = string_cols[\"sex\"].apply(lambda s: float(s == \"male\" and not s == \"unknown\"))\n",
    "    male_indicator.name = \"Male\"\n",
    "    female_indicator = string_cols[\"sex\"].apply(lambda s: float(s == \"female\" and not s == \"unknown\"))\n",
    "    female_indicator.name = \"Female\"\n",
    "    numerical_sex = pd.concat([male_indicator, female_indicator], axis=1)\n",
    "    one_hot_location = pd.Series(string_cols[\"tbp_lv_location_simple\"].value_counts().index[:-1]).apply(\n",
    "    lambda location: string_cols[\"tbp_lv_location_simple\"].apply(lambda loc: float(loc == location))).transpose()\n",
    "    one_hot_location.columns = string_cols[\"tbp_lv_location_simple\"].value_counts().index[:-1]\n",
    "    one_hot_combined = pd.concat([numerical_sex, one_hot_location], axis=1)\n",
    "    numerical = train_trim.select_dtypes(include=\"number\")\n",
    "    for column in numerical.columns: \n",
    "        numerical[column] = (numerical[column] - numerical[column].min()) / (numerical[column].max() - numerical[column].min())     \n",
    "    clean = pd.concat([one_hot_combined, numerical], axis=1)\n",
    "    return clean        "
   ]
  },
  {
   "cell_type": "code",
   "execution_count": 344,
   "metadata": {},
   "outputs": [],
   "source": [
    "test = clean(test)\n",
    "# Need to import and append outputs of ViT here"
   ]
  },
  {
   "cell_type": "code",
   "execution_count": null,
   "metadata": {},
   "outputs": [],
   "source": [
    "y_pred_submission = fusion_booster.predict(test)\n",
    "y_pred_submission.to_csv(\"Competition_submission.csv\", index=True)"
   ]
  }
 ],
 "metadata": {
  "kernelspec": {
   "display_name": "Python 3",
   "language": "python",
   "name": "python3"
  },
  "language_info": {
   "codemirror_mode": {
    "name": "ipython",
    "version": 3
   },
   "file_extension": ".py",
   "mimetype": "text/x-python",
   "name": "python",
   "nbconvert_exporter": "python",
   "pygments_lexer": "ipython3",
   "version": "3.12.5"
  }
 },
 "nbformat": 4,
 "nbformat_minor": 4
}
