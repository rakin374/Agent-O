{
 "cells": [
  {
   "cell_type": "code",
   "execution_count": 1,
   "metadata": {},
   "outputs": [],
   "source": [
    "import numpy as np\n",
    "import pandas as pd"
   ]
  },
  {
   "cell_type": "code",
   "execution_count": 3,
   "metadata": {},
   "outputs": [
    {
     "name": "stderr",
     "output_type": "stream",
     "text": [
      "C:\\Users\\efim6\\AppData\\Local\\Temp\\ipykernel_16196\\2280024112.py:1: DtypeWarning: Columns (51,52) have mixed types. Specify dtype option on import or set low_memory=False.\n",
      "  train = pd.read_csv(\"train-metadata.csv\")\n"
     ]
    }
   ],
   "source": [
    "train = pd.read_csv(\"train-metadata.csv\")\n",
    "test = pd.read_csv(\"test-metadata.csv\")"
   ]
  },
  {
   "cell_type": "code",
   "execution_count": 80,
   "metadata": {},
   "outputs": [
    {
     "data": {
      "text/plain": [
       "(401059, 55)"
      ]
     },
     "execution_count": 80,
     "metadata": {},
     "output_type": "execute_result"
    }
   ],
   "source": [
    "train.shape"
   ]
  },
  {
   "cell_type": "code",
   "execution_count": 81,
   "metadata": {},
   "outputs": [
    {
     "data": {
      "text/plain": [
       "(3, 44)"
      ]
     },
     "execution_count": 81,
     "metadata": {},
     "output_type": "execute_result"
    }
   ],
   "source": [
    "test.shape"
   ]
  },
  {
   "cell_type": "markdown",
   "metadata": {},
   "source": [
    "Test has fewer columns than train - only use the intersection so that we can apply to test data <br>"
   ]
  },
  {
   "cell_type": "code",
   "execution_count": 82,
   "metadata": {},
   "outputs": [
    {
     "data": {
      "text/plain": [
       "44"
      ]
     },
     "execution_count": 82,
     "metadata": {},
     "output_type": "execute_result"
    }
   ],
   "source": [
    "shared_cols = set(train.columns).intersection(set(test.columns))\n",
    "len(shared_cols)"
   ]
  },
  {
   "cell_type": "markdown",
   "metadata": {},
   "source": [
    "Use second line in the next cell if you want to use all columns instead."
   ]
  },
  {
   "cell_type": "code",
   "execution_count": 83,
   "metadata": {},
   "outputs": [
    {
     "data": {
      "text/plain": [
       "(401059, 44)"
      ]
     },
     "execution_count": 83,
     "metadata": {},
     "output_type": "execute_result"
    }
   ],
   "source": [
    "train_trim = train[list(shared_cols)]\n",
    "# train_trim = train \n",
    "train_trim.shape"
   ]
  },
  {
   "cell_type": "markdown",
   "metadata": {},
   "source": [
    "String columns"
   ]
  },
  {
   "cell_type": "code",
   "execution_count": 84,
   "metadata": {},
   "outputs": [
    {
     "data": {
      "text/plain": [
       "10"
      ]
     },
     "execution_count": 84,
     "metadata": {},
     "output_type": "execute_result"
    }
   ],
   "source": [
    "len(train_trim.select_dtypes(include=\"object\").columns)"
   ]
  },
  {
   "cell_type": "markdown",
   "metadata": {},
   "source": [
    "Number columns"
   ]
  },
  {
   "cell_type": "code",
   "execution_count": 85,
   "metadata": {},
   "outputs": [
    {
     "data": {
      "text/plain": [
       "34"
      ]
     },
     "execution_count": 85,
     "metadata": {},
     "output_type": "execute_result"
    }
   ],
   "source": [
    "len(train_trim.select_dtypes(include=\"number\").columns)"
   ]
  },
  {
   "cell_type": "markdown",
   "metadata": {},
   "source": [
    "Null checking"
   ]
  },
  {
   "cell_type": "code",
   "execution_count": 86,
   "metadata": {},
   "outputs": [
    {
     "data": {
      "text/plain": [
       "tbp_lv_color_std_mean    0.0\n",
       "tbp_lv_deltaLB           0.0\n",
       "tbp_lv_stdL              0.0\n",
       "tbp_lv_perimeterMM       0.0\n",
       "attribution              0.0\n",
       "dtype: float64"
      ]
     },
     "execution_count": 86,
     "metadata": {},
     "output_type": "execute_result"
    }
   ],
   "source": [
    "nulls = train_trim.apply(lambda col: col.isnull().sum() / col.size * 100)\n",
    "nulls.head()"
   ]
  },
  {
   "cell_type": "markdown",
   "metadata": {},
   "source": [
    "Columns with nulls"
   ]
  },
  {
   "cell_type": "code",
   "execution_count": 87,
   "metadata": {},
   "outputs": [
    {
     "data": {
      "text/plain": [
       "sex                    2.871647\n",
       "anatom_site_general    1.435200\n",
       "age_approx             0.697653\n",
       "dtype: float64"
      ]
     },
     "execution_count": 87,
     "metadata": {},
     "output_type": "execute_result"
    }
   ],
   "source": [
    "nulls[nulls > 0]"
   ]
  },
  {
   "cell_type": "markdown",
   "metadata": {},
   "source": [
    "Dropping rows with null age. Sex handled later, anatom_site_general not used."
   ]
  },
  {
   "cell_type": "code",
   "execution_count": 88,
   "metadata": {},
   "outputs": [],
   "source": [
    "train_trim = train_trim.dropna(subset=['age_approx'])"
   ]
  },
  {
   "cell_type": "markdown",
   "metadata": {},
   "source": [
    "Extract string columns"
   ]
  },
  {
   "cell_type": "code",
   "execution_count": 89,
   "metadata": {},
   "outputs": [
    {
     "data": {
      "text/html": [
       "<div>\n",
       "<style scoped>\n",
       "    .dataframe tbody tr th:only-of-type {\n",
       "        vertical-align: middle;\n",
       "    }\n",
       "\n",
       "    .dataframe tbody tr th {\n",
       "        vertical-align: top;\n",
       "    }\n",
       "\n",
       "    .dataframe thead th {\n",
       "        text-align: right;\n",
       "    }\n",
       "</style>\n",
       "<table border=\"1\" class=\"dataframe\">\n",
       "  <thead>\n",
       "    <tr style=\"text-align: right;\">\n",
       "      <th></th>\n",
       "      <th>attribution</th>\n",
       "      <th>sex</th>\n",
       "      <th>copyright_license</th>\n",
       "      <th>tbp_lv_location</th>\n",
       "      <th>tbp_tile_type</th>\n",
       "      <th>tbp_lv_location_simple</th>\n",
       "      <th>isic_id</th>\n",
       "      <th>patient_id</th>\n",
       "      <th>image_type</th>\n",
       "      <th>anatom_site_general</th>\n",
       "    </tr>\n",
       "  </thead>\n",
       "  <tbody>\n",
       "    <tr>\n",
       "      <th>0</th>\n",
       "      <td>Memorial Sloan Kettering Cancer Center</td>\n",
       "      <td>male</td>\n",
       "      <td>CC-BY</td>\n",
       "      <td>Right Leg - Upper</td>\n",
       "      <td>3D: white</td>\n",
       "      <td>Right Leg</td>\n",
       "      <td>ISIC_0015670</td>\n",
       "      <td>IP_1235828</td>\n",
       "      <td>TBP tile: close-up</td>\n",
       "      <td>lower extremity</td>\n",
       "    </tr>\n",
       "    <tr>\n",
       "      <th>1</th>\n",
       "      <td>Memorial Sloan Kettering Cancer Center</td>\n",
       "      <td>male</td>\n",
       "      <td>CC-BY</td>\n",
       "      <td>Head &amp; Neck</td>\n",
       "      <td>3D: white</td>\n",
       "      <td>Head &amp; Neck</td>\n",
       "      <td>ISIC_0015845</td>\n",
       "      <td>IP_8170065</td>\n",
       "      <td>TBP tile: close-up</td>\n",
       "      <td>head/neck</td>\n",
       "    </tr>\n",
       "    <tr>\n",
       "      <th>2</th>\n",
       "      <td>Memorial Sloan Kettering Cancer Center</td>\n",
       "      <td>male</td>\n",
       "      <td>CC-BY</td>\n",
       "      <td>Torso Back Top Third</td>\n",
       "      <td>3D: XP</td>\n",
       "      <td>Torso Back</td>\n",
       "      <td>ISIC_0015864</td>\n",
       "      <td>IP_6724798</td>\n",
       "      <td>TBP tile: close-up</td>\n",
       "      <td>posterior torso</td>\n",
       "    </tr>\n",
       "    <tr>\n",
       "      <th>3</th>\n",
       "      <td>ACEMID MIA</td>\n",
       "      <td>male</td>\n",
       "      <td>CC-0</td>\n",
       "      <td>Torso Front Top Half</td>\n",
       "      <td>3D: XP</td>\n",
       "      <td>Torso Front</td>\n",
       "      <td>ISIC_0015902</td>\n",
       "      <td>IP_4111386</td>\n",
       "      <td>TBP tile: close-up</td>\n",
       "      <td>anterior torso</td>\n",
       "    </tr>\n",
       "    <tr>\n",
       "      <th>4</th>\n",
       "      <td>Memorial Sloan Kettering Cancer Center</td>\n",
       "      <td>male</td>\n",
       "      <td>CC-BY</td>\n",
       "      <td>Torso Front Top Half</td>\n",
       "      <td>3D: white</td>\n",
       "      <td>Torso Front</td>\n",
       "      <td>ISIC_0024200</td>\n",
       "      <td>IP_8313778</td>\n",
       "      <td>TBP tile: close-up</td>\n",
       "      <td>anterior torso</td>\n",
       "    </tr>\n",
       "  </tbody>\n",
       "</table>\n",
       "</div>"
      ],
      "text/plain": [
       "                              attribution   sex copyright_license  \\\n",
       "0  Memorial Sloan Kettering Cancer Center  male             CC-BY   \n",
       "1  Memorial Sloan Kettering Cancer Center  male             CC-BY   \n",
       "2  Memorial Sloan Kettering Cancer Center  male             CC-BY   \n",
       "3                              ACEMID MIA  male              CC-0   \n",
       "4  Memorial Sloan Kettering Cancer Center  male             CC-BY   \n",
       "\n",
       "        tbp_lv_location tbp_tile_type tbp_lv_location_simple       isic_id  \\\n",
       "0     Right Leg - Upper     3D: white              Right Leg  ISIC_0015670   \n",
       "1           Head & Neck     3D: white            Head & Neck  ISIC_0015845   \n",
       "2  Torso Back Top Third        3D: XP             Torso Back  ISIC_0015864   \n",
       "3  Torso Front Top Half        3D: XP            Torso Front  ISIC_0015902   \n",
       "4  Torso Front Top Half     3D: white            Torso Front  ISIC_0024200   \n",
       "\n",
       "   patient_id          image_type anatom_site_general  \n",
       "0  IP_1235828  TBP tile: close-up     lower extremity  \n",
       "1  IP_8170065  TBP tile: close-up           head/neck  \n",
       "2  IP_6724798  TBP tile: close-up     posterior torso  \n",
       "3  IP_4111386  TBP tile: close-up      anterior torso  \n",
       "4  IP_8313778  TBP tile: close-up      anterior torso  "
      ]
     },
     "execution_count": 89,
     "metadata": {},
     "output_type": "execute_result"
    }
   ],
   "source": [
    "string_cols = train_trim.select_dtypes(include=\"object\")\n",
    "string_cols.head()"
   ]
  },
  {
   "cell_type": "markdown",
   "metadata": {},
   "source": [
    "Check for constant-value columns"
   ]
  },
  {
   "cell_type": "code",
   "execution_count": 90,
   "metadata": {},
   "outputs": [
    {
     "data": {
      "text/plain": [
       "attribution               [Memorial Sloan Kettering Cancer Center, ACEMI...\n",
       "sex                                                     [male, female, nan]\n",
       "copyright_license                                   [CC-BY, CC-0, CC-BY-NC]\n",
       "tbp_lv_location           [Right Leg - Upper, Head & Neck, Torso Back To...\n",
       "tbp_tile_type                                           [3D: white, 3D: XP]\n",
       "tbp_lv_location_simple    [Right Leg, Head & Neck, Torso Back, Torso Fro...\n",
       "isic_id                   [ISIC_0015670, ISIC_0015845, ISIC_0015864, ISI...\n",
       "patient_id                [IP_1235828, IP_8170065, IP_6724798, IP_411138...\n",
       "image_type                                             [TBP tile: close-up]\n",
       "anatom_site_general       [lower extremity, head/neck, posterior torso, ...\n",
       "dtype: object"
      ]
     },
     "execution_count": 90,
     "metadata": {},
     "output_type": "execute_result"
    }
   ],
   "source": [
    "string_cols.apply(lambda row: row.unique())"
   ]
  },
  {
   "cell_type": "markdown",
   "metadata": {},
   "source": [
    "Drop ID and other useless string columns"
   ]
  },
  {
   "cell_type": "code",
   "execution_count": 91,
   "metadata": {},
   "outputs": [
    {
     "data": {
      "text/plain": [
       "{'anatom_site_general', 'sex', 'tbp_lv_location', 'tbp_lv_location_simple'}"
      ]
     },
     "execution_count": 91,
     "metadata": {},
     "output_type": "execute_result"
    }
   ],
   "source": [
    "to_drop = [\"tbp_tile_type\", \"copyright_license\", \"isic_id\", \"patient_id\", \"attribution\", \"image_type\"]\n",
    "set(string_cols.columns).difference(set(to_drop))"
   ]
  },
  {
   "cell_type": "markdown",
   "metadata": {},
   "source": [
    "3 location columns, increasing specificity. Using the middle one for one-hot encoding"
   ]
  },
  {
   "cell_type": "code",
   "execution_count": 92,
   "metadata": {},
   "outputs": [
    {
     "data": {
      "text/plain": [
       "anatom_site_general\n",
       "posterior torso    121143\n",
       "lower extremity    102071\n",
       "anterior torso      87256\n",
       "upper extremity     70088\n",
       "head/neck           11962\n",
       "Name: count, dtype: int64"
      ]
     },
     "execution_count": 92,
     "metadata": {},
     "output_type": "execute_result"
    }
   ],
   "source": [
    "string_cols[\"anatom_site_general\"].value_counts()"
   ]
  },
  {
   "cell_type": "code",
   "execution_count": 93,
   "metadata": {},
   "outputs": [
    {
     "data": {
      "text/plain": [
       "tbp_lv_location_simple\n",
       "Torso Back     121143\n",
       "Torso Front     87256\n",
       "Left Leg        52633\n",
       "Right Leg       49438\n",
       "Left Arm        36124\n",
       "Right Arm       33964\n",
       "Head & Neck     11962\n",
       "Unknown          5741\n",
       "Name: count, dtype: int64"
      ]
     },
     "execution_count": 93,
     "metadata": {},
     "output_type": "execute_result"
    }
   ],
   "source": [
    "string_cols[\"tbp_lv_location_simple\"].value_counts()"
   ]
  },
  {
   "cell_type": "code",
   "execution_count": 94,
   "metadata": {},
   "outputs": [
    {
     "data": {
      "text/plain": [
       "tbp_lv_location\n",
       "Torso Back Top Third       70703\n",
       "Torso Front Top Half       62991\n",
       "Torso Back Middle Third    45859\n",
       "Left Leg - Lower           27205\n",
       "Right Leg - Lower          25008\n",
       "Torso Front Bottom Half    24205\n",
       "Left Leg - Upper           23454\n",
       "Right Arm - Upper          22849\n",
       "Right Leg - Upper          22719\n",
       "Left Arm - Upper           22713\n",
       "Head & Neck                11962\n",
       "Left Arm - Lower           11820\n",
       "Right Arm - Lower          10514\n",
       "Unknown                     5741\n",
       "Torso Back Bottom Third     4572\n",
       "Left Leg                    1974\n",
       "Right Leg                   1711\n",
       "Left Arm                    1591\n",
       "Right Arm                    601\n",
       "Torso Front                   60\n",
       "Torso Back                     9\n",
       "Name: count, dtype: int64"
      ]
     },
     "execution_count": 94,
     "metadata": {},
     "output_type": "execute_result"
    }
   ],
   "source": [
    "string_cols[\"tbp_lv_location\"].value_counts()"
   ]
  },
  {
   "cell_type": "markdown",
   "metadata": {},
   "source": [
    "One-hot encoding the sex column. Using a vector of length 2 here to account for the NaaNs - when the value is \"unknown\", the vector is [0, 0]. Alternatively, we could drop all NaaN rows and use a single indicator column."
   ]
  },
  {
   "cell_type": "code",
   "execution_count": 95,
   "metadata": {},
   "outputs": [],
   "source": [
    "male_indicator = string_cols[\"sex\"].apply(lambda s: int(s == \"male\" and not s == \"unknown\"))\n",
    "male_indicator.name = \"Male\"\n",
    "female_indicator = string_cols[\"sex\"].apply(lambda s: int(s == \"female\" and not s == \"unknown\"))\n",
    "female_indicator.name = \"Female\""
   ]
  },
  {
   "cell_type": "code",
   "execution_count": 96,
   "metadata": {},
   "outputs": [
    {
     "data": {
      "text/html": [
       "<div>\n",
       "<style scoped>\n",
       "    .dataframe tbody tr th:only-of-type {\n",
       "        vertical-align: middle;\n",
       "    }\n",
       "\n",
       "    .dataframe tbody tr th {\n",
       "        vertical-align: top;\n",
       "    }\n",
       "\n",
       "    .dataframe thead th {\n",
       "        text-align: right;\n",
       "    }\n",
       "</style>\n",
       "<table border=\"1\" class=\"dataframe\">\n",
       "  <thead>\n",
       "    <tr style=\"text-align: right;\">\n",
       "      <th></th>\n",
       "      <th>Male</th>\n",
       "      <th>Female</th>\n",
       "    </tr>\n",
       "  </thead>\n",
       "  <tbody>\n",
       "    <tr>\n",
       "      <th>401054</th>\n",
       "      <td>1</td>\n",
       "      <td>0</td>\n",
       "    </tr>\n",
       "    <tr>\n",
       "      <th>401055</th>\n",
       "      <td>1</td>\n",
       "      <td>0</td>\n",
       "    </tr>\n",
       "    <tr>\n",
       "      <th>401056</th>\n",
       "      <td>0</td>\n",
       "      <td>1</td>\n",
       "    </tr>\n",
       "    <tr>\n",
       "      <th>401057</th>\n",
       "      <td>0</td>\n",
       "      <td>1</td>\n",
       "    </tr>\n",
       "    <tr>\n",
       "      <th>401058</th>\n",
       "      <td>1</td>\n",
       "      <td>0</td>\n",
       "    </tr>\n",
       "  </tbody>\n",
       "</table>\n",
       "</div>"
      ],
      "text/plain": [
       "        Male  Female\n",
       "401054     1       0\n",
       "401055     1       0\n",
       "401056     0       1\n",
       "401057     0       1\n",
       "401058     1       0"
      ]
     },
     "execution_count": 96,
     "metadata": {},
     "output_type": "execute_result"
    }
   ],
   "source": [
    "numerical_sex = pd.concat([male_indicator, female_indicator], axis=1)\n",
    "numerical_sex.tail()"
   ]
  },
  {
   "cell_type": "markdown",
   "metadata": {},
   "source": [
    "One-hot encoding the location column"
   ]
  },
  {
   "cell_type": "code",
   "execution_count": 97,
   "metadata": {},
   "outputs": [
    {
     "data": {
      "text/html": [
       "<div>\n",
       "<style scoped>\n",
       "    .dataframe tbody tr th:only-of-type {\n",
       "        vertical-align: middle;\n",
       "    }\n",
       "\n",
       "    .dataframe tbody tr th {\n",
       "        vertical-align: top;\n",
       "    }\n",
       "\n",
       "    .dataframe thead th {\n",
       "        text-align: right;\n",
       "    }\n",
       "</style>\n",
       "<table border=\"1\" class=\"dataframe\">\n",
       "  <thead>\n",
       "    <tr style=\"text-align: right;\">\n",
       "      <th>tbp_lv_location_simple</th>\n",
       "      <th>Torso Back</th>\n",
       "      <th>Torso Front</th>\n",
       "      <th>Left Leg</th>\n",
       "      <th>Right Leg</th>\n",
       "      <th>Left Arm</th>\n",
       "      <th>Right Arm</th>\n",
       "      <th>Head &amp; Neck</th>\n",
       "    </tr>\n",
       "  </thead>\n",
       "  <tbody>\n",
       "    <tr>\n",
       "      <th>0</th>\n",
       "      <td>0</td>\n",
       "      <td>0</td>\n",
       "      <td>0</td>\n",
       "      <td>1</td>\n",
       "      <td>0</td>\n",
       "      <td>0</td>\n",
       "      <td>0</td>\n",
       "    </tr>\n",
       "    <tr>\n",
       "      <th>1</th>\n",
       "      <td>0</td>\n",
       "      <td>0</td>\n",
       "      <td>0</td>\n",
       "      <td>0</td>\n",
       "      <td>0</td>\n",
       "      <td>0</td>\n",
       "      <td>1</td>\n",
       "    </tr>\n",
       "    <tr>\n",
       "      <th>2</th>\n",
       "      <td>1</td>\n",
       "      <td>0</td>\n",
       "      <td>0</td>\n",
       "      <td>0</td>\n",
       "      <td>0</td>\n",
       "      <td>0</td>\n",
       "      <td>0</td>\n",
       "    </tr>\n",
       "    <tr>\n",
       "      <th>3</th>\n",
       "      <td>0</td>\n",
       "      <td>1</td>\n",
       "      <td>0</td>\n",
       "      <td>0</td>\n",
       "      <td>0</td>\n",
       "      <td>0</td>\n",
       "      <td>0</td>\n",
       "    </tr>\n",
       "    <tr>\n",
       "      <th>4</th>\n",
       "      <td>0</td>\n",
       "      <td>1</td>\n",
       "      <td>0</td>\n",
       "      <td>0</td>\n",
       "      <td>0</td>\n",
       "      <td>0</td>\n",
       "      <td>0</td>\n",
       "    </tr>\n",
       "  </tbody>\n",
       "</table>\n",
       "</div>"
      ],
      "text/plain": [
       "tbp_lv_location_simple  Torso Back  Torso Front  Left Leg  Right Leg  \\\n",
       "0                                0            0         0          1   \n",
       "1                                0            0         0          0   \n",
       "2                                1            0         0          0   \n",
       "3                                0            1         0          0   \n",
       "4                                0            1         0          0   \n",
       "\n",
       "tbp_lv_location_simple  Left Arm  Right Arm  Head & Neck  \n",
       "0                              0          0            0  \n",
       "1                              0          0            1  \n",
       "2                              0          0            0  \n",
       "3                              0          0            0  \n",
       "4                              0          0            0  "
      ]
     },
     "execution_count": 97,
     "metadata": {},
     "output_type": "execute_result"
    }
   ],
   "source": [
    "one_hot_location = pd.Series(string_cols[\"tbp_lv_location_simple\"].value_counts().index[:-1]).apply(\n",
    "    lambda location: string_cols[\"tbp_lv_location_simple\"].apply(lambda loc: int(loc == location))).transpose()\n",
    "one_hot_location.columns = string_cols[\"tbp_lv_location_simple\"].value_counts().index[:-1]\n",
    "one_hot_location.head()\n"
   ]
  },
  {
   "cell_type": "markdown",
   "metadata": {},
   "source": [
    "Total one-hot encoded columns"
   ]
  },
  {
   "cell_type": "code",
   "execution_count": 98,
   "metadata": {},
   "outputs": [
    {
     "data": {
      "text/html": [
       "<div>\n",
       "<style scoped>\n",
       "    .dataframe tbody tr th:only-of-type {\n",
       "        vertical-align: middle;\n",
       "    }\n",
       "\n",
       "    .dataframe tbody tr th {\n",
       "        vertical-align: top;\n",
       "    }\n",
       "\n",
       "    .dataframe thead th {\n",
       "        text-align: right;\n",
       "    }\n",
       "</style>\n",
       "<table border=\"1\" class=\"dataframe\">\n",
       "  <thead>\n",
       "    <tr style=\"text-align: right;\">\n",
       "      <th></th>\n",
       "      <th>Male</th>\n",
       "      <th>Female</th>\n",
       "      <th>Torso Back</th>\n",
       "      <th>Torso Front</th>\n",
       "      <th>Left Leg</th>\n",
       "      <th>Right Leg</th>\n",
       "      <th>Left Arm</th>\n",
       "      <th>Right Arm</th>\n",
       "      <th>Head &amp; Neck</th>\n",
       "    </tr>\n",
       "  </thead>\n",
       "  <tbody>\n",
       "    <tr>\n",
       "      <th>0</th>\n",
       "      <td>1</td>\n",
       "      <td>0</td>\n",
       "      <td>0</td>\n",
       "      <td>0</td>\n",
       "      <td>0</td>\n",
       "      <td>1</td>\n",
       "      <td>0</td>\n",
       "      <td>0</td>\n",
       "      <td>0</td>\n",
       "    </tr>\n",
       "    <tr>\n",
       "      <th>1</th>\n",
       "      <td>1</td>\n",
       "      <td>0</td>\n",
       "      <td>0</td>\n",
       "      <td>0</td>\n",
       "      <td>0</td>\n",
       "      <td>0</td>\n",
       "      <td>0</td>\n",
       "      <td>0</td>\n",
       "      <td>1</td>\n",
       "    </tr>\n",
       "    <tr>\n",
       "      <th>2</th>\n",
       "      <td>1</td>\n",
       "      <td>0</td>\n",
       "      <td>1</td>\n",
       "      <td>0</td>\n",
       "      <td>0</td>\n",
       "      <td>0</td>\n",
       "      <td>0</td>\n",
       "      <td>0</td>\n",
       "      <td>0</td>\n",
       "    </tr>\n",
       "    <tr>\n",
       "      <th>3</th>\n",
       "      <td>1</td>\n",
       "      <td>0</td>\n",
       "      <td>0</td>\n",
       "      <td>1</td>\n",
       "      <td>0</td>\n",
       "      <td>0</td>\n",
       "      <td>0</td>\n",
       "      <td>0</td>\n",
       "      <td>0</td>\n",
       "    </tr>\n",
       "    <tr>\n",
       "      <th>4</th>\n",
       "      <td>1</td>\n",
       "      <td>0</td>\n",
       "      <td>0</td>\n",
       "      <td>1</td>\n",
       "      <td>0</td>\n",
       "      <td>0</td>\n",
       "      <td>0</td>\n",
       "      <td>0</td>\n",
       "      <td>0</td>\n",
       "    </tr>\n",
       "  </tbody>\n",
       "</table>\n",
       "</div>"
      ],
      "text/plain": [
       "   Male  Female  Torso Back  Torso Front  Left Leg  Right Leg  Left Arm  \\\n",
       "0     1       0           0            0         0          1         0   \n",
       "1     1       0           0            0         0          0         0   \n",
       "2     1       0           1            0         0          0         0   \n",
       "3     1       0           0            1         0          0         0   \n",
       "4     1       0           0            1         0          0         0   \n",
       "\n",
       "   Right Arm  Head & Neck  \n",
       "0          0            0  \n",
       "1          0            1  \n",
       "2          0            0  \n",
       "3          0            0  \n",
       "4          0            0  "
      ]
     },
     "execution_count": 98,
     "metadata": {},
     "output_type": "execute_result"
    }
   ],
   "source": [
    "one_hot_combined = pd.concat([numerical_sex, one_hot_location], axis=1)\n",
    "one_hot_combined.head()"
   ]
  },
  {
   "cell_type": "markdown",
   "metadata": {},
   "source": [
    "Normalizing other numerical columns to the [0, 1] range with min-max scaling"
   ]
  },
  {
   "cell_type": "code",
   "execution_count": 99,
   "metadata": {},
   "outputs": [],
   "source": [
    "numerical = train_trim.select_dtypes(include=\"number\")\n",
    "\n",
    "for column in numerical.columns: \n",
    "    numerical[column] = (numerical[column] - numerical[column].min()) / (numerical[column].max() - numerical[column].min())     "
   ]
  },
  {
   "cell_type": "markdown",
   "metadata": {},
   "source": [
    "Concat with numerical columns to get the clean data"
   ]
  },
  {
   "cell_type": "code",
   "execution_count": 100,
   "metadata": {},
   "outputs": [
    {
     "data": {
      "text/html": [
       "<div>\n",
       "<style scoped>\n",
       "    .dataframe tbody tr th:only-of-type {\n",
       "        vertical-align: middle;\n",
       "    }\n",
       "\n",
       "    .dataframe tbody tr th {\n",
       "        vertical-align: top;\n",
       "    }\n",
       "\n",
       "    .dataframe thead th {\n",
       "        text-align: right;\n",
       "    }\n",
       "</style>\n",
       "<table border=\"1\" class=\"dataframe\">\n",
       "  <thead>\n",
       "    <tr style=\"text-align: right;\">\n",
       "      <th></th>\n",
       "      <th>Male</th>\n",
       "      <th>Female</th>\n",
       "      <th>Torso Back</th>\n",
       "      <th>Torso Front</th>\n",
       "      <th>Left Leg</th>\n",
       "      <th>Right Leg</th>\n",
       "      <th>Left Arm</th>\n",
       "      <th>Right Arm</th>\n",
       "      <th>Head &amp; Neck</th>\n",
       "      <th>tbp_lv_color_std_mean</th>\n",
       "      <th>...</th>\n",
       "      <th>tbp_lv_C</th>\n",
       "      <th>tbp_lv_nevi_confidence</th>\n",
       "      <th>tbp_lv_B</th>\n",
       "      <th>tbp_lv_deltaL</th>\n",
       "      <th>tbp_lv_minorAxisMM</th>\n",
       "      <th>tbp_lv_norm_border</th>\n",
       "      <th>tbp_lv_areaMM2</th>\n",
       "      <th>tbp_lv_symm_2axis_angle</th>\n",
       "      <th>age_approx</th>\n",
       "      <th>tbp_lv_Hext</th>\n",
       "    </tr>\n",
       "  </thead>\n",
       "  <tbody>\n",
       "    <tr>\n",
       "      <th>0</th>\n",
       "      <td>1</td>\n",
       "      <td>0</td>\n",
       "      <td>0</td>\n",
       "      <td>0</td>\n",
       "      <td>0</td>\n",
       "      <td>1</td>\n",
       "      <td>0</td>\n",
       "      <td>0</td>\n",
       "      <td>0</td>\n",
       "      <td>0.000000</td>\n",
       "      <td>...</td>\n",
       "      <td>0.549810</td>\n",
       "      <td>2.628592e-05</td>\n",
       "      <td>0.502444</td>\n",
       "      <td>0.836741</td>\n",
       "      <td>0.070059</td>\n",
       "      <td>0.690918</td>\n",
       "      <td>0.008153</td>\n",
       "      <td>0.485714</td>\n",
       "      <td>0.6875</td>\n",
       "      <td>0.267121</td>\n",
       "    </tr>\n",
       "    <tr>\n",
       "      <th>1</th>\n",
       "      <td>1</td>\n",
       "      <td>0</td>\n",
       "      <td>0</td>\n",
       "      <td>0</td>\n",
       "      <td>0</td>\n",
       "      <td>0</td>\n",
       "      <td>0</td>\n",
       "      <td>0</td>\n",
       "      <td>1</td>\n",
       "      <td>0.000000</td>\n",
       "      <td>...</td>\n",
       "      <td>0.685050</td>\n",
       "      <td>1.334303e-09</td>\n",
       "      <td>0.491697</td>\n",
       "      <td>0.867883</td>\n",
       "      <td>0.030250</td>\n",
       "      <td>0.162262</td>\n",
       "      <td>0.001462</td>\n",
       "      <td>0.314286</td>\n",
       "      <td>0.6875</td>\n",
       "      <td>0.152394</td>\n",
       "    </tr>\n",
       "    <tr>\n",
       "      <th>2</th>\n",
       "      <td>1</td>\n",
       "      <td>0</td>\n",
       "      <td>1</td>\n",
       "      <td>0</td>\n",
       "      <td>0</td>\n",
       "      <td>0</td>\n",
       "      <td>0</td>\n",
       "      <td>0</td>\n",
       "      <td>0</td>\n",
       "      <td>0.000000</td>\n",
       "      <td>...</td>\n",
       "      <td>0.738108</td>\n",
       "      <td>2.959177e-06</td>\n",
       "      <td>0.703178</td>\n",
       "      <td>0.835366</td>\n",
       "      <td>0.050841</td>\n",
       "      <td>0.447253</td>\n",
       "      <td>0.008491</td>\n",
       "      <td>0.600000</td>\n",
       "      <td>0.6875</td>\n",
       "      <td>0.336171</td>\n",
       "    </tr>\n",
       "    <tr>\n",
       "      <th>3</th>\n",
       "      <td>1</td>\n",
       "      <td>0</td>\n",
       "      <td>0</td>\n",
       "      <td>1</td>\n",
       "      <td>0</td>\n",
       "      <td>0</td>\n",
       "      <td>0</td>\n",
       "      <td>0</td>\n",
       "      <td>0</td>\n",
       "      <td>0.051695</td>\n",
       "      <td>...</td>\n",
       "      <td>0.407316</td>\n",
       "      <td>2.198945e-01</td>\n",
       "      <td>0.402979</td>\n",
       "      <td>0.917270</td>\n",
       "      <td>0.121860</td>\n",
       "      <td>0.147329</td>\n",
       "      <td>0.016925</td>\n",
       "      <td>0.742857</td>\n",
       "      <td>0.7500</td>\n",
       "      <td>0.308385</td>\n",
       "    </tr>\n",
       "    <tr>\n",
       "      <th>4</th>\n",
       "      <td>1</td>\n",
       "      <td>0</td>\n",
       "      <td>0</td>\n",
       "      <td>1</td>\n",
       "      <td>0</td>\n",
       "      <td>0</td>\n",
       "      <td>0</td>\n",
       "      <td>0</td>\n",
       "      <td>0</td>\n",
       "      <td>0.000000</td>\n",
       "      <td>...</td>\n",
       "      <td>0.595283</td>\n",
       "      <td>1.378832e-05</td>\n",
       "      <td>0.494130</td>\n",
       "      <td>0.811955</td>\n",
       "      <td>0.036212</td>\n",
       "      <td>0.326168</td>\n",
       "      <td>0.005005</td>\n",
       "      <td>0.114286</td>\n",
       "      <td>0.6250</td>\n",
       "      <td>0.230185</td>\n",
       "    </tr>\n",
       "  </tbody>\n",
       "</table>\n",
       "<p>5 rows × 43 columns</p>\n",
       "</div>"
      ],
      "text/plain": [
       "   Male  Female  Torso Back  Torso Front  Left Leg  Right Leg  Left Arm  \\\n",
       "0     1       0           0            0         0          1         0   \n",
       "1     1       0           0            0         0          0         0   \n",
       "2     1       0           1            0         0          0         0   \n",
       "3     1       0           0            1         0          0         0   \n",
       "4     1       0           0            1         0          0         0   \n",
       "\n",
       "   Right Arm  Head & Neck  tbp_lv_color_std_mean  ...  tbp_lv_C  \\\n",
       "0          0            0               0.000000  ...  0.549810   \n",
       "1          0            1               0.000000  ...  0.685050   \n",
       "2          0            0               0.000000  ...  0.738108   \n",
       "3          0            0               0.051695  ...  0.407316   \n",
       "4          0            0               0.000000  ...  0.595283   \n",
       "\n",
       "   tbp_lv_nevi_confidence  tbp_lv_B  tbp_lv_deltaL  tbp_lv_minorAxisMM  \\\n",
       "0            2.628592e-05  0.502444       0.836741            0.070059   \n",
       "1            1.334303e-09  0.491697       0.867883            0.030250   \n",
       "2            2.959177e-06  0.703178       0.835366            0.050841   \n",
       "3            2.198945e-01  0.402979       0.917270            0.121860   \n",
       "4            1.378832e-05  0.494130       0.811955            0.036212   \n",
       "\n",
       "   tbp_lv_norm_border  tbp_lv_areaMM2  tbp_lv_symm_2axis_angle  age_approx  \\\n",
       "0            0.690918        0.008153                 0.485714      0.6875   \n",
       "1            0.162262        0.001462                 0.314286      0.6875   \n",
       "2            0.447253        0.008491                 0.600000      0.6875   \n",
       "3            0.147329        0.016925                 0.742857      0.7500   \n",
       "4            0.326168        0.005005                 0.114286      0.6250   \n",
       "\n",
       "   tbp_lv_Hext  \n",
       "0     0.267121  \n",
       "1     0.152394  \n",
       "2     0.336171  \n",
       "3     0.308385  \n",
       "4     0.230185  \n",
       "\n",
       "[5 rows x 43 columns]"
      ]
     },
     "execution_count": 100,
     "metadata": {},
     "output_type": "execute_result"
    }
   ],
   "source": [
    "clean = pd.concat([one_hot_combined, numerical], axis=1)\n",
    "clean.head()"
   ]
  },
  {
   "cell_type": "markdown",
   "metadata": {},
   "source": [
    "Save the clean data"
   ]
  },
  {
   "cell_type": "code",
   "execution_count": 101,
   "metadata": {},
   "outputs": [],
   "source": [
    "clean.to_csv(\"clean_train-metadata.csv\", index=False)"
   ]
  }
 ],
 "metadata": {
  "kernelspec": {
   "display_name": "Python 3",
   "language": "python",
   "name": "python3"
  },
  "language_info": {
   "codemirror_mode": {
    "name": "ipython",
    "version": 3
   },
   "file_extension": ".py",
   "mimetype": "text/x-python",
   "name": "python",
   "nbconvert_exporter": "python",
   "pygments_lexer": "ipython3",
   "version": "3.12.5"
  }
 },
 "nbformat": 4,
 "nbformat_minor": 2
}
