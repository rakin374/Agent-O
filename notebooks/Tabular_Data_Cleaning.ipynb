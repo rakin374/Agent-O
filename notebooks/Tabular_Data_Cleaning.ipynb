{
 "cells": [
  {
   "cell_type": "code",
   "execution_count": 56,
   "metadata": {},
   "outputs": [],
   "source": [
    "import numpy as np\n",
    "import pandas as pd"
   ]
  },
  {
   "cell_type": "code",
   "execution_count": 57,
   "metadata": {},
   "outputs": [
    {
     "name": "stderr",
     "output_type": "stream",
     "text": [
      "C:\\Users\\efim6\\AppData\\Local\\Temp\\ipykernel_21436\\1523111444.py:1: DtypeWarning: Columns (51,52) have mixed types. Specify dtype option on import or set low_memory=False.\n",
      "  train = pd.read_csv(\"../../../train-metadata.csv\")\n"
     ]
    }
   ],
   "source": [
    "train = pd.read_csv(\"../../../train-metadata.csv\")\n",
    "test = pd.read_csv(\"../../../test-metadata.csv\")"
   ]
  },
  {
   "cell_type": "code",
   "execution_count": 58,
   "metadata": {},
   "outputs": [
    {
     "data": {
      "text/plain": [
       "(401059, 55)"
      ]
     },
     "execution_count": 58,
     "metadata": {},
     "output_type": "execute_result"
    }
   ],
   "source": [
    "train.shape"
   ]
  },
  {
   "cell_type": "code",
   "execution_count": 59,
   "metadata": {},
   "outputs": [],
   "source": [
    "y = train[\"target\"]"
   ]
  },
  {
   "cell_type": "code",
   "execution_count": 60,
   "metadata": {},
   "outputs": [
    {
     "data": {
      "text/plain": [
       "(3, 44)"
      ]
     },
     "execution_count": 60,
     "metadata": {},
     "output_type": "execute_result"
    }
   ],
   "source": [
    "test.shape"
   ]
  },
  {
   "cell_type": "markdown",
   "metadata": {},
   "source": [
    "Test has fewer columns than train - only use the intersection so that we can apply to test data <br>"
   ]
  },
  {
   "cell_type": "code",
   "execution_count": 61,
   "metadata": {},
   "outputs": [
    {
     "data": {
      "text/plain": [
       "44"
      ]
     },
     "execution_count": 61,
     "metadata": {},
     "output_type": "execute_result"
    }
   ],
   "source": [
    "shared_cols = set(train.columns).intersection(set(test.columns))\n",
    "len(shared_cols)"
   ]
  },
  {
   "cell_type": "markdown",
   "metadata": {},
   "source": [
    "Use second line in the next cell if you want to use all columns instead."
   ]
  },
  {
   "cell_type": "code",
   "execution_count": 62,
   "metadata": {},
   "outputs": [
    {
     "data": {
      "text/plain": [
       "(401059, 44)"
      ]
     },
     "execution_count": 62,
     "metadata": {},
     "output_type": "execute_result"
    }
   ],
   "source": [
    "train_trim = train[list(shared_cols)]\n",
    "# train_trim = train \n",
    "train_trim.shape"
   ]
  },
  {
   "cell_type": "markdown",
   "metadata": {},
   "source": [
    "String columns"
   ]
  },
  {
   "cell_type": "code",
   "execution_count": 63,
   "metadata": {},
   "outputs": [
    {
     "data": {
      "text/plain": [
       "10"
      ]
     },
     "execution_count": 63,
     "metadata": {},
     "output_type": "execute_result"
    }
   ],
   "source": [
    "len(train_trim.select_dtypes(include=\"object\").columns)"
   ]
  },
  {
   "cell_type": "markdown",
   "metadata": {},
   "source": [
    "Number columns"
   ]
  },
  {
   "cell_type": "code",
   "execution_count": 64,
   "metadata": {},
   "outputs": [
    {
     "data": {
      "text/plain": [
       "34"
      ]
     },
     "execution_count": 64,
     "metadata": {},
     "output_type": "execute_result"
    }
   ],
   "source": [
    "len(train_trim.select_dtypes(include=\"number\").columns)"
   ]
  },
  {
   "cell_type": "markdown",
   "metadata": {},
   "source": [
    "Null checking"
   ]
  },
  {
   "cell_type": "code",
   "execution_count": 65,
   "metadata": {},
   "outputs": [
    {
     "data": {
      "text/plain": [
       "isic_id                    0.000000\n",
       "tbp_lv_location            0.000000\n",
       "tbp_lv_area_perim_ratio    0.000000\n",
       "sex                        2.871647\n",
       "tbp_lv_deltaA              0.000000\n",
       "dtype: float64"
      ]
     },
     "execution_count": 65,
     "metadata": {},
     "output_type": "execute_result"
    }
   ],
   "source": [
    "nulls = train_trim.apply(lambda col: col.isnull().sum() / col.size * 100)\n",
    "nulls.head()"
   ]
  },
  {
   "cell_type": "markdown",
   "metadata": {},
   "source": [
    "Columns with nulls"
   ]
  },
  {
   "cell_type": "code",
   "execution_count": 66,
   "metadata": {},
   "outputs": [
    {
     "data": {
      "text/plain": [
       "sex                    2.871647\n",
       "anatom_site_general    1.435200\n",
       "age_approx             0.697653\n",
       "dtype: float64"
      ]
     },
     "execution_count": 66,
     "metadata": {},
     "output_type": "execute_result"
    }
   ],
   "source": [
    "nulls[nulls > 0]"
   ]
  },
  {
   "cell_type": "markdown",
   "metadata": {},
   "source": [
    "Dropping rows with null age. Sex handled later, anatom_site_general not used."
   ]
  },
  {
   "cell_type": "code",
   "execution_count": 67,
   "metadata": {},
   "outputs": [],
   "source": [
    "train_trim = train_trim.dropna(subset=['age_approx'])"
   ]
  },
  {
   "cell_type": "markdown",
   "metadata": {},
   "source": [
    "Extract string columns"
   ]
  },
  {
   "cell_type": "code",
   "execution_count": 68,
   "metadata": {},
   "outputs": [
    {
     "data": {
      "text/html": [
       "<div>\n",
       "<style scoped>\n",
       "    .dataframe tbody tr th:only-of-type {\n",
       "        vertical-align: middle;\n",
       "    }\n",
       "\n",
       "    .dataframe tbody tr th {\n",
       "        vertical-align: top;\n",
       "    }\n",
       "\n",
       "    .dataframe thead th {\n",
       "        text-align: right;\n",
       "    }\n",
       "</style>\n",
       "<table border=\"1\" class=\"dataframe\">\n",
       "  <thead>\n",
       "    <tr style=\"text-align: right;\">\n",
       "      <th></th>\n",
       "      <th>isic_id</th>\n",
       "      <th>tbp_lv_location</th>\n",
       "      <th>sex</th>\n",
       "      <th>tbp_tile_type</th>\n",
       "      <th>image_type</th>\n",
       "      <th>attribution</th>\n",
       "      <th>copyright_license</th>\n",
       "      <th>tbp_lv_location_simple</th>\n",
       "      <th>patient_id</th>\n",
       "      <th>anatom_site_general</th>\n",
       "    </tr>\n",
       "  </thead>\n",
       "  <tbody>\n",
       "    <tr>\n",
       "      <th>0</th>\n",
       "      <td>ISIC_0015670</td>\n",
       "      <td>Right Leg - Upper</td>\n",
       "      <td>male</td>\n",
       "      <td>3D: white</td>\n",
       "      <td>TBP tile: close-up</td>\n",
       "      <td>Memorial Sloan Kettering Cancer Center</td>\n",
       "      <td>CC-BY</td>\n",
       "      <td>Right Leg</td>\n",
       "      <td>IP_1235828</td>\n",
       "      <td>lower extremity</td>\n",
       "    </tr>\n",
       "    <tr>\n",
       "      <th>1</th>\n",
       "      <td>ISIC_0015845</td>\n",
       "      <td>Head &amp; Neck</td>\n",
       "      <td>male</td>\n",
       "      <td>3D: white</td>\n",
       "      <td>TBP tile: close-up</td>\n",
       "      <td>Memorial Sloan Kettering Cancer Center</td>\n",
       "      <td>CC-BY</td>\n",
       "      <td>Head &amp; Neck</td>\n",
       "      <td>IP_8170065</td>\n",
       "      <td>head/neck</td>\n",
       "    </tr>\n",
       "    <tr>\n",
       "      <th>2</th>\n",
       "      <td>ISIC_0015864</td>\n",
       "      <td>Torso Back Top Third</td>\n",
       "      <td>male</td>\n",
       "      <td>3D: XP</td>\n",
       "      <td>TBP tile: close-up</td>\n",
       "      <td>Memorial Sloan Kettering Cancer Center</td>\n",
       "      <td>CC-BY</td>\n",
       "      <td>Torso Back</td>\n",
       "      <td>IP_6724798</td>\n",
       "      <td>posterior torso</td>\n",
       "    </tr>\n",
       "    <tr>\n",
       "      <th>3</th>\n",
       "      <td>ISIC_0015902</td>\n",
       "      <td>Torso Front Top Half</td>\n",
       "      <td>male</td>\n",
       "      <td>3D: XP</td>\n",
       "      <td>TBP tile: close-up</td>\n",
       "      <td>ACEMID MIA</td>\n",
       "      <td>CC-0</td>\n",
       "      <td>Torso Front</td>\n",
       "      <td>IP_4111386</td>\n",
       "      <td>anterior torso</td>\n",
       "    </tr>\n",
       "    <tr>\n",
       "      <th>4</th>\n",
       "      <td>ISIC_0024200</td>\n",
       "      <td>Torso Front Top Half</td>\n",
       "      <td>male</td>\n",
       "      <td>3D: white</td>\n",
       "      <td>TBP tile: close-up</td>\n",
       "      <td>Memorial Sloan Kettering Cancer Center</td>\n",
       "      <td>CC-BY</td>\n",
       "      <td>Torso Front</td>\n",
       "      <td>IP_8313778</td>\n",
       "      <td>anterior torso</td>\n",
       "    </tr>\n",
       "  </tbody>\n",
       "</table>\n",
       "</div>"
      ],
      "text/plain": [
       "        isic_id       tbp_lv_location   sex tbp_tile_type          image_type  \\\n",
       "0  ISIC_0015670     Right Leg - Upper  male     3D: white  TBP tile: close-up   \n",
       "1  ISIC_0015845           Head & Neck  male     3D: white  TBP tile: close-up   \n",
       "2  ISIC_0015864  Torso Back Top Third  male        3D: XP  TBP tile: close-up   \n",
       "3  ISIC_0015902  Torso Front Top Half  male        3D: XP  TBP tile: close-up   \n",
       "4  ISIC_0024200  Torso Front Top Half  male     3D: white  TBP tile: close-up   \n",
       "\n",
       "                              attribution copyright_license  \\\n",
       "0  Memorial Sloan Kettering Cancer Center             CC-BY   \n",
       "1  Memorial Sloan Kettering Cancer Center             CC-BY   \n",
       "2  Memorial Sloan Kettering Cancer Center             CC-BY   \n",
       "3                              ACEMID MIA              CC-0   \n",
       "4  Memorial Sloan Kettering Cancer Center             CC-BY   \n",
       "\n",
       "  tbp_lv_location_simple  patient_id anatom_site_general  \n",
       "0              Right Leg  IP_1235828     lower extremity  \n",
       "1            Head & Neck  IP_8170065           head/neck  \n",
       "2             Torso Back  IP_6724798     posterior torso  \n",
       "3            Torso Front  IP_4111386      anterior torso  \n",
       "4            Torso Front  IP_8313778      anterior torso  "
      ]
     },
     "execution_count": 68,
     "metadata": {},
     "output_type": "execute_result"
    }
   ],
   "source": [
    "string_cols = train_trim.select_dtypes(include=\"object\")\n",
    "string_cols.head()"
   ]
  },
  {
   "cell_type": "markdown",
   "metadata": {},
   "source": [
    "Check for constant-value columns"
   ]
  },
  {
   "cell_type": "code",
   "execution_count": 69,
   "metadata": {},
   "outputs": [
    {
     "data": {
      "text/plain": [
       "isic_id                   [ISIC_0015670, ISIC_0015845, ISIC_0015864, ISI...\n",
       "tbp_lv_location           [Right Leg - Upper, Head & Neck, Torso Back To...\n",
       "sex                                                     [male, female, nan]\n",
       "tbp_tile_type                                           [3D: white, 3D: XP]\n",
       "image_type                                             [TBP tile: close-up]\n",
       "attribution               [Memorial Sloan Kettering Cancer Center, ACEMI...\n",
       "copyright_license                                   [CC-BY, CC-0, CC-BY-NC]\n",
       "tbp_lv_location_simple    [Right Leg, Head & Neck, Torso Back, Torso Fro...\n",
       "patient_id                [IP_1235828, IP_8170065, IP_6724798, IP_411138...\n",
       "anatom_site_general       [lower extremity, head/neck, posterior torso, ...\n",
       "dtype: object"
      ]
     },
     "execution_count": 69,
     "metadata": {},
     "output_type": "execute_result"
    }
   ],
   "source": [
    "string_cols.apply(lambda row: row.unique())"
   ]
  },
  {
   "cell_type": "markdown",
   "metadata": {},
   "source": [
    "Drop ID and other useless string columns"
   ]
  },
  {
   "cell_type": "code",
   "execution_count": 70,
   "metadata": {},
   "outputs": [
    {
     "data": {
      "text/plain": [
       "{'anatom_site_general', 'sex', 'tbp_lv_location', 'tbp_lv_location_simple'}"
      ]
     },
     "execution_count": 70,
     "metadata": {},
     "output_type": "execute_result"
    }
   ],
   "source": [
    "to_drop = [\"tbp_tile_type\", \"copyright_license\", \"isic_id\", \"patient_id\", \"attribution\", \"image_type\"]\n",
    "set(string_cols.columns).difference(set(to_drop))"
   ]
  },
  {
   "cell_type": "markdown",
   "metadata": {},
   "source": [
    "3 location columns, increasing specificity. Using the middle one for one-hot encoding"
   ]
  },
  {
   "cell_type": "code",
   "execution_count": 71,
   "metadata": {},
   "outputs": [
    {
     "data": {
      "text/plain": [
       "anatom_site_general\n",
       "posterior torso    121143\n",
       "lower extremity    102071\n",
       "anterior torso      87256\n",
       "upper extremity     70088\n",
       "head/neck           11962\n",
       "Name: count, dtype: int64"
      ]
     },
     "execution_count": 71,
     "metadata": {},
     "output_type": "execute_result"
    }
   ],
   "source": [
    "string_cols[\"anatom_site_general\"].value_counts()"
   ]
  },
  {
   "cell_type": "code",
   "execution_count": 72,
   "metadata": {},
   "outputs": [
    {
     "data": {
      "text/plain": [
       "tbp_lv_location_simple\n",
       "Torso Back     121143\n",
       "Torso Front     87256\n",
       "Left Leg        52633\n",
       "Right Leg       49438\n",
       "Left Arm        36124\n",
       "Right Arm       33964\n",
       "Head & Neck     11962\n",
       "Unknown          5741\n",
       "Name: count, dtype: int64"
      ]
     },
     "execution_count": 72,
     "metadata": {},
     "output_type": "execute_result"
    }
   ],
   "source": [
    "string_cols[\"tbp_lv_location_simple\"].value_counts()"
   ]
  },
  {
   "cell_type": "code",
   "execution_count": 73,
   "metadata": {},
   "outputs": [
    {
     "data": {
      "text/plain": [
       "tbp_lv_location\n",
       "Torso Back Top Third       70703\n",
       "Torso Front Top Half       62991\n",
       "Torso Back Middle Third    45859\n",
       "Left Leg - Lower           27205\n",
       "Right Leg - Lower          25008\n",
       "Torso Front Bottom Half    24205\n",
       "Left Leg - Upper           23454\n",
       "Right Arm - Upper          22849\n",
       "Right Leg - Upper          22719\n",
       "Left Arm - Upper           22713\n",
       "Head & Neck                11962\n",
       "Left Arm - Lower           11820\n",
       "Right Arm - Lower          10514\n",
       "Unknown                     5741\n",
       "Torso Back Bottom Third     4572\n",
       "Left Leg                    1974\n",
       "Right Leg                   1711\n",
       "Left Arm                    1591\n",
       "Right Arm                    601\n",
       "Torso Front                   60\n",
       "Torso Back                     9\n",
       "Name: count, dtype: int64"
      ]
     },
     "execution_count": 73,
     "metadata": {},
     "output_type": "execute_result"
    }
   ],
   "source": [
    "string_cols[\"tbp_lv_location\"].value_counts()"
   ]
  },
  {
   "cell_type": "markdown",
   "metadata": {},
   "source": [
    "One-hot encoding the sex column. Using a vector of length 2 here to account for the NaaNs - when the value is \"unknown\", the vector is [0, 0]. Alternatively, we could drop all NaaN rows and use a single indicator column."
   ]
  },
  {
   "cell_type": "code",
   "execution_count": 74,
   "metadata": {},
   "outputs": [],
   "source": [
    "male_indicator = string_cols[\"sex\"].apply(lambda s: int(s == \"male\" and not s == \"unknown\"))\n",
    "male_indicator.name = \"Male\"\n",
    "female_indicator = string_cols[\"sex\"].apply(lambda s: int(s == \"female\" and not s == \"unknown\"))\n",
    "female_indicator.name = \"Female\""
   ]
  },
  {
   "cell_type": "code",
   "execution_count": 75,
   "metadata": {},
   "outputs": [
    {
     "data": {
      "text/html": [
       "<div>\n",
       "<style scoped>\n",
       "    .dataframe tbody tr th:only-of-type {\n",
       "        vertical-align: middle;\n",
       "    }\n",
       "\n",
       "    .dataframe tbody tr th {\n",
       "        vertical-align: top;\n",
       "    }\n",
       "\n",
       "    .dataframe thead th {\n",
       "        text-align: right;\n",
       "    }\n",
       "</style>\n",
       "<table border=\"1\" class=\"dataframe\">\n",
       "  <thead>\n",
       "    <tr style=\"text-align: right;\">\n",
       "      <th></th>\n",
       "      <th>Male</th>\n",
       "      <th>Female</th>\n",
       "    </tr>\n",
       "  </thead>\n",
       "  <tbody>\n",
       "    <tr>\n",
       "      <th>401054</th>\n",
       "      <td>1</td>\n",
       "      <td>0</td>\n",
       "    </tr>\n",
       "    <tr>\n",
       "      <th>401055</th>\n",
       "      <td>1</td>\n",
       "      <td>0</td>\n",
       "    </tr>\n",
       "    <tr>\n",
       "      <th>401056</th>\n",
       "      <td>0</td>\n",
       "      <td>1</td>\n",
       "    </tr>\n",
       "    <tr>\n",
       "      <th>401057</th>\n",
       "      <td>0</td>\n",
       "      <td>1</td>\n",
       "    </tr>\n",
       "    <tr>\n",
       "      <th>401058</th>\n",
       "      <td>1</td>\n",
       "      <td>0</td>\n",
       "    </tr>\n",
       "  </tbody>\n",
       "</table>\n",
       "</div>"
      ],
      "text/plain": [
       "        Male  Female\n",
       "401054     1       0\n",
       "401055     1       0\n",
       "401056     0       1\n",
       "401057     0       1\n",
       "401058     1       0"
      ]
     },
     "execution_count": 75,
     "metadata": {},
     "output_type": "execute_result"
    }
   ],
   "source": [
    "numerical_sex = pd.concat([male_indicator, female_indicator], axis=1)\n",
    "numerical_sex.tail()"
   ]
  },
  {
   "cell_type": "markdown",
   "metadata": {},
   "source": [
    "One-hot encoding the location column"
   ]
  },
  {
   "cell_type": "code",
   "execution_count": 76,
   "metadata": {},
   "outputs": [
    {
     "data": {
      "text/html": [
       "<div>\n",
       "<style scoped>\n",
       "    .dataframe tbody tr th:only-of-type {\n",
       "        vertical-align: middle;\n",
       "    }\n",
       "\n",
       "    .dataframe tbody tr th {\n",
       "        vertical-align: top;\n",
       "    }\n",
       "\n",
       "    .dataframe thead th {\n",
       "        text-align: right;\n",
       "    }\n",
       "</style>\n",
       "<table border=\"1\" class=\"dataframe\">\n",
       "  <thead>\n",
       "    <tr style=\"text-align: right;\">\n",
       "      <th>tbp_lv_location_simple</th>\n",
       "      <th>Torso Back</th>\n",
       "      <th>Torso Front</th>\n",
       "      <th>Left Leg</th>\n",
       "      <th>Right Leg</th>\n",
       "      <th>Left Arm</th>\n",
       "      <th>Right Arm</th>\n",
       "      <th>Head &amp; Neck</th>\n",
       "    </tr>\n",
       "  </thead>\n",
       "  <tbody>\n",
       "    <tr>\n",
       "      <th>0</th>\n",
       "      <td>0</td>\n",
       "      <td>0</td>\n",
       "      <td>0</td>\n",
       "      <td>1</td>\n",
       "      <td>0</td>\n",
       "      <td>0</td>\n",
       "      <td>0</td>\n",
       "    </tr>\n",
       "    <tr>\n",
       "      <th>1</th>\n",
       "      <td>0</td>\n",
       "      <td>0</td>\n",
       "      <td>0</td>\n",
       "      <td>0</td>\n",
       "      <td>0</td>\n",
       "      <td>0</td>\n",
       "      <td>1</td>\n",
       "    </tr>\n",
       "    <tr>\n",
       "      <th>2</th>\n",
       "      <td>1</td>\n",
       "      <td>0</td>\n",
       "      <td>0</td>\n",
       "      <td>0</td>\n",
       "      <td>0</td>\n",
       "      <td>0</td>\n",
       "      <td>0</td>\n",
       "    </tr>\n",
       "    <tr>\n",
       "      <th>3</th>\n",
       "      <td>0</td>\n",
       "      <td>1</td>\n",
       "      <td>0</td>\n",
       "      <td>0</td>\n",
       "      <td>0</td>\n",
       "      <td>0</td>\n",
       "      <td>0</td>\n",
       "    </tr>\n",
       "    <tr>\n",
       "      <th>4</th>\n",
       "      <td>0</td>\n",
       "      <td>1</td>\n",
       "      <td>0</td>\n",
       "      <td>0</td>\n",
       "      <td>0</td>\n",
       "      <td>0</td>\n",
       "      <td>0</td>\n",
       "    </tr>\n",
       "  </tbody>\n",
       "</table>\n",
       "</div>"
      ],
      "text/plain": [
       "tbp_lv_location_simple  Torso Back  Torso Front  Left Leg  Right Leg  \\\n",
       "0                                0            0         0          1   \n",
       "1                                0            0         0          0   \n",
       "2                                1            0         0          0   \n",
       "3                                0            1         0          0   \n",
       "4                                0            1         0          0   \n",
       "\n",
       "tbp_lv_location_simple  Left Arm  Right Arm  Head & Neck  \n",
       "0                              0          0            0  \n",
       "1                              0          0            1  \n",
       "2                              0          0            0  \n",
       "3                              0          0            0  \n",
       "4                              0          0            0  "
      ]
     },
     "execution_count": 76,
     "metadata": {},
     "output_type": "execute_result"
    }
   ],
   "source": [
    "one_hot_location = pd.Series(string_cols[\"tbp_lv_location_simple\"].value_counts().index[:-1]).apply(\n",
    "    lambda location: string_cols[\"tbp_lv_location_simple\"].apply(lambda loc: int(loc == location))).transpose()\n",
    "one_hot_location.columns = string_cols[\"tbp_lv_location_simple\"].value_counts().index[:-1]\n",
    "one_hot_location.head()\n"
   ]
  },
  {
   "cell_type": "markdown",
   "metadata": {},
   "source": [
    "Total one-hot encoded columns"
   ]
  },
  {
   "cell_type": "code",
   "execution_count": 77,
   "metadata": {},
   "outputs": [
    {
     "data": {
      "text/html": [
       "<div>\n",
       "<style scoped>\n",
       "    .dataframe tbody tr th:only-of-type {\n",
       "        vertical-align: middle;\n",
       "    }\n",
       "\n",
       "    .dataframe tbody tr th {\n",
       "        vertical-align: top;\n",
       "    }\n",
       "\n",
       "    .dataframe thead th {\n",
       "        text-align: right;\n",
       "    }\n",
       "</style>\n",
       "<table border=\"1\" class=\"dataframe\">\n",
       "  <thead>\n",
       "    <tr style=\"text-align: right;\">\n",
       "      <th></th>\n",
       "      <th>Male</th>\n",
       "      <th>Female</th>\n",
       "      <th>Torso Back</th>\n",
       "      <th>Torso Front</th>\n",
       "      <th>Left Leg</th>\n",
       "      <th>Right Leg</th>\n",
       "      <th>Left Arm</th>\n",
       "      <th>Right Arm</th>\n",
       "      <th>Head &amp; Neck</th>\n",
       "    </tr>\n",
       "  </thead>\n",
       "  <tbody>\n",
       "    <tr>\n",
       "      <th>0</th>\n",
       "      <td>1</td>\n",
       "      <td>0</td>\n",
       "      <td>0</td>\n",
       "      <td>0</td>\n",
       "      <td>0</td>\n",
       "      <td>1</td>\n",
       "      <td>0</td>\n",
       "      <td>0</td>\n",
       "      <td>0</td>\n",
       "    </tr>\n",
       "    <tr>\n",
       "      <th>1</th>\n",
       "      <td>1</td>\n",
       "      <td>0</td>\n",
       "      <td>0</td>\n",
       "      <td>0</td>\n",
       "      <td>0</td>\n",
       "      <td>0</td>\n",
       "      <td>0</td>\n",
       "      <td>0</td>\n",
       "      <td>1</td>\n",
       "    </tr>\n",
       "    <tr>\n",
       "      <th>2</th>\n",
       "      <td>1</td>\n",
       "      <td>0</td>\n",
       "      <td>1</td>\n",
       "      <td>0</td>\n",
       "      <td>0</td>\n",
       "      <td>0</td>\n",
       "      <td>0</td>\n",
       "      <td>0</td>\n",
       "      <td>0</td>\n",
       "    </tr>\n",
       "    <tr>\n",
       "      <th>3</th>\n",
       "      <td>1</td>\n",
       "      <td>0</td>\n",
       "      <td>0</td>\n",
       "      <td>1</td>\n",
       "      <td>0</td>\n",
       "      <td>0</td>\n",
       "      <td>0</td>\n",
       "      <td>0</td>\n",
       "      <td>0</td>\n",
       "    </tr>\n",
       "    <tr>\n",
       "      <th>4</th>\n",
       "      <td>1</td>\n",
       "      <td>0</td>\n",
       "      <td>0</td>\n",
       "      <td>1</td>\n",
       "      <td>0</td>\n",
       "      <td>0</td>\n",
       "      <td>0</td>\n",
       "      <td>0</td>\n",
       "      <td>0</td>\n",
       "    </tr>\n",
       "  </tbody>\n",
       "</table>\n",
       "</div>"
      ],
      "text/plain": [
       "   Male  Female  Torso Back  Torso Front  Left Leg  Right Leg  Left Arm  \\\n",
       "0     1       0           0            0         0          1         0   \n",
       "1     1       0           0            0         0          0         0   \n",
       "2     1       0           1            0         0          0         0   \n",
       "3     1       0           0            1         0          0         0   \n",
       "4     1       0           0            1         0          0         0   \n",
       "\n",
       "   Right Arm  Head & Neck  \n",
       "0          0            0  \n",
       "1          0            1  \n",
       "2          0            0  \n",
       "3          0            0  \n",
       "4          0            0  "
      ]
     },
     "execution_count": 77,
     "metadata": {},
     "output_type": "execute_result"
    }
   ],
   "source": [
    "one_hot_combined = pd.concat([numerical_sex, one_hot_location], axis=1)\n",
    "one_hot_combined.head()"
   ]
  },
  {
   "cell_type": "markdown",
   "metadata": {},
   "source": [
    "Normalizing other numerical columns to the [0, 1] range with min-max scaling"
   ]
  },
  {
   "cell_type": "code",
   "execution_count": 78,
   "metadata": {},
   "outputs": [],
   "source": [
    "numerical = train_trim.select_dtypes(include=\"number\")\n",
    "\n",
    "for column in numerical.columns: \n",
    "    numerical[column] = (numerical[column] - numerical[column].min()) / (numerical[column].max() - numerical[column].min())     "
   ]
  },
  {
   "cell_type": "markdown",
   "metadata": {},
   "source": [
    "Concat with numerical columns to get the clean data"
   ]
  },
  {
   "cell_type": "code",
   "execution_count": 79,
   "metadata": {},
   "outputs": [
    {
     "data": {
      "text/html": [
       "<div>\n",
       "<style scoped>\n",
       "    .dataframe tbody tr th:only-of-type {\n",
       "        vertical-align: middle;\n",
       "    }\n",
       "\n",
       "    .dataframe tbody tr th {\n",
       "        vertical-align: top;\n",
       "    }\n",
       "\n",
       "    .dataframe thead th {\n",
       "        text-align: right;\n",
       "    }\n",
       "</style>\n",
       "<table border=\"1\" class=\"dataframe\">\n",
       "  <thead>\n",
       "    <tr style=\"text-align: right;\">\n",
       "      <th></th>\n",
       "      <th>Male</th>\n",
       "      <th>Female</th>\n",
       "      <th>Torso Back</th>\n",
       "      <th>Torso Front</th>\n",
       "      <th>Left Leg</th>\n",
       "      <th>Right Leg</th>\n",
       "      <th>Left Arm</th>\n",
       "      <th>Right Arm</th>\n",
       "      <th>Head &amp; Neck</th>\n",
       "      <th>tbp_lv_area_perim_ratio</th>\n",
       "      <th>...</th>\n",
       "      <th>tbp_lv_Bext</th>\n",
       "      <th>tbp_lv_z</th>\n",
       "      <th>tbp_lv_Aext</th>\n",
       "      <th>tbp_lv_Hext</th>\n",
       "      <th>tbp_lv_perimeterMM</th>\n",
       "      <th>tbp_lv_x</th>\n",
       "      <th>tbp_lv_B</th>\n",
       "      <th>tbp_lv_H</th>\n",
       "      <th>age_approx</th>\n",
       "      <th>tbp_lv_symm_2axis</th>\n",
       "    </tr>\n",
       "  </thead>\n",
       "  <tbody>\n",
       "    <tr>\n",
       "      <th>0</th>\n",
       "      <td>1</td>\n",
       "      <td>0</td>\n",
       "      <td>0</td>\n",
       "      <td>0</td>\n",
       "      <td>0</td>\n",
       "      <td>1</td>\n",
       "      <td>0</td>\n",
       "      <td>0</td>\n",
       "      <td>0</td>\n",
       "      <td>0.218652</td>\n",
       "      <td>...</td>\n",
       "      <td>0.376069</td>\n",
       "      <td>0.408087</td>\n",
       "      <td>0.549700</td>\n",
       "      <td>0.267121</td>\n",
       "      <td>0.067335</td>\n",
       "      <td>0.356776</td>\n",
       "      <td>0.502444</td>\n",
       "      <td>0.508448</td>\n",
       "      <td>0.6875</td>\n",
       "      <td>0.582086</td>\n",
       "    </tr>\n",
       "    <tr>\n",
       "      <th>1</th>\n",
       "      <td>1</td>\n",
       "      <td>0</td>\n",
       "      <td>0</td>\n",
       "      <td>0</td>\n",
       "      <td>0</td>\n",
       "      <td>0</td>\n",
       "      <td>0</td>\n",
       "      <td>0</td>\n",
       "      <td>1</td>\n",
       "      <td>0.019278</td>\n",
       "      <td>...</td>\n",
       "      <td>0.391260</td>\n",
       "      <td>0.571023</td>\n",
       "      <td>0.747149</td>\n",
       "      <td>0.152394</td>\n",
       "      <td>0.007756</td>\n",
       "      <td>0.504132</td>\n",
       "      <td>0.491697</td>\n",
       "      <td>0.384152</td>\n",
       "      <td>0.6875</td>\n",
       "      <td>0.252621</td>\n",
       "    </tr>\n",
       "    <tr>\n",
       "      <th>2</th>\n",
       "      <td>1</td>\n",
       "      <td>0</td>\n",
       "      <td>1</td>\n",
       "      <td>0</td>\n",
       "      <td>0</td>\n",
       "      <td>0</td>\n",
       "      <td>0</td>\n",
       "      <td>0</td>\n",
       "      <td>0</td>\n",
       "      <td>0.175593</td>\n",
       "      <td>...</td>\n",
       "      <td>0.619598</td>\n",
       "      <td>0.858501</td>\n",
       "      <td>0.568489</td>\n",
       "      <td>0.336171</td>\n",
       "      <td>0.063125</td>\n",
       "      <td>0.603966</td>\n",
       "      <td>0.703178</td>\n",
       "      <td>0.566217</td>\n",
       "      <td>0.6875</td>\n",
       "      <td>0.334987</td>\n",
       "    </tr>\n",
       "    <tr>\n",
       "      <th>3</th>\n",
       "      <td>1</td>\n",
       "      <td>0</td>\n",
       "      <td>0</td>\n",
       "      <td>1</td>\n",
       "      <td>0</td>\n",
       "      <td>0</td>\n",
       "      <td>0</td>\n",
       "      <td>0</td>\n",
       "      <td>0</td>\n",
       "      <td>0.053995</td>\n",
       "      <td>...</td>\n",
       "      <td>0.303669</td>\n",
       "      <td>0.572962</td>\n",
       "      <td>0.460827</td>\n",
       "      <td>0.308385</td>\n",
       "      <td>0.069412</td>\n",
       "      <td>0.390405</td>\n",
       "      <td>0.402979</td>\n",
       "      <td>0.539680</td>\n",
       "      <td>0.7500</td>\n",
       "      <td>0.170317</td>\n",
       "    </tr>\n",
       "    <tr>\n",
       "      <th>4</th>\n",
       "      <td>1</td>\n",
       "      <td>0</td>\n",
       "      <td>0</td>\n",
       "      <td>1</td>\n",
       "      <td>0</td>\n",
       "      <td>0</td>\n",
       "      <td>0</td>\n",
       "      <td>0</td>\n",
       "      <td>0</td>\n",
       "      <td>0.119577</td>\n",
       "      <td>...</td>\n",
       "      <td>0.420931</td>\n",
       "      <td>0.512548</td>\n",
       "      <td>0.632028</td>\n",
       "      <td>0.230185</td>\n",
       "      <td>0.038916</td>\n",
       "      <td>0.445845</td>\n",
       "      <td>0.494130</td>\n",
       "      <td>0.451561</td>\n",
       "      <td>0.6250</td>\n",
       "      <td>0.282586</td>\n",
       "    </tr>\n",
       "  </tbody>\n",
       "</table>\n",
       "<p>5 rows × 43 columns</p>\n",
       "</div>"
      ],
      "text/plain": [
       "   Male  Female  Torso Back  Torso Front  Left Leg  Right Leg  Left Arm  \\\n",
       "0     1       0           0            0         0          1         0   \n",
       "1     1       0           0            0         0          0         0   \n",
       "2     1       0           1            0         0          0         0   \n",
       "3     1       0           0            1         0          0         0   \n",
       "4     1       0           0            1         0          0         0   \n",
       "\n",
       "   Right Arm  Head & Neck  tbp_lv_area_perim_ratio  ...  tbp_lv_Bext  \\\n",
       "0          0            0                 0.218652  ...     0.376069   \n",
       "1          0            1                 0.019278  ...     0.391260   \n",
       "2          0            0                 0.175593  ...     0.619598   \n",
       "3          0            0                 0.053995  ...     0.303669   \n",
       "4          0            0                 0.119577  ...     0.420931   \n",
       "\n",
       "   tbp_lv_z  tbp_lv_Aext  tbp_lv_Hext  tbp_lv_perimeterMM  tbp_lv_x  tbp_lv_B  \\\n",
       "0  0.408087     0.549700     0.267121            0.067335  0.356776  0.502444   \n",
       "1  0.571023     0.747149     0.152394            0.007756  0.504132  0.491697   \n",
       "2  0.858501     0.568489     0.336171            0.063125  0.603966  0.703178   \n",
       "3  0.572962     0.460827     0.308385            0.069412  0.390405  0.402979   \n",
       "4  0.512548     0.632028     0.230185            0.038916  0.445845  0.494130   \n",
       "\n",
       "   tbp_lv_H  age_approx  tbp_lv_symm_2axis  \n",
       "0  0.508448      0.6875           0.582086  \n",
       "1  0.384152      0.6875           0.252621  \n",
       "2  0.566217      0.6875           0.334987  \n",
       "3  0.539680      0.7500           0.170317  \n",
       "4  0.451561      0.6250           0.282586  \n",
       "\n",
       "[5 rows x 43 columns]"
      ]
     },
     "execution_count": 79,
     "metadata": {},
     "output_type": "execute_result"
    }
   ],
   "source": [
    "clean = pd.concat([one_hot_combined, numerical], axis=1)\n",
    "clean.head()"
   ]
  },
  {
   "cell_type": "code",
   "execution_count": 80,
   "metadata": {},
   "outputs": [
    {
     "data": {
      "text/plain": [
       "Index(['Male', 'Female', 'Torso Back', 'Torso Front', 'Left Leg', 'Right Leg',\n",
       "       'Left Arm', 'Right Arm', 'Head & Neck', 'tbp_lv_area_perim_ratio',\n",
       "       'tbp_lv_deltaA', 'tbp_lv_stdLExt', 'tbp_lv_L', 'tbp_lv_y',\n",
       "       'tbp_lv_minorAxisMM', 'tbp_lv_deltaB', 'tbp_lv_symm_2axis_angle',\n",
       "       'tbp_lv_deltaL', 'tbp_lv_color_std_mean', 'tbp_lv_eccentricity',\n",
       "       'tbp_lv_radial_color_std_max', 'tbp_lv_stdL', 'tbp_lv_norm_color',\n",
       "       'tbp_lv_norm_border', 'tbp_lv_deltaLBnorm', 'tbp_lv_nevi_confidence',\n",
       "       'tbp_lv_C', 'tbp_lv_deltaLB', 'tbp_lv_areaMM2', 'tbp_lv_Lext',\n",
       "       'tbp_lv_Cext', 'tbp_lv_A', 'clin_size_long_diam_mm', 'tbp_lv_Bext',\n",
       "       'tbp_lv_z', 'tbp_lv_Aext', 'tbp_lv_Hext', 'tbp_lv_perimeterMM',\n",
       "       'tbp_lv_x', 'tbp_lv_B', 'tbp_lv_H', 'age_approx', 'tbp_lv_symm_2axis'],\n",
       "      dtype='object')"
      ]
     },
     "execution_count": 80,
     "metadata": {},
     "output_type": "execute_result"
    }
   ],
   "source": [
    "clean.columns"
   ]
  },
  {
   "cell_type": "markdown",
   "metadata": {},
   "source": [
    "Save the clean data"
   ]
  },
  {
   "cell_type": "code",
   "execution_count": 81,
   "metadata": {},
   "outputs": [],
   "source": [
    "# clean.to_csv(\"../../../clean_train-metadata.csv\", index=False)"
   ]
  },
  {
   "cell_type": "code",
   "execution_count": 82,
   "metadata": {},
   "outputs": [],
   "source": [
    "y = y[clean.index]"
   ]
  },
  {
   "cell_type": "code",
   "execution_count": 83,
   "metadata": {},
   "outputs": [],
   "source": [
    "import xgboost as xgb\n",
    "from sklearn.model_selection import train_test_split\n",
    "\n",
    "# 60, 20, 20 - train, test, validation\n",
    "X_train, X_test, y_train, y_test = train_test_split(clean, y, test_size=0.2,random_state=42)"
   ]
  },
  {
   "cell_type": "code",
   "execution_count": 84,
   "metadata": {},
   "outputs": [],
   "source": [
    "num_parallel_tree = 4\n",
    "num_boost_round = 16\n",
    "# total number of built trees is num_parallel_tree * num_classes * num_boost_round\n",
    "\n",
    "dtrain = xgb.DMatrix(data=X_train, label=y_train)\n",
    "booster = xgb.train({\n",
    "    'num_parallel_tree': 4, 'subsample': 0.5, 'num_class': 3},\n",
    "                    num_boost_round=num_boost_round, dtrain=dtrain)"
   ]
  },
  {
   "cell_type": "code",
   "execution_count": 85,
   "metadata": {},
   "outputs": [],
   "source": [
    "dtest = xgb.DMatrix(X_test)\n",
    "y_pred = booster.predict(dtest)\n",
    "y_test = y_test.to_numpy()"
   ]
  },
  {
   "cell_type": "code",
   "execution_count": 86,
   "metadata": {},
   "outputs": [
    {
     "data": {
      "text/plain": [
       "np.float64(0.9990207525140296)"
      ]
     },
     "execution_count": 86,
     "metadata": {},
     "output_type": "execute_result"
    }
   ],
   "source": [
    "np.mean(y_pred == y_test)"
   ]
  },
  {
   "cell_type": "code",
   "execution_count": 87,
   "metadata": {},
   "outputs": [
    {
     "data": {
      "image/png": "[encoded data removed]",
      "text/plain": [
       "<Figure size 640x480 with 2 Axes>"
      ]
     },
     "metadata": {},
     "output_type": "display_data"
    }
   ],
   "source": [
    "#plot confusion matrix\n",
    "from sklearn.metrics import confusion_matrix\n",
    "import seaborn as sns\n",
    "import matplotlib.pyplot as plt\n",
    "\n",
    "matrix = confusion_matrix(y_test, y_pred)\n",
    "labels = np.unique(y_pred + y_test)\n",
    "sns.heatmap(matrix, annot=True, fmt=\"d\", xticklabels=labels, yticklabels=labels, cmap=\"Blues\")\n",
    "plt.xlabel(\"Predicted labels\")\n",
    "plt.ylabel(\"True labels\")\n",
    "plt.title(\"Confusion Matrix\")\n",
    "plt.show()"
   ]
  },
  {
   "cell_type": "code",
   "execution_count": 88,
   "metadata": {},
   "outputs": [
    {
     "data": {
      "text/plain": [
       "0         0\n",
       "1         0\n",
       "2         0\n",
       "3         0\n",
       "4         0\n",
       "         ..\n",
       "401054    0\n",
       "401055    0\n",
       "401056    0\n",
       "401057    0\n",
       "401058    0\n",
       "Name: target, Length: 398261, dtype: int64"
      ]
     },
     "execution_count": 88,
     "metadata": {},
     "output_type": "execute_result"
    }
   ],
   "source": [
    "y"
   ]
  },
  {
   "cell_type": "code",
   "execution_count": 89,
   "metadata": {},
   "outputs": [
    {
     "data": {
      "text/html": [
       "<div>\n",
       "<style scoped>\n",
       "    .dataframe tbody tr th:only-of-type {\n",
       "        vertical-align: middle;\n",
       "    }\n",
       "\n",
       "    .dataframe tbody tr th {\n",
       "        vertical-align: top;\n",
       "    }\n",
       "\n",
       "    .dataframe thead th {\n",
       "        text-align: right;\n",
       "    }\n",
       "</style>\n",
       "<table border=\"1\" class=\"dataframe\">\n",
       "  <thead>\n",
       "    <tr style=\"text-align: right;\">\n",
       "      <th></th>\n",
       "      <th>Male</th>\n",
       "      <th>Female</th>\n",
       "      <th>Torso Back</th>\n",
       "      <th>Torso Front</th>\n",
       "      <th>Left Leg</th>\n",
       "      <th>Right Leg</th>\n",
       "      <th>Left Arm</th>\n",
       "      <th>Right Arm</th>\n",
       "      <th>Head &amp; Neck</th>\n",
       "      <th>tbp_lv_area_perim_ratio</th>\n",
       "      <th>...</th>\n",
       "      <th>tbp_lv_z</th>\n",
       "      <th>tbp_lv_Aext</th>\n",
       "      <th>tbp_lv_Hext</th>\n",
       "      <th>tbp_lv_perimeterMM</th>\n",
       "      <th>tbp_lv_x</th>\n",
       "      <th>tbp_lv_B</th>\n",
       "      <th>tbp_lv_H</th>\n",
       "      <th>age_approx</th>\n",
       "      <th>tbp_lv_symm_2axis</th>\n",
       "      <th>target</th>\n",
       "    </tr>\n",
       "  </thead>\n",
       "  <tbody>\n",
       "    <tr>\n",
       "      <th>0</th>\n",
       "      <td>1</td>\n",
       "      <td>0</td>\n",
       "      <td>0</td>\n",
       "      <td>0</td>\n",
       "      <td>0</td>\n",
       "      <td>1</td>\n",
       "      <td>0</td>\n",
       "      <td>0</td>\n",
       "      <td>0</td>\n",
       "      <td>0.218652</td>\n",
       "      <td>...</td>\n",
       "      <td>0.408087</td>\n",
       "      <td>0.549700</td>\n",
       "      <td>0.267121</td>\n",
       "      <td>0.067335</td>\n",
       "      <td>0.356776</td>\n",
       "      <td>0.502444</td>\n",
       "      <td>0.508448</td>\n",
       "      <td>0.6875</td>\n",
       "      <td>0.582086</td>\n",
       "      <td>0</td>\n",
       "    </tr>\n",
       "    <tr>\n",
       "      <th>1</th>\n",
       "      <td>1</td>\n",
       "      <td>0</td>\n",
       "      <td>0</td>\n",
       "      <td>0</td>\n",
       "      <td>0</td>\n",
       "      <td>0</td>\n",
       "      <td>0</td>\n",
       "      <td>0</td>\n",
       "      <td>1</td>\n",
       "      <td>0.019278</td>\n",
       "      <td>...</td>\n",
       "      <td>0.571023</td>\n",
       "      <td>0.747149</td>\n",
       "      <td>0.152394</td>\n",
       "      <td>0.007756</td>\n",
       "      <td>0.504132</td>\n",
       "      <td>0.491697</td>\n",
       "      <td>0.384152</td>\n",
       "      <td>0.6875</td>\n",
       "      <td>0.252621</td>\n",
       "      <td>0</td>\n",
       "    </tr>\n",
       "    <tr>\n",
       "      <th>2</th>\n",
       "      <td>1</td>\n",
       "      <td>0</td>\n",
       "      <td>1</td>\n",
       "      <td>0</td>\n",
       "      <td>0</td>\n",
       "      <td>0</td>\n",
       "      <td>0</td>\n",
       "      <td>0</td>\n",
       "      <td>0</td>\n",
       "      <td>0.175593</td>\n",
       "      <td>...</td>\n",
       "      <td>0.858501</td>\n",
       "      <td>0.568489</td>\n",
       "      <td>0.336171</td>\n",
       "      <td>0.063125</td>\n",
       "      <td>0.603966</td>\n",
       "      <td>0.703178</td>\n",
       "      <td>0.566217</td>\n",
       "      <td>0.6875</td>\n",
       "      <td>0.334987</td>\n",
       "      <td>0</td>\n",
       "    </tr>\n",
       "    <tr>\n",
       "      <th>3</th>\n",
       "      <td>1</td>\n",
       "      <td>0</td>\n",
       "      <td>0</td>\n",
       "      <td>1</td>\n",
       "      <td>0</td>\n",
       "      <td>0</td>\n",
       "      <td>0</td>\n",
       "      <td>0</td>\n",
       "      <td>0</td>\n",
       "      <td>0.053995</td>\n",
       "      <td>...</td>\n",
       "      <td>0.572962</td>\n",
       "      <td>0.460827</td>\n",
       "      <td>0.308385</td>\n",
       "      <td>0.069412</td>\n",
       "      <td>0.390405</td>\n",
       "      <td>0.402979</td>\n",
       "      <td>0.539680</td>\n",
       "      <td>0.7500</td>\n",
       "      <td>0.170317</td>\n",
       "      <td>0</td>\n",
       "    </tr>\n",
       "    <tr>\n",
       "      <th>4</th>\n",
       "      <td>1</td>\n",
       "      <td>0</td>\n",
       "      <td>0</td>\n",
       "      <td>1</td>\n",
       "      <td>0</td>\n",
       "      <td>0</td>\n",
       "      <td>0</td>\n",
       "      <td>0</td>\n",
       "      <td>0</td>\n",
       "      <td>0.119577</td>\n",
       "      <td>...</td>\n",
       "      <td>0.512548</td>\n",
       "      <td>0.632028</td>\n",
       "      <td>0.230185</td>\n",
       "      <td>0.038916</td>\n",
       "      <td>0.445845</td>\n",
       "      <td>0.494130</td>\n",
       "      <td>0.451561</td>\n",
       "      <td>0.6250</td>\n",
       "      <td>0.282586</td>\n",
       "      <td>0</td>\n",
       "    </tr>\n",
       "  </tbody>\n",
       "</table>\n",
       "<p>5 rows × 44 columns</p>\n",
       "</div>"
      ],
      "text/plain": [
       "   Male  Female  Torso Back  Torso Front  Left Leg  Right Leg  Left Arm  \\\n",
       "0     1       0           0            0         0          1         0   \n",
       "1     1       0           0            0         0          0         0   \n",
       "2     1       0           1            0         0          0         0   \n",
       "3     1       0           0            1         0          0         0   \n",
       "4     1       0           0            1         0          0         0   \n",
       "\n",
       "   Right Arm  Head & Neck  tbp_lv_area_perim_ratio  ...  tbp_lv_z  \\\n",
       "0          0            0                 0.218652  ...  0.408087   \n",
       "1          0            1                 0.019278  ...  0.571023   \n",
       "2          0            0                 0.175593  ...  0.858501   \n",
       "3          0            0                 0.053995  ...  0.572962   \n",
       "4          0            0                 0.119577  ...  0.512548   \n",
       "\n",
       "   tbp_lv_Aext  tbp_lv_Hext  tbp_lv_perimeterMM  tbp_lv_x  tbp_lv_B  tbp_lv_H  \\\n",
       "0     0.549700     0.267121            0.067335  0.356776  0.502444  0.508448   \n",
       "1     0.747149     0.152394            0.007756  0.504132  0.491697  0.384152   \n",
       "2     0.568489     0.336171            0.063125  0.603966  0.703178  0.566217   \n",
       "3     0.460827     0.308385            0.069412  0.390405  0.402979  0.539680   \n",
       "4     0.632028     0.230185            0.038916  0.445845  0.494130  0.451561   \n",
       "\n",
       "   age_approx  tbp_lv_symm_2axis  target  \n",
       "0      0.6875           0.582086       0  \n",
       "1      0.6875           0.252621       0  \n",
       "2      0.6875           0.334987       0  \n",
       "3      0.7500           0.170317       0  \n",
       "4      0.6250           0.282586       0  \n",
       "\n",
       "[5 rows x 44 columns]"
      ]
     },
     "execution_count": 89,
     "metadata": {},
     "output_type": "execute_result"
    }
   ],
   "source": [
    "df = pd.concat([clean, y], axis=1)\n",
    "df.head()"
   ]
  },
  {
   "cell_type": "code",
   "execution_count": 90,
   "metadata": {},
   "outputs": [
    {
     "name": "stdout",
     "output_type": "stream",
     "text": [
      "Class Distribution Before Sampling (%):\n"
     ]
    },
    {
     "data": {
      "text/plain": [
       "target\n",
       "0    99.902074\n",
       "1     0.097926\n",
       "Name: proportion, dtype: float64"
      ]
     },
     "metadata": {},
     "output_type": "display_data"
    },
    {
     "name": "stdout",
     "output_type": "stream",
     "text": [
      "\n",
      "Class Distribution After Sampling (%):\n"
     ]
    },
    {
     "data": {
      "text/plain": [
       "target\n",
       "0    67.110811\n",
       "1    32.889189\n",
       "Name: proportion, dtype: float64"
      ]
     },
     "metadata": {},
     "output_type": "display_data"
    },
    {
     "name": "stdout",
     "output_type": "stream",
     "text": [
      "Class Weights: {0: np.float64(0.7450364413169138), 1: np.float64(1.5202564102564102)}\n"
     ]
    }
   ],
   "source": [
    "from sklearn.utils.class_weight import compute_class_weight\n",
    "#Handle Class Imbalance\n",
    "print(\"Class Distribution Before Sampling (%):\")\n",
    "display(df.target.value_counts(normalize=True)*100)\n",
    "seed = 1\n",
    "neg_sample = .01\n",
    "pos_sample = 5.0\n",
    "# Sampling\n",
    "positive_df = df.query(\"target==0\").sample(frac=neg_sample, random_state=seed)\n",
    "negative_df = df.query(\"target==1\").sample(frac=pos_sample, replace=True, random_state=seed)\n",
    "df = pd.concat([positive_df, negative_df], axis=0).sample(frac=1.0)\n",
    "\n",
    "print(\"\\nClass Distribution After Sampling (%):\")\n",
    "display(df.target.value_counts(normalize=True)*100)\n",
    "\n",
    "# Assume df is your DataFrame and 'target' is the column with class labels\n",
    "class_weights = compute_class_weight('balanced', classes=np.unique(df['target']), y=df['target'])\n",
    "class_weights = dict(enumerate(class_weights))\n",
    "print(\"Class Weights:\", class_weights)"
   ]
  },
  {
   "cell_type": "code",
   "execution_count": 91,
   "metadata": {},
   "outputs": [],
   "source": [
    "x = df.drop(\"target\", axis=1)\n",
    "y = df[\"target\"]"
   ]
  },
  {
   "cell_type": "code",
   "execution_count": 92,
   "metadata": {},
   "outputs": [],
   "source": [
    "X_train, X_test, y_train, y_test = train_test_split(x, y, test_size=0.2,random_state=42)"
   ]
  },
  {
   "cell_type": "code",
   "execution_count": 93,
   "metadata": {},
   "outputs": [],
   "source": [
    "num_parallel_tree = 4\n",
    "num_boost_round = 16\n",
    "# total number of built trees is num_parallel_tree * num_classes * num_boost_round\n",
    "\n",
    "dtrain = xgb.DMatrix(data=X_train, label=y_train)\n",
    "booster = xgb.train({\n",
    "    'num_parallel_tree': 4, 'subsample': 0.5, 'num_class': 3},\n",
    "                    num_boost_round=num_boost_round, dtrain=dtrain)"
   ]
  },
  {
   "cell_type": "code",
   "execution_count": 94,
   "metadata": {},
   "outputs": [],
   "source": [
    "dtest = xgb.DMatrix(X_test)\n",
    "y_pred = booster.predict(dtest)\n",
    "y_test = y_test.to_numpy()"
   ]
  },
  {
   "cell_type": "code",
   "execution_count": 95,
   "metadata": {},
   "outputs": [
    {
     "data": {
      "text/plain": [
       "np.float64(0.9662731871838112)"
      ]
     },
     "execution_count": 95,
     "metadata": {},
     "output_type": "execute_result"
    }
   ],
   "source": [
    "np.mean(y_pred == y_test)"
   ]
  },
  {
   "cell_type": "code",
   "execution_count": 96,
   "metadata": {},
   "outputs": [
    {
     "data": {
      "image/png": "[encoded data removed]",
      "text/plain": [
       "<Figure size 640x480 with 2 Axes>"
      ]
     },
     "metadata": {},
     "output_type": "display_data"
    }
   ],
   "source": [
    "matrix = confusion_matrix(y_test, y_pred)\n",
    "labels = np.unique(y_pred + y_test)\n",
    "sns.heatmap(matrix, annot=True, fmt=\"d\", xticklabels=labels, yticklabels=labels, cmap=\"Blues\")\n",
    "plt.xlabel(\"Predicted labels\")\n",
    "plt.ylabel(\"True labels\")\n",
    "plt.title(\"Confusion Matrix\")\n",
    "plt.show()"
   ]
  }
 ],
 "metadata": {
  "kernelspec": {
   "display_name": "Python 3",
   "language": "python",
   "name": "python3"
  },
  "language_info": {
   "codemirror_mode": {
    "name": "ipython",
    "version": 3
   },
   "file_extension": ".py",
   "mimetype": "text/x-python",
   "name": "python",
   "nbconvert_exporter": "python",
   "pygments_lexer": "ipython3",
   "version": "3.12.5"
  }
 },
 "nbformat": 4,
 "nbformat_minor": 2
}
