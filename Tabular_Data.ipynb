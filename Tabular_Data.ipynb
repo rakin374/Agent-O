{
 "cells": [
  {
   "cell_type": "code",
   "execution_count": 1,
   "metadata": {},
   "outputs": [],
   "source": [
    "import numpy as np\n",
    "import pandas as pd\n",
    "import os\n",
    "from sklearn.utils.class_weight import compute_class_weight"
   ]
  },
  {
   "cell_type": "code",
   "execution_count": 2,
   "metadata": {},
   "outputs": [],
   "source": [
    "train = pd.read_csv('train_metadata.csv')\n",
    "test = pd.read_csv('test_metadata.csv')"
   ]
  },
  {
   "cell_type": "code",
   "execution_count": 3,
   "metadata": {},
   "outputs": [
    {
     "name": "stdout",
     "output_type": "stream",
     "text": [
      "<class 'pandas.core.frame.DataFrame'>\n",
      "RangeIndex: 320847 entries, 0 to 320846\n",
      "Data columns (total 41 columns):\n",
      " #   Column                       Non-Null Count   Dtype  \n",
      "---  ------                       --------------   -----  \n",
      " 0   id                           320847 non-null  int64  \n",
      " 1   target                       320847 non-null  int64  \n",
      " 2   age_approx                   318620 non-null  float64\n",
      " 3   sex                          311621 non-null  object \n",
      " 4   anatom_site_general          316242 non-null  object \n",
      " 5   clin_size_long_diam_mm       320847 non-null  float64\n",
      " 6   tbp_tile_type                320847 non-null  object \n",
      " 7   tbp_lv_A                     320847 non-null  float64\n",
      " 8   tbp_lv_Aext                  320847 non-null  float64\n",
      " 9   tbp_lv_B                     320847 non-null  float64\n",
      " 10  tbp_lv_Bext                  320847 non-null  float64\n",
      " 11  tbp_lv_C                     320847 non-null  float64\n",
      " 12  tbp_lv_Cext                  320847 non-null  float64\n",
      " 13  tbp_lv_H                     320847 non-null  float64\n",
      " 14  tbp_lv_Hext                  320847 non-null  float64\n",
      " 15  tbp_lv_L                     320847 non-null  float64\n",
      " 16  tbp_lv_Lext                  320847 non-null  float64\n",
      " 17  tbp_lv_areaMM2               320847 non-null  float64\n",
      " 18  tbp_lv_area_perim_ratio      320847 non-null  float64\n",
      " 19  tbp_lv_color_std_mean        320847 non-null  float64\n",
      " 20  tbp_lv_deltaA                320847 non-null  float64\n",
      " 21  tbp_lv_deltaB                320847 non-null  float64\n",
      " 22  tbp_lv_deltaL                320847 non-null  float64\n",
      " 23  tbp_lv_deltaLB               320847 non-null  float64\n",
      " 24  tbp_lv_deltaLBnorm           320847 non-null  float64\n",
      " 25  tbp_lv_eccentricity          320847 non-null  float64\n",
      " 26  tbp_lv_location              320847 non-null  object \n",
      " 27  tbp_lv_location_simple       320847 non-null  object \n",
      " 28  tbp_lv_minorAxisMM           320847 non-null  float64\n",
      " 29  tbp_lv_nevi_confidence       320847 non-null  float64\n",
      " 30  tbp_lv_norm_border           320847 non-null  float64\n",
      " 31  tbp_lv_norm_color            320847 non-null  float64\n",
      " 32  tbp_lv_perimeterMM           320847 non-null  float64\n",
      " 33  tbp_lv_radial_color_std_max  320847 non-null  float64\n",
      " 34  tbp_lv_stdL                  320847 non-null  float64\n",
      " 35  tbp_lv_stdLExt               320847 non-null  float64\n",
      " 36  tbp_lv_symm_2axis            320847 non-null  float64\n",
      " 37  tbp_lv_symm_2axis_angle      320847 non-null  int64  \n",
      " 38  tbp_lv_x                     320847 non-null  float64\n",
      " 39  tbp_lv_y                     320847 non-null  float64\n",
      " 40  tbp_lv_z                     320847 non-null  float64\n",
      "dtypes: float64(33), int64(3), object(5)\n",
      "memory usage: 100.4+ MB\n",
      "None\n"
     ]
    }
   ],
   "source": [
    "print(train.info())"
   ]
  },
  {
   "cell_type": "code",
   "execution_count": 4,
   "metadata": {},
   "outputs": [
    {
     "name": "stdout",
     "output_type": "stream",
     "text": [
      "<class 'pandas.core.frame.DataFrame'>\n",
      "RangeIndex: 80212 entries, 0 to 80211\n",
      "Data columns (total 41 columns):\n",
      " #   Column                       Non-Null Count  Dtype  \n",
      "---  ------                       --------------  -----  \n",
      " 0   id                           80212 non-null  int64  \n",
      " 1   target                       0 non-null      float64\n",
      " 2   age_approx                   79641 non-null  float64\n",
      " 3   sex                          77921 non-null  object \n",
      " 4   anatom_site_general          79061 non-null  object \n",
      " 5   clin_size_long_diam_mm       80212 non-null  float64\n",
      " 6   tbp_tile_type                80212 non-null  object \n",
      " 7   tbp_lv_A                     80212 non-null  float64\n",
      " 8   tbp_lv_Aext                  80212 non-null  float64\n",
      " 9   tbp_lv_B                     80212 non-null  float64\n",
      " 10  tbp_lv_Bext                  80212 non-null  float64\n",
      " 11  tbp_lv_C                     80212 non-null  float64\n",
      " 12  tbp_lv_Cext                  80212 non-null  float64\n",
      " 13  tbp_lv_H                     80212 non-null  float64\n",
      " 14  tbp_lv_Hext                  80212 non-null  float64\n",
      " 15  tbp_lv_L                     80212 non-null  float64\n",
      " 16  tbp_lv_Lext                  80212 non-null  float64\n",
      " 17  tbp_lv_areaMM2               80212 non-null  float64\n",
      " 18  tbp_lv_area_perim_ratio      80212 non-null  float64\n",
      " 19  tbp_lv_color_std_mean        80212 non-null  float64\n",
      " 20  tbp_lv_deltaA                80212 non-null  float64\n",
      " 21  tbp_lv_deltaB                80212 non-null  float64\n",
      " 22  tbp_lv_deltaL                80212 non-null  float64\n",
      " 23  tbp_lv_deltaLB               80212 non-null  float64\n",
      " 24  tbp_lv_deltaLBnorm           80212 non-null  float64\n",
      " 25  tbp_lv_eccentricity          80212 non-null  float64\n",
      " 26  tbp_lv_location              80212 non-null  object \n",
      " 27  tbp_lv_location_simple       80212 non-null  object \n",
      " 28  tbp_lv_minorAxisMM           80212 non-null  float64\n",
      " 29  tbp_lv_nevi_confidence       80212 non-null  float64\n",
      " 30  tbp_lv_norm_border           80212 non-null  float64\n",
      " 31  tbp_lv_norm_color            80212 non-null  float64\n",
      " 32  tbp_lv_perimeterMM           80212 non-null  float64\n",
      " 33  tbp_lv_radial_color_std_max  80212 non-null  float64\n",
      " 34  tbp_lv_stdL                  80212 non-null  float64\n",
      " 35  tbp_lv_stdLExt               80212 non-null  float64\n",
      " 36  tbp_lv_symm_2axis            80212 non-null  float64\n",
      " 37  tbp_lv_symm_2axis_angle      80212 non-null  int64  \n",
      " 38  tbp_lv_x                     80212 non-null  float64\n",
      " 39  tbp_lv_y                     80212 non-null  float64\n",
      " 40  tbp_lv_z                     80212 non-null  float64\n",
      "dtypes: float64(34), int64(2), object(5)\n",
      "memory usage: 25.1+ MB\n",
      "None\n"
     ]
    }
   ],
   "source": [
    "print(test.info())"
   ]
  },
  {
   "cell_type": "code",
   "execution_count": 5,
   "metadata": {},
   "outputs": [
    {
     "name": "stdout",
     "output_type": "stream",
     "text": [
      "Class Distribution Before Sampling (%):\n"
     ]
    },
    {
     "data": {
      "text/plain": [
       "target\n",
       "0    99.902134\n",
       "1     0.097866\n",
       "Name: proportion, dtype: float64"
      ]
     },
     "metadata": {},
     "output_type": "display_data"
    }
   ],
   "source": [
    "#Handle Class Imbalance\n",
    "print(\"Class Distribution Before Sampling (%):\")\n",
    "display(train.target.value_counts(normalize=True)*100)\n",
    "\n"
   ]
  },
  {
   "cell_type": "code",
   "execution_count": 6,
   "metadata": {},
   "outputs": [
    {
     "name": "stdout",
     "output_type": "stream",
     "text": [
      "\n",
      "Class Distribution After Sampling (%):\n"
     ]
    },
    {
     "data": {
      "text/plain": [
       "target\n",
       "0    67.120419\n",
       "1    32.879581\n",
       "Name: proportion, dtype: float64"
      ]
     },
     "metadata": {},
     "output_type": "display_data"
    },
    {
     "name": "stdout",
     "output_type": "stream",
     "text": [
      "Class Weights: {0: np.float64(0.7449297971918877), 1: np.float64(1.5207006369426752)}\n"
     ]
    }
   ],
   "source": [
    "seed = 1 # controllable randomness\n",
    "neg_sample = .01  \n",
    "pos_sample = 5.0\n",
    "\n",
    "# Sampling\n",
    "positive_df = train.query(\"target==0\").sample(frac=neg_sample, random_state=seed)\n",
    "negative_df = train.query(\"target==1\").sample(frac=pos_sample, replace=True, random_state=seed)\n",
    "df = pd.concat([positive_df, negative_df], axis=0).sample(frac=1.0)\n",
    "\n",
    "print(\"\\nClass Distribution After Sampling (%):\")\n",
    "display(df.target.value_counts(normalize=True)*100)\n",
    "\n",
    "# Assume df is your DataFrame and 'target' is the column with class labels\n",
    "class_weights = compute_class_weight('balanced', classes=np.unique(df['target']), y=df['target'])\n",
    "class_weights = dict(enumerate(class_weights))\n",
    "print(\"Class Weights:\", class_weights)"
   ]
  },
  {
   "cell_type": "code",
   "execution_count": 7,
   "metadata": {},
   "outputs": [
    {
     "name": "stdout",
     "output_type": "stream",
     "text": [
      "<class 'pandas.core.frame.DataFrame'>\n",
      "Index: 4775 entries, 58910 to 217877\n",
      "Data columns (total 41 columns):\n",
      " #   Column                       Non-Null Count  Dtype  \n",
      "---  ------                       --------------  -----  \n",
      " 0   id                           4775 non-null   int64  \n",
      " 1   target                       4775 non-null   int64  \n",
      " 2   age_approx                   4749 non-null   float64\n",
      " 3   sex                          4637 non-null   object \n",
      " 4   anatom_site_general          4721 non-null   object \n",
      " 5   clin_size_long_diam_mm       4775 non-null   float64\n",
      " 6   tbp_tile_type                4775 non-null   object \n",
      " 7   tbp_lv_A                     4775 non-null   float64\n",
      " 8   tbp_lv_Aext                  4775 non-null   float64\n",
      " 9   tbp_lv_B                     4775 non-null   float64\n",
      " 10  tbp_lv_Bext                  4775 non-null   float64\n",
      " 11  tbp_lv_C                     4775 non-null   float64\n",
      " 12  tbp_lv_Cext                  4775 non-null   float64\n",
      " 13  tbp_lv_H                     4775 non-null   float64\n",
      " 14  tbp_lv_Hext                  4775 non-null   float64\n",
      " 15  tbp_lv_L                     4775 non-null   float64\n",
      " 16  tbp_lv_Lext                  4775 non-null   float64\n",
      " 17  tbp_lv_areaMM2               4775 non-null   float64\n",
      " 18  tbp_lv_area_perim_ratio      4775 non-null   float64\n",
      " 19  tbp_lv_color_std_mean        4775 non-null   float64\n",
      " 20  tbp_lv_deltaA                4775 non-null   float64\n",
      " 21  tbp_lv_deltaB                4775 non-null   float64\n",
      " 22  tbp_lv_deltaL                4775 non-null   float64\n",
      " 23  tbp_lv_deltaLB               4775 non-null   float64\n",
      " 24  tbp_lv_deltaLBnorm           4775 non-null   float64\n",
      " 25  tbp_lv_eccentricity          4775 non-null   float64\n",
      " 26  tbp_lv_location              4775 non-null   object \n",
      " 27  tbp_lv_location_simple       4775 non-null   object \n",
      " 28  tbp_lv_minorAxisMM           4775 non-null   float64\n",
      " 29  tbp_lv_nevi_confidence       4775 non-null   float64\n",
      " 30  tbp_lv_norm_border           4775 non-null   float64\n",
      " 31  tbp_lv_norm_color            4775 non-null   float64\n",
      " 32  tbp_lv_perimeterMM           4775 non-null   float64\n",
      " 33  tbp_lv_radial_color_std_max  4775 non-null   float64\n",
      " 34  tbp_lv_stdL                  4775 non-null   float64\n",
      " 35  tbp_lv_stdLExt               4775 non-null   float64\n",
      " 36  tbp_lv_symm_2axis            4775 non-null   float64\n",
      " 37  tbp_lv_symm_2axis_angle      4775 non-null   int64  \n",
      " 38  tbp_lv_x                     4775 non-null   float64\n",
      " 39  tbp_lv_y                     4775 non-null   float64\n",
      " 40  tbp_lv_z                     4775 non-null   float64\n",
      "dtypes: float64(33), int64(3), object(5)\n",
      "memory usage: 1.5+ MB\n",
      "None\n"
     ]
    }
   ],
   "source": [
    "print(df.info())"
   ]
  },
  {
   "cell_type": "code",
   "execution_count": 8,
   "metadata": {},
   "outputs": [],
   "source": [
    "from sklearn.model_selection import StratifiedGroupKFold\n",
    "\n",
    "#training_validation_hdf5 = h5py.File(f\"{BASE_PATH}/train-image.hdf5\", 'r') # this is gone now since we have a bunch of images\n",
    "\n",
    "# Reset index to ensure a continuous index\n",
    "df = df.reset_index(drop=True)\n",
    "df[\"fold\"] = -1\n",
    "\n",
    "# Set up the StratifiedGroupKFold with 4 splits\n",
    "sgkf = StratifiedGroupKFold(n_splits=5, shuffle=True, random_state=1)\n",
    "for i, (training_idx, validation_idx) in enumerate(sgkf.split(df, y=df.target, groups=df.id)):\n",
    "    df.loc[validation_idx, \"fold\"] = int(i)\n",
    "\n",
    "\n",
    "df.to_csv(\"folds.csv\", index=False)\n"
   ]
  },
  {
   "cell_type": "code",
   "execution_count": 9,
   "metadata": {},
   "outputs": [],
   "source": [
    "#print id column in df to csv\n",
    "df['id'].to_csv('id.csv', index=False)\n"
   ]
  },
  {
   "cell_type": "code",
   "execution_count": 10,
   "metadata": {
    "scrolled": true
   },
   "outputs": [
    {
     "data": {
      "text/plain": [
       "(4775, 42)"
      ]
     },
     "execution_count": 10,
     "metadata": {},
     "output_type": "execute_result"
    }
   ],
   "source": [
    "df.shape"
   ]
  },
  {
   "cell_type": "code",
   "execution_count": 11,
   "metadata": {},
   "outputs": [],
   "source": [
    "y = df[\"target\"]"
   ]
  },
  {
   "cell_type": "code",
   "execution_count": 12,
   "metadata": {},
   "outputs": [
    {
     "data": {
      "text/plain": [
       "(80212, 41)"
      ]
     },
     "execution_count": 12,
     "metadata": {},
     "output_type": "execute_result"
    }
   ],
   "source": [
    "test.shape"
   ]
  },
  {
   "cell_type": "markdown",
   "metadata": {},
   "source": [
    "Test has fewer columns than train - only use the intersection so that we can apply to test data <br>"
   ]
  },
  {
   "cell_type": "code",
   "execution_count": 13,
   "metadata": {},
   "outputs": [
    {
     "data": {
      "text/plain": [
       "41"
      ]
     },
     "execution_count": 13,
     "metadata": {},
     "output_type": "execute_result"
    }
   ],
   "source": [
    "shared_cols = set(df.columns).intersection(set(test.columns))\n",
    "len(shared_cols)"
   ]
  },
  {
   "cell_type": "markdown",
   "metadata": {},
   "source": [
    "Use second line in the next cell if you want to use all columns instead."
   ]
  },
  {
   "cell_type": "code",
   "execution_count": 14,
   "metadata": {},
   "outputs": [
    {
     "data": {
      "text/plain": [
       "(4775, 41)"
      ]
     },
     "execution_count": 14,
     "metadata": {},
     "output_type": "execute_result"
    }
   ],
   "source": [
    "# train_trim = train[list(shared_cols)]\n",
    "train_trim = df.drop(\"target\", axis=1)\n",
    "train_trim.shape"
   ]
  },
  {
   "cell_type": "markdown",
   "metadata": {},
   "source": [
    "String columns"
   ]
  },
  {
   "cell_type": "code",
   "execution_count": 15,
   "metadata": {},
   "outputs": [
    {
     "data": {
      "text/plain": [
       "5"
      ]
     },
     "execution_count": 15,
     "metadata": {},
     "output_type": "execute_result"
    }
   ],
   "source": [
    "len(train_trim.select_dtypes(include=\"object\").columns)"
   ]
  },
  {
   "cell_type": "markdown",
   "metadata": {},
   "source": [
    "Number columns"
   ]
  },
  {
   "cell_type": "code",
   "execution_count": 16,
   "metadata": {},
   "outputs": [
    {
     "data": {
      "text/plain": [
       "36"
      ]
     },
     "execution_count": 16,
     "metadata": {},
     "output_type": "execute_result"
    }
   ],
   "source": [
    "len(train_trim.select_dtypes(include=\"number\").columns)"
   ]
  },
  {
   "cell_type": "markdown",
   "metadata": {},
   "source": [
    "Null checking"
   ]
  },
  {
   "cell_type": "code",
   "execution_count": 17,
   "metadata": {},
   "outputs": [
    {
     "data": {
      "text/plain": [
       "id                        0.000000\n",
       "age_approx                0.544503\n",
       "sex                       2.890052\n",
       "anatom_site_general       1.130890\n",
       "clin_size_long_diam_mm    0.000000\n",
       "dtype: float64"
      ]
     },
     "execution_count": 17,
     "metadata": {},
     "output_type": "execute_result"
    }
   ],
   "source": [
    "nulls = train_trim.apply(lambda col: col.isnull().sum() / col.size * 100)\n",
    "nulls.head()"
   ]
  },
  {
   "cell_type": "markdown",
   "metadata": {},
   "source": [
    "Columns with nulls"
   ]
  },
  {
   "cell_type": "code",
   "execution_count": 18,
   "metadata": {},
   "outputs": [
    {
     "data": {
      "text/plain": [
       "age_approx             0.544503\n",
       "sex                    2.890052\n",
       "anatom_site_general    1.130890\n",
       "dtype: float64"
      ]
     },
     "execution_count": 18,
     "metadata": {},
     "output_type": "execute_result"
    }
   ],
   "source": [
    "nulls[nulls > 0]"
   ]
  },
  {
   "cell_type": "markdown",
   "metadata": {},
   "source": [
    "Coalescing rows with no age. Sex handled later, anatom_site_general not used."
   ]
  },
  {
   "cell_type": "code",
   "execution_count": 19,
   "metadata": {},
   "outputs": [],
   "source": [
    "#coalsece the nulls with the mean\n",
    "train_trim[\"age_approx\"] = train_trim[\"age_approx\"].fillna(train_trim[\"age_approx\"].mean())"
   ]
  },
  {
   "cell_type": "markdown",
   "metadata": {},
   "source": [
    "Extract string columns"
   ]
  },
  {
   "cell_type": "code",
   "execution_count": 20,
   "metadata": {},
   "outputs": [
    {
     "data": {
      "text/html": [
       "<div>\n",
       "<style scoped>\n",
       "    .dataframe tbody tr th:only-of-type {\n",
       "        vertical-align: middle;\n",
       "    }\n",
       "\n",
       "    .dataframe tbody tr th {\n",
       "        vertical-align: top;\n",
       "    }\n",
       "\n",
       "    .dataframe thead th {\n",
       "        text-align: right;\n",
       "    }\n",
       "</style>\n",
       "<table border=\"1\" class=\"dataframe\">\n",
       "  <thead>\n",
       "    <tr style=\"text-align: right;\">\n",
       "      <th></th>\n",
       "      <th>sex</th>\n",
       "      <th>anatom_site_general</th>\n",
       "      <th>tbp_tile_type</th>\n",
       "      <th>tbp_lv_location</th>\n",
       "      <th>tbp_lv_location_simple</th>\n",
       "    </tr>\n",
       "  </thead>\n",
       "  <tbody>\n",
       "    <tr>\n",
       "      <th>0</th>\n",
       "      <td>male</td>\n",
       "      <td>posterior torso</td>\n",
       "      <td>3D: XP</td>\n",
       "      <td>Torso Back Top Third</td>\n",
       "      <td>Torso Back</td>\n",
       "    </tr>\n",
       "    <tr>\n",
       "      <th>1</th>\n",
       "      <td>male</td>\n",
       "      <td>posterior torso</td>\n",
       "      <td>3D: white</td>\n",
       "      <td>Torso Back Middle Third</td>\n",
       "      <td>Torso Back</td>\n",
       "    </tr>\n",
       "    <tr>\n",
       "      <th>2</th>\n",
       "      <td>male</td>\n",
       "      <td>posterior torso</td>\n",
       "      <td>3D: white</td>\n",
       "      <td>Torso Back Top Third</td>\n",
       "      <td>Torso Back</td>\n",
       "    </tr>\n",
       "    <tr>\n",
       "      <th>3</th>\n",
       "      <td>male</td>\n",
       "      <td>head/neck</td>\n",
       "      <td>3D: white</td>\n",
       "      <td>Head &amp; Neck</td>\n",
       "      <td>Head &amp; Neck</td>\n",
       "    </tr>\n",
       "    <tr>\n",
       "      <th>4</th>\n",
       "      <td>male</td>\n",
       "      <td>upper extremity</td>\n",
       "      <td>3D: XP</td>\n",
       "      <td>Right Arm - Lower</td>\n",
       "      <td>Right Arm</td>\n",
       "    </tr>\n",
       "  </tbody>\n",
       "</table>\n",
       "</div>"
      ],
      "text/plain": [
       "    sex anatom_site_general tbp_tile_type          tbp_lv_location  \\\n",
       "0  male     posterior torso        3D: XP     Torso Back Top Third   \n",
       "1  male     posterior torso     3D: white  Torso Back Middle Third   \n",
       "2  male     posterior torso     3D: white     Torso Back Top Third   \n",
       "3  male           head/neck     3D: white              Head & Neck   \n",
       "4  male     upper extremity        3D: XP        Right Arm - Lower   \n",
       "\n",
       "  tbp_lv_location_simple  \n",
       "0             Torso Back  \n",
       "1             Torso Back  \n",
       "2             Torso Back  \n",
       "3            Head & Neck  \n",
       "4              Right Arm  "
      ]
     },
     "execution_count": 20,
     "metadata": {},
     "output_type": "execute_result"
    }
   ],
   "source": [
    "string_cols = train_trim.select_dtypes(include=\"object\")\n",
    "string_cols.head()"
   ]
  },
  {
   "cell_type": "markdown",
   "metadata": {},
   "source": [
    "Check for constant-value columns"
   ]
  },
  {
   "cell_type": "code",
   "execution_count": 21,
   "metadata": {},
   "outputs": [
    {
     "data": {
      "text/plain": [
       "sex                                                     [male, female, nan]\n",
       "anatom_site_general       [posterior torso, head/neck, upper extremity, ...\n",
       "tbp_tile_type                                           [3D: XP, 3D: white]\n",
       "tbp_lv_location           [Torso Back Top Third, Torso Back Middle Third...\n",
       "tbp_lv_location_simple    [Torso Back, Head & Neck, Right Arm, Left Leg,...\n",
       "dtype: object"
      ]
     },
     "execution_count": 21,
     "metadata": {},
     "output_type": "execute_result"
    }
   ],
   "source": [
    "string_cols.apply(lambda row: row.unique())"
   ]
  },
  {
   "cell_type": "markdown",
   "metadata": {},
   "source": [
    "Drop ID and other useless string columns"
   ]
  },
  {
   "cell_type": "code",
   "execution_count": 22,
   "metadata": {},
   "outputs": [
    {
     "data": {
      "text/plain": [
       "{'anatom_site_general', 'sex', 'tbp_lv_location', 'tbp_lv_location_simple'}"
      ]
     },
     "execution_count": 22,
     "metadata": {},
     "output_type": "execute_result"
    }
   ],
   "source": [
    "to_drop = [\"tbp_tile_type\", \"copyright_license\", \"isic_id\", \"patient_id\", \"attribution\", \"image_type\"]\n",
    "set(string_cols.columns).difference(set(to_drop))"
   ]
  },
  {
   "cell_type": "markdown",
   "metadata": {},
   "source": [
    "3 location columns, increasing specificity. Using the middle one for one-hot encoding"
   ]
  },
  {
   "cell_type": "code",
   "execution_count": 23,
   "metadata": {},
   "outputs": [
    {
     "data": {
      "text/plain": [
       "anatom_site_general\n",
       "posterior torso    1347\n",
       "lower extremity    1092\n",
       "anterior torso     1067\n",
       "upper extremity     808\n",
       "head/neck           407\n",
       "Name: count, dtype: int64"
      ]
     },
     "execution_count": 23,
     "metadata": {},
     "output_type": "execute_result"
    }
   ],
   "source": [
    "string_cols[\"anatom_site_general\"].value_counts()"
   ]
  },
  {
   "cell_type": "code",
   "execution_count": 24,
   "metadata": {},
   "outputs": [
    {
     "data": {
      "text/plain": [
       "tbp_lv_location_simple\n",
       "Torso Back     1347\n",
       "Torso Front    1067\n",
       "Left Leg        582\n",
       "Right Leg       510\n",
       "Left Arm        445\n",
       "Head & Neck     407\n",
       "Right Arm       363\n",
       "Unknown          54\n",
       "Name: count, dtype: int64"
      ]
     },
     "execution_count": 24,
     "metadata": {},
     "output_type": "execute_result"
    }
   ],
   "source": [
    "string_cols[\"tbp_lv_location_simple\"].value_counts()"
   ]
  },
  {
   "cell_type": "code",
   "execution_count": 25,
   "metadata": {},
   "outputs": [
    {
     "data": {
      "text/plain": [
       "tbp_lv_location\n",
       "Torso Front Top Half       810\n",
       "Torso Back Top Third       800\n",
       "Torso Back Middle Third    489\n",
       "Head & Neck                407\n",
       "Left Leg - Lower           294\n",
       "Right Leg - Lower          287\n",
       "Left Arm - Upper           273\n",
       "Torso Front Bottom Half    257\n",
       "Right Arm - Upper          253\n",
       "Left Leg - Upper           248\n",
       "Right Leg - Upper          202\n",
       "Left Arm - Lower           148\n",
       "Right Arm - Lower          107\n",
       "Torso Back Bottom Third     58\n",
       "Unknown                     54\n",
       "Left Leg                    40\n",
       "Left Arm                    24\n",
       "Right Leg                   21\n",
       "Right Arm                    3\n",
       "Name: count, dtype: int64"
      ]
     },
     "execution_count": 25,
     "metadata": {},
     "output_type": "execute_result"
    }
   ],
   "source": [
    "string_cols[\"tbp_lv_location\"].value_counts()"
   ]
  },
  {
   "cell_type": "markdown",
   "metadata": {},
   "source": [
    "One-hot encoding the sex column. Using a vector of length 2 here to account for the NaaNs - when the value is \"unknown\", the vector is [0, 0]. Alternatively, we could drop all NaaN rows and use a single indicator column."
   ]
  },
  {
   "cell_type": "code",
   "execution_count": 26,
   "metadata": {},
   "outputs": [],
   "source": [
    "male_indicator = string_cols[\"sex\"].apply(lambda s: int(s == \"male\" and not s == \"unknown\"))\n",
    "male_indicator.name = \"Male\"\n",
    "female_indicator = string_cols[\"sex\"].apply(lambda s: int(s == \"female\" and not s == \"unknown\"))\n",
    "female_indicator.name = \"Female\""
   ]
  },
  {
   "cell_type": "code",
   "execution_count": 27,
   "metadata": {},
   "outputs": [
    {
     "data": {
      "text/html": [
       "<div>\n",
       "<style scoped>\n",
       "    .dataframe tbody tr th:only-of-type {\n",
       "        vertical-align: middle;\n",
       "    }\n",
       "\n",
       "    .dataframe tbody tr th {\n",
       "        vertical-align: top;\n",
       "    }\n",
       "\n",
       "    .dataframe thead th {\n",
       "        text-align: right;\n",
       "    }\n",
       "</style>\n",
       "<table border=\"1\" class=\"dataframe\">\n",
       "  <thead>\n",
       "    <tr style=\"text-align: right;\">\n",
       "      <th></th>\n",
       "      <th>Male</th>\n",
       "      <th>Female</th>\n",
       "    </tr>\n",
       "  </thead>\n",
       "  <tbody>\n",
       "    <tr>\n",
       "      <th>4770</th>\n",
       "      <td>0</td>\n",
       "      <td>1</td>\n",
       "    </tr>\n",
       "    <tr>\n",
       "      <th>4771</th>\n",
       "      <td>1</td>\n",
       "      <td>0</td>\n",
       "    </tr>\n",
       "    <tr>\n",
       "      <th>4772</th>\n",
       "      <td>1</td>\n",
       "      <td>0</td>\n",
       "    </tr>\n",
       "    <tr>\n",
       "      <th>4773</th>\n",
       "      <td>1</td>\n",
       "      <td>0</td>\n",
       "    </tr>\n",
       "    <tr>\n",
       "      <th>4774</th>\n",
       "      <td>0</td>\n",
       "      <td>1</td>\n",
       "    </tr>\n",
       "  </tbody>\n",
       "</table>\n",
       "</div>"
      ],
      "text/plain": [
       "      Male  Female\n",
       "4770     0       1\n",
       "4771     1       0\n",
       "4772     1       0\n",
       "4773     1       0\n",
       "4774     0       1"
      ]
     },
     "execution_count": 27,
     "metadata": {},
     "output_type": "execute_result"
    }
   ],
   "source": [
    "numerical_sex = pd.concat([male_indicator, female_indicator], axis=1)\n",
    "numerical_sex.tail()"
   ]
  },
  {
   "cell_type": "markdown",
   "metadata": {},
   "source": [
    "One-hot encoding the location column"
   ]
  },
  {
   "cell_type": "code",
   "execution_count": 28,
   "metadata": {},
   "outputs": [
    {
     "data": {
      "text/html": [
       "<div>\n",
       "<style scoped>\n",
       "    .dataframe tbody tr th:only-of-type {\n",
       "        vertical-align: middle;\n",
       "    }\n",
       "\n",
       "    .dataframe tbody tr th {\n",
       "        vertical-align: top;\n",
       "    }\n",
       "\n",
       "    .dataframe thead th {\n",
       "        text-align: right;\n",
       "    }\n",
       "</style>\n",
       "<table border=\"1\" class=\"dataframe\">\n",
       "  <thead>\n",
       "    <tr style=\"text-align: right;\">\n",
       "      <th>tbp_lv_location_simple</th>\n",
       "      <th>Torso Back</th>\n",
       "      <th>Torso Front</th>\n",
       "      <th>Left Leg</th>\n",
       "      <th>Right Leg</th>\n",
       "      <th>Left Arm</th>\n",
       "      <th>Head &amp; Neck</th>\n",
       "      <th>Right Arm</th>\n",
       "    </tr>\n",
       "  </thead>\n",
       "  <tbody>\n",
       "    <tr>\n",
       "      <th>0</th>\n",
       "      <td>1</td>\n",
       "      <td>0</td>\n",
       "      <td>0</td>\n",
       "      <td>0</td>\n",
       "      <td>0</td>\n",
       "      <td>0</td>\n",
       "      <td>0</td>\n",
       "    </tr>\n",
       "    <tr>\n",
       "      <th>1</th>\n",
       "      <td>1</td>\n",
       "      <td>0</td>\n",
       "      <td>0</td>\n",
       "      <td>0</td>\n",
       "      <td>0</td>\n",
       "      <td>0</td>\n",
       "      <td>0</td>\n",
       "    </tr>\n",
       "    <tr>\n",
       "      <th>2</th>\n",
       "      <td>1</td>\n",
       "      <td>0</td>\n",
       "      <td>0</td>\n",
       "      <td>0</td>\n",
       "      <td>0</td>\n",
       "      <td>0</td>\n",
       "      <td>0</td>\n",
       "    </tr>\n",
       "    <tr>\n",
       "      <th>3</th>\n",
       "      <td>0</td>\n",
       "      <td>0</td>\n",
       "      <td>0</td>\n",
       "      <td>0</td>\n",
       "      <td>0</td>\n",
       "      <td>1</td>\n",
       "      <td>0</td>\n",
       "    </tr>\n",
       "    <tr>\n",
       "      <th>4</th>\n",
       "      <td>0</td>\n",
       "      <td>0</td>\n",
       "      <td>0</td>\n",
       "      <td>0</td>\n",
       "      <td>0</td>\n",
       "      <td>0</td>\n",
       "      <td>1</td>\n",
       "    </tr>\n",
       "  </tbody>\n",
       "</table>\n",
       "</div>"
      ],
      "text/plain": [
       "tbp_lv_location_simple  Torso Back  Torso Front  Left Leg  Right Leg  \\\n",
       "0                                1            0         0          0   \n",
       "1                                1            0         0          0   \n",
       "2                                1            0         0          0   \n",
       "3                                0            0         0          0   \n",
       "4                                0            0         0          0   \n",
       "\n",
       "tbp_lv_location_simple  Left Arm  Head & Neck  Right Arm  \n",
       "0                              0            0          0  \n",
       "1                              0            0          0  \n",
       "2                              0            0          0  \n",
       "3                              0            1          0  \n",
       "4                              0            0          1  "
      ]
     },
     "execution_count": 28,
     "metadata": {},
     "output_type": "execute_result"
    }
   ],
   "source": [
    "one_hot_location = pd.Series(string_cols[\"tbp_lv_location_simple\"].value_counts().index[:-1]).apply(\n",
    "    lambda location: string_cols[\"tbp_lv_location_simple\"].apply(lambda loc: int(loc == location))).transpose()\n",
    "one_hot_location.columns = string_cols[\"tbp_lv_location_simple\"].value_counts().index[:-1]\n",
    "one_hot_location.head()\n"
   ]
  },
  {
   "cell_type": "markdown",
   "metadata": {},
   "source": [
    "Total one-hot encoded columns"
   ]
  },
  {
   "cell_type": "code",
   "execution_count": 29,
   "metadata": {},
   "outputs": [
    {
     "data": {
      "text/html": [
       "<div>\n",
       "<style scoped>\n",
       "    .dataframe tbody tr th:only-of-type {\n",
       "        vertical-align: middle;\n",
       "    }\n",
       "\n",
       "    .dataframe tbody tr th {\n",
       "        vertical-align: top;\n",
       "    }\n",
       "\n",
       "    .dataframe thead th {\n",
       "        text-align: right;\n",
       "    }\n",
       "</style>\n",
       "<table border=\"1\" class=\"dataframe\">\n",
       "  <thead>\n",
       "    <tr style=\"text-align: right;\">\n",
       "      <th></th>\n",
       "      <th>Male</th>\n",
       "      <th>Female</th>\n",
       "      <th>Torso Back</th>\n",
       "      <th>Torso Front</th>\n",
       "      <th>Left Leg</th>\n",
       "      <th>Right Leg</th>\n",
       "      <th>Left Arm</th>\n",
       "      <th>Head &amp; Neck</th>\n",
       "      <th>Right Arm</th>\n",
       "    </tr>\n",
       "  </thead>\n",
       "  <tbody>\n",
       "    <tr>\n",
       "      <th>0</th>\n",
       "      <td>1</td>\n",
       "      <td>0</td>\n",
       "      <td>1</td>\n",
       "      <td>0</td>\n",
       "      <td>0</td>\n",
       "      <td>0</td>\n",
       "      <td>0</td>\n",
       "      <td>0</td>\n",
       "      <td>0</td>\n",
       "    </tr>\n",
       "    <tr>\n",
       "      <th>1</th>\n",
       "      <td>1</td>\n",
       "      <td>0</td>\n",
       "      <td>1</td>\n",
       "      <td>0</td>\n",
       "      <td>0</td>\n",
       "      <td>0</td>\n",
       "      <td>0</td>\n",
       "      <td>0</td>\n",
       "      <td>0</td>\n",
       "    </tr>\n",
       "    <tr>\n",
       "      <th>2</th>\n",
       "      <td>1</td>\n",
       "      <td>0</td>\n",
       "      <td>1</td>\n",
       "      <td>0</td>\n",
       "      <td>0</td>\n",
       "      <td>0</td>\n",
       "      <td>0</td>\n",
       "      <td>0</td>\n",
       "      <td>0</td>\n",
       "    </tr>\n",
       "    <tr>\n",
       "      <th>3</th>\n",
       "      <td>1</td>\n",
       "      <td>0</td>\n",
       "      <td>0</td>\n",
       "      <td>0</td>\n",
       "      <td>0</td>\n",
       "      <td>0</td>\n",
       "      <td>0</td>\n",
       "      <td>1</td>\n",
       "      <td>0</td>\n",
       "    </tr>\n",
       "    <tr>\n",
       "      <th>4</th>\n",
       "      <td>1</td>\n",
       "      <td>0</td>\n",
       "      <td>0</td>\n",
       "      <td>0</td>\n",
       "      <td>0</td>\n",
       "      <td>0</td>\n",
       "      <td>0</td>\n",
       "      <td>0</td>\n",
       "      <td>1</td>\n",
       "    </tr>\n",
       "  </tbody>\n",
       "</table>\n",
       "</div>"
      ],
      "text/plain": [
       "   Male  Female  Torso Back  Torso Front  Left Leg  Right Leg  Left Arm  \\\n",
       "0     1       0           1            0         0          0         0   \n",
       "1     1       0           1            0         0          0         0   \n",
       "2     1       0           1            0         0          0         0   \n",
       "3     1       0           0            0         0          0         0   \n",
       "4     1       0           0            0         0          0         0   \n",
       "\n",
       "   Head & Neck  Right Arm  \n",
       "0            0          0  \n",
       "1            0          0  \n",
       "2            0          0  \n",
       "3            1          0  \n",
       "4            0          1  "
      ]
     },
     "execution_count": 29,
     "metadata": {},
     "output_type": "execute_result"
    }
   ],
   "source": [
    "one_hot_combined = pd.concat([numerical_sex, one_hot_location], axis=1)\n",
    "one_hot_combined.head()"
   ]
  },
  {
   "cell_type": "markdown",
   "metadata": {},
   "source": [
    "Normalizing other numerical columns to the [0, 1] range with min-max scaling"
   ]
  },
  {
   "cell_type": "code",
   "execution_count": 30,
   "metadata": {},
   "outputs": [],
   "source": [
    "numerical = train_trim.select_dtypes(include=\"number\")\n",
    "#normalize all the numerical columns except fold\n",
    "\n",
    "for column in numerical.columns:\n",
    "    if column != \"fold\":\n",
    "        numerical[column] = (numerical[column] - numerical[column].min()) / (numerical[column].max() - numerical[column].min())  "
   ]
  },
  {
   "cell_type": "markdown",
   "metadata": {},
   "source": [
    "Concat with numerical columns to get the clean data"
   ]
  },
  {
   "cell_type": "code",
   "execution_count": 31,
   "metadata": {},
   "outputs": [
    {
     "data": {
      "text/html": [
       "<div>\n",
       "<style scoped>\n",
       "    .dataframe tbody tr th:only-of-type {\n",
       "        vertical-align: middle;\n",
       "    }\n",
       "\n",
       "    .dataframe tbody tr th {\n",
       "        vertical-align: top;\n",
       "    }\n",
       "\n",
       "    .dataframe thead th {\n",
       "        text-align: right;\n",
       "    }\n",
       "</style>\n",
       "<table border=\"1\" class=\"dataframe\">\n",
       "  <thead>\n",
       "    <tr style=\"text-align: right;\">\n",
       "      <th></th>\n",
       "      <th>Male</th>\n",
       "      <th>Female</th>\n",
       "      <th>Torso Back</th>\n",
       "      <th>Torso Front</th>\n",
       "      <th>Left Leg</th>\n",
       "      <th>Right Leg</th>\n",
       "      <th>Left Arm</th>\n",
       "      <th>Head &amp; Neck</th>\n",
       "      <th>Right Arm</th>\n",
       "      <th>id</th>\n",
       "      <th>...</th>\n",
       "      <th>tbp_lv_perimeterMM</th>\n",
       "      <th>tbp_lv_radial_color_std_max</th>\n",
       "      <th>tbp_lv_stdL</th>\n",
       "      <th>tbp_lv_stdLExt</th>\n",
       "      <th>tbp_lv_symm_2axis</th>\n",
       "      <th>tbp_lv_symm_2axis_angle</th>\n",
       "      <th>tbp_lv_x</th>\n",
       "      <th>tbp_lv_y</th>\n",
       "      <th>tbp_lv_z</th>\n",
       "      <th>fold</th>\n",
       "    </tr>\n",
       "  </thead>\n",
       "  <tbody>\n",
       "    <tr>\n",
       "      <th>0</th>\n",
       "      <td>1</td>\n",
       "      <td>0</td>\n",
       "      <td>1</td>\n",
       "      <td>0</td>\n",
       "      <td>0</td>\n",
       "      <td>0</td>\n",
       "      <td>0</td>\n",
       "      <td>0</td>\n",
       "      <td>0</td>\n",
       "      <td>0.183553</td>\n",
       "      <td>...</td>\n",
       "      <td>0.114534</td>\n",
       "      <td>0.213117</td>\n",
       "      <td>0.089611</td>\n",
       "      <td>0.104561</td>\n",
       "      <td>0.260074</td>\n",
       "      <td>0.828571</td>\n",
       "      <td>0.508827</td>\n",
       "      <td>0.868698</td>\n",
       "      <td>0.859981</td>\n",
       "      <td>2</td>\n",
       "    </tr>\n",
       "    <tr>\n",
       "      <th>1</th>\n",
       "      <td>1</td>\n",
       "      <td>0</td>\n",
       "      <td>1</td>\n",
       "      <td>0</td>\n",
       "      <td>0</td>\n",
       "      <td>0</td>\n",
       "      <td>0</td>\n",
       "      <td>0</td>\n",
       "      <td>0</td>\n",
       "      <td>0.354840</td>\n",
       "      <td>...</td>\n",
       "      <td>0.046411</td>\n",
       "      <td>0.000000</td>\n",
       "      <td>0.043121</td>\n",
       "      <td>0.088989</td>\n",
       "      <td>0.404579</td>\n",
       "      <td>0.314286</td>\n",
       "      <td>0.363522</td>\n",
       "      <td>0.705062</td>\n",
       "      <td>0.773890</td>\n",
       "      <td>4</td>\n",
       "    </tr>\n",
       "    <tr>\n",
       "      <th>2</th>\n",
       "      <td>1</td>\n",
       "      <td>0</td>\n",
       "      <td>1</td>\n",
       "      <td>0</td>\n",
       "      <td>0</td>\n",
       "      <td>0</td>\n",
       "      <td>0</td>\n",
       "      <td>0</td>\n",
       "      <td>0</td>\n",
       "      <td>0.295628</td>\n",
       "      <td>...</td>\n",
       "      <td>0.084933</td>\n",
       "      <td>0.190001</td>\n",
       "      <td>0.134635</td>\n",
       "      <td>0.094890</td>\n",
       "      <td>0.139768</td>\n",
       "      <td>0.571429</td>\n",
       "      <td>0.511961</td>\n",
       "      <td>0.821222</td>\n",
       "      <td>0.671056</td>\n",
       "      <td>3</td>\n",
       "    </tr>\n",
       "    <tr>\n",
       "      <th>3</th>\n",
       "      <td>1</td>\n",
       "      <td>0</td>\n",
       "      <td>0</td>\n",
       "      <td>0</td>\n",
       "      <td>0</td>\n",
       "      <td>0</td>\n",
       "      <td>0</td>\n",
       "      <td>1</td>\n",
       "      <td>0</td>\n",
       "      <td>0.950875</td>\n",
       "      <td>...</td>\n",
       "      <td>0.178536</td>\n",
       "      <td>0.345095</td>\n",
       "      <td>0.257933</td>\n",
       "      <td>0.147470</td>\n",
       "      <td>0.451840</td>\n",
       "      <td>0.714286</td>\n",
       "      <td>0.471329</td>\n",
       "      <td>0.894031</td>\n",
       "      <td>0.209891</td>\n",
       "      <td>0</td>\n",
       "    </tr>\n",
       "    <tr>\n",
       "      <th>4</th>\n",
       "      <td>1</td>\n",
       "      <td>0</td>\n",
       "      <td>0</td>\n",
       "      <td>0</td>\n",
       "      <td>0</td>\n",
       "      <td>0</td>\n",
       "      <td>0</td>\n",
       "      <td>0</td>\n",
       "      <td>1</td>\n",
       "      <td>0.879590</td>\n",
       "      <td>...</td>\n",
       "      <td>0.022992</td>\n",
       "      <td>0.000000</td>\n",
       "      <td>0.065485</td>\n",
       "      <td>0.118731</td>\n",
       "      <td>0.295905</td>\n",
       "      <td>0.628571</td>\n",
       "      <td>0.846082</td>\n",
       "      <td>0.744215</td>\n",
       "      <td>0.529914</td>\n",
       "      <td>2</td>\n",
       "    </tr>\n",
       "  </tbody>\n",
       "</table>\n",
       "<p>5 rows × 45 columns</p>\n",
       "</div>"
      ],
      "text/plain": [
       "   Male  Female  Torso Back  Torso Front  Left Leg  Right Leg  Left Arm  \\\n",
       "0     1       0           1            0         0          0         0   \n",
       "1     1       0           1            0         0          0         0   \n",
       "2     1       0           1            0         0          0         0   \n",
       "3     1       0           0            0         0          0         0   \n",
       "4     1       0           0            0         0          0         0   \n",
       "\n",
       "   Head & Neck  Right Arm        id  ...  tbp_lv_perimeterMM  \\\n",
       "0            0          0  0.183553  ...            0.114534   \n",
       "1            0          0  0.354840  ...            0.046411   \n",
       "2            0          0  0.295628  ...            0.084933   \n",
       "3            1          0  0.950875  ...            0.178536   \n",
       "4            0          1  0.879590  ...            0.022992   \n",
       "\n",
       "   tbp_lv_radial_color_std_max  tbp_lv_stdL  tbp_lv_stdLExt  \\\n",
       "0                     0.213117     0.089611        0.104561   \n",
       "1                     0.000000     0.043121        0.088989   \n",
       "2                     0.190001     0.134635        0.094890   \n",
       "3                     0.345095     0.257933        0.147470   \n",
       "4                     0.000000     0.065485        0.118731   \n",
       "\n",
       "   tbp_lv_symm_2axis  tbp_lv_symm_2axis_angle  tbp_lv_x  tbp_lv_y  tbp_lv_z  \\\n",
       "0           0.260074                 0.828571  0.508827  0.868698  0.859981   \n",
       "1           0.404579                 0.314286  0.363522  0.705062  0.773890   \n",
       "2           0.139768                 0.571429  0.511961  0.821222  0.671056   \n",
       "3           0.451840                 0.714286  0.471329  0.894031  0.209891   \n",
       "4           0.295905                 0.628571  0.846082  0.744215  0.529914   \n",
       "\n",
       "   fold  \n",
       "0     2  \n",
       "1     4  \n",
       "2     3  \n",
       "3     0  \n",
       "4     2  \n",
       "\n",
       "[5 rows x 45 columns]"
      ]
     },
     "execution_count": 31,
     "metadata": {},
     "output_type": "execute_result"
    }
   ],
   "source": [
    "clean = pd.concat([one_hot_combined, numerical], axis=1)\n",
    "clean.head()"
   ]
  },
  {
   "cell_type": "code",
   "execution_count": 32,
   "metadata": {},
   "outputs": [
    {
     "data": {
      "text/plain": [
       "Index(['Male', 'Female', 'Torso Back', 'Torso Front', 'Left Leg', 'Right Leg',\n",
       "       'Left Arm', 'Head & Neck', 'Right Arm', 'id', 'age_approx',\n",
       "       'clin_size_long_diam_mm', 'tbp_lv_A', 'tbp_lv_Aext', 'tbp_lv_B',\n",
       "       'tbp_lv_Bext', 'tbp_lv_C', 'tbp_lv_Cext', 'tbp_lv_H', 'tbp_lv_Hext',\n",
       "       'tbp_lv_L', 'tbp_lv_Lext', 'tbp_lv_areaMM2', 'tbp_lv_area_perim_ratio',\n",
       "       'tbp_lv_color_std_mean', 'tbp_lv_deltaA', 'tbp_lv_deltaB',\n",
       "       'tbp_lv_deltaL', 'tbp_lv_deltaLB', 'tbp_lv_deltaLBnorm',\n",
       "       'tbp_lv_eccentricity', 'tbp_lv_minorAxisMM', 'tbp_lv_nevi_confidence',\n",
       "       'tbp_lv_norm_border', 'tbp_lv_norm_color', 'tbp_lv_perimeterMM',\n",
       "       'tbp_lv_radial_color_std_max', 'tbp_lv_stdL', 'tbp_lv_stdLExt',\n",
       "       'tbp_lv_symm_2axis', 'tbp_lv_symm_2axis_angle', 'tbp_lv_x', 'tbp_lv_y',\n",
       "       'tbp_lv_z', 'fold'],\n",
       "      dtype='object')"
      ]
     },
     "execution_count": 32,
     "metadata": {},
     "output_type": "execute_result"
    }
   ],
   "source": [
    "clean.columns"
   ]
  },
  {
   "cell_type": "markdown",
   "metadata": {},
   "source": [
    "Save the clean data"
   ]
  },
  {
   "cell_type": "code",
   "execution_count": 33,
   "metadata": {},
   "outputs": [],
   "source": [
    "# clean.to_csv(\"../../../clean_train-metadata.csv\", index=False)"
   ]
  },
  {
   "cell_type": "code",
   "execution_count": 34,
   "metadata": {},
   "outputs": [],
   "source": [
    "y = y[clean.index]"
   ]
  },
  {
   "cell_type": "code",
   "execution_count": 35,
   "metadata": {},
   "outputs": [
    {
     "name": "stdout",
     "output_type": "stream",
     "text": [
      "Fold 0 - AUROC: 0.8343\n",
      "Fold 0 has the best AUROC so far: 0.8343\n",
      "Fold 1 - AUROC: 0.8151\n",
      "Fold 2 - AUROC: 0.7986\n",
      "Fold 3 - AUROC: 0.8747\n",
      "Fold 3 has the best AUROC so far: 0.8747\n",
      "Fold 4 - AUROC: 0.7671\n",
      "Best probabilities saved to 'best_tabular_fold_probabilities.csv' with AUROC: 0.8747\n",
      "Best fold: 3\n"
     ]
    },
    {
     "data": {
      "image/png": "[encoded data removed]",
      "text/plain": [
       "<Figure size 800x600 with 1 Axes>"
      ]
     },
     "metadata": {},
     "output_type": "display_data"
    },
    {
     "data": {
      "image/png": "[encoded data removed]",
      "text/plain": [
       "<Figure size 600x500 with 1 Axes>"
      ]
     },
     "metadata": {},
     "output_type": "display_data"
    }
   ],
   "source": [
    "import xgboost as xgb\n",
    "import pandas as pd\n",
    "from sklearn.metrics import roc_auc_score, roc_curve, confusion_matrix\n",
    "import matplotlib.pyplot as plt\n",
    "import seaborn as sns\n",
    "\n",
    "num_parallel_tree = 4\n",
    "num_boost_round = 16\n",
    "best_auc = 0\n",
    "best_probabilities_df = None\n",
    "best_fold = -1\n",
    "best_y_test = None\n",
    "best_predicted_labels = None\n",
    "best_probabilities_df_train = None\n",
    "\n",
    "for i in range(5):\n",
    "    # Split data into training and test sets\n",
    "    X_train = clean[clean[\"fold\"] != i]\n",
    "    y_train = y[clean[\"fold\"] != i]\n",
    "    X_train = X_train.drop(\"fold\", axis=1)\n",
    "\n",
    "    X_test = clean[clean[\"fold\"] == i]\n",
    "    y_test = y[clean[\"fold\"] == i]\n",
    "    X_test = X_test.drop(\"fold\", axis=1)\n",
    "\n",
    "    # Prepare DMatrix\n",
    "    dtrain = xgb.DMatrix(data=X_train, label=y_train)\n",
    "    dtest = xgb.DMatrix(data=X_test, label=y_test)\n",
    "\n",
    "    # Train model\n",
    "    booster = xgb.train({\n",
    "        'num_parallel_tree': num_parallel_tree,\n",
    "        'subsample': 0.5,\n",
    "        'num_class': 2,  # Specify the number of classes\n",
    "        'objective': 'multi:softprob',  # Multiclass probabilities\n",
    "        'seed': 1\n",
    "    }, dtrain, num_boost_round=num_boost_round)\n",
    "\n",
    "    # Get probabilities\n",
    "    fold_probabilities = booster.predict(dtest)  # Each row contains probabilities for all classes\n",
    "    fold_probabilities_train = booster.predict(dtrain)  # Each row contains probabilities for all classes\n",
    "\n",
    "    # Store probabilities and true labels\n",
    "    probability_columns = [f\"prob_class_{j}\" for j in range(2)]  # Replace '2' with the number of classes\n",
    "    fold_probabilities_df = pd.DataFrame(fold_probabilities, columns=probability_columns)\n",
    "\n",
    "    probability_columns_train = [f\"prob_class_{j}\" for j in range(2)]  # Replace '2' with the number of classes\n",
    "    fold_probabilities_df_train = pd.DataFrame(fold_probabilities_train, columns=probability_columns_train)\n",
    "\n",
    "    # Pick class that has the highest probability\n",
    "    fold_probabilities_df[\"predicted_label\"] = fold_probabilities_df[[\"prob_class_0\", \"prob_class_1\"]].idxmax(axis=1).map({\"prob_class_0\": 0, \"prob_class_1\": 1})\n",
    "\n",
    "    fold_probabilities_df_train[\"predicted_label\"] = fold_probabilities_df_train[[\"prob_class_0\", \"prob_class_1\"]].idxmax(axis=1).map({\"prob_class_0\": 0, \"prob_class_1\": 1})\n",
    "\n",
    "    # Calculate AUROC for this fold\n",
    "    auc = roc_auc_score(y_test, fold_probabilities_df[\"predicted_label\"])\n",
    "    print(f\"Fold {i} - AUROC: {auc:.4f}\")\n",
    "\n",
    "    # Check if this is the best fold\n",
    "    if auc > best_auc:\n",
    "        best_auc = auc\n",
    "        best_probabilities_df = fold_probabilities_df[\"prob_class_1\"]\n",
    "        best_y_test = y_test\n",
    "        best_predicted_labels = fold_probabilities_df[\"predicted_label\"]\n",
    "        best_fold = i\n",
    "        best_probabilities_df_train = fold_probabilities_df_train[\"prob_class_1\"]\n",
    "        print(f\"Fold {i} has the best AUROC so far: {best_auc:.4f}\")\n",
    "\n",
    "# Save the best fold's probabilities to a CSV file\n",
    "if best_probabilities_df is not None:\n",
    "    # Rename this column to target\n",
    "    best_probabilities_df = best_probabilities_df.rename(\"target\")\n",
    "    best_probabilities_df.to_csv(\"best_tabular_fold_probabilities.csv\", index=False)\n",
    "    best_probabilities_df_train = best_probabilities_df_train.rename(\"target\")\n",
    "    best_probabilities_df_train.to_csv(\"best_tabular_fold_probabilities_train.csv\", index=False)\n",
    "    print(f\"Best probabilities saved to 'best_tabular_fold_probabilities.csv' with AUROC: {best_auc:.4f}\")\n",
    "    print(f\"Best fold: {best_fold}\")\n",
    "\n",
    "    # Plot ROC curve for the best model\n",
    "    fpr, tpr, thresholds = roc_curve(best_y_test, best_probabilities_df)\n",
    "    plt.figure(figsize=(8, 6))\n",
    "    plt.plot(fpr, tpr, color='b', label=f'ROC curve (AUROC = {best_auc:.4f})')\n",
    "    plt.plot([0, 1], [0, 1], color='r', linestyle='--')\n",
    "    plt.xlabel('False Positive Rate')\n",
    "    plt.ylabel('True Positive Rate')\n",
    "    plt.title('Receiver Operating Characteristic (ROC) Curve')\n",
    "    plt.legend(loc='lower right')\n",
    "    plt.show()\n",
    "\n",
    "    # Confusion matrix for the best fold\n",
    "    cm = confusion_matrix(best_y_test, best_predicted_labels)\n",
    "    plt.figure(figsize=(6, 5))\n",
    "    sns.heatmap(cm, annot=True, fmt='d', cmap='Blues', cbar=False, xticklabels=[0, 1], yticklabels=[0, 1])\n",
    "    plt.xlabel('Predicted Label')\n",
    "    plt.ylabel('True Label')\n",
    "    plt.title(f'Confusion Matrix for Best Fold (Fold {best_fold})')\n",
    "    plt.show()\n",
    "\n",
    "else:\n",
    "    print(\"No valid folds found.\")\n"
   ]
  },
  {
   "cell_type": "code",
   "execution_count": null,
   "metadata": {},
   "outputs": [],
   "source": []
  }
 ],
 "metadata": {
  "kernelspec": {
   "display_name": "Python 3",
   "language": "python",
   "name": "python3"
  },
  "language_info": {
   "codemirror_mode": {
    "name": "ipython",
    "version": 3
   },
   "file_extension": ".py",
   "mimetype": "text/x-python",
   "name": "python",
   "nbconvert_exporter": "python",
   "pygments_lexer": "ipython3",
   "version": "3.10.15"
  }
 },
 "nbformat": 4,
 "nbformat_minor": 4
}
